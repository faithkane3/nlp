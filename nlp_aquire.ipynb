{
 "cells": [
  {
   "cell_type": "code",
   "execution_count": 1,
   "metadata": {},
   "outputs": [],
   "source": [
    "import pandas as pd\n",
    "import numpy as np\n",
    "\n",
    "from requests import get\n",
    "import re\n",
    "from bs4 import BeautifulSoup\n",
    "import os"
   ]
  },
  {
   "cell_type": "markdown",
   "metadata": {},
   "source": [
    "### Codeup Blogs\n",
    "\n",
    "**Goals:** Write a function to scrape urls from main Codeup blog web page and write a function that returns a dictionary of blog titles and text for each blog page. \n",
    "\n",
    "#### Grab Title from Page\n",
    "\n",
    "Here I use the `.find()` method on my soup with the `<h1>` tag and its `itemprop` attribute equal to `headline`. As always, there is no one way to accomplish our task, so I'm demonstrating one way to scrape the headline, not THE way to scrape the headline. "
   ]
  },
  {
   "cell_type": "code",
   "execution_count": 3,
   "metadata": {},
   "outputs": [
    {
     "data": {
      "text/plain": [
       "True"
      ]
     },
     "execution_count": 3,
     "metadata": {},
     "output_type": "execute_result"
    }
   ],
   "source": [
    "url = 'https://codeup.com/codeups-data-science-career-accelerator-is-here/'\n",
    "headers = {'User-Agent': 'Codeup Data Science'} \n",
    "    \n",
    "response = get(url, headers=headers)\n",
    "response.ok"
   ]
  },
  {
   "cell_type": "code",
   "execution_count": 3,
   "metadata": {},
   "outputs": [
    {
     "name": "stdout",
     "output_type": "stream",
     "text": [
      "<class 'str'>\n"
     ]
    }
   ],
   "source": [
    "# Here's our long string; we'll use this to make our soup object\n",
    "\n",
    "print(type(response.text))"
   ]
  },
  {
   "cell_type": "code",
   "execution_count": 5,
   "metadata": {},
   "outputs": [
    {
     "name": "stdout",
     "output_type": "stream",
     "text": [
      "<class 'bs4.BeautifulSoup'>\n"
     ]
    }
   ],
   "source": [
    "# Use BeautifulSoup using our response string\n",
    "\n",
    "soup = BeautifulSoup(response.text, 'html.parser')\n",
    "\n",
    "# Now we have our BeautifulSoup object, we can use its built-in methods and properties\n",
    "\n",
    "print(type(soup))"
   ]
  },
  {
   "cell_type": "code",
   "execution_count": 92,
   "metadata": {},
   "outputs": [
    {
     "data": {
      "text/plain": [
       "'Codeup’s Data Science Career Accelerator is Here!'"
      ]
     },
     "execution_count": 92,
     "metadata": {},
     "output_type": "execute_result"
    }
   ],
   "source": [
    "soup.select('h1')[0].text"
   ]
  },
  {
   "cell_type": "code",
   "execution_count": 93,
   "metadata": {},
   "outputs": [
    {
     "data": {
      "text/plain": [
       "'Codeup’s Data Science Career Accelerator is Here!'"
      ]
     },
     "execution_count": 93,
     "metadata": {},
     "output_type": "execute_result"
    }
   ],
   "source": [
    "# This is what the h1 element contains. I want to access the itemprop headline\n",
    "\n",
    "title = soup.find('h1').text\n",
    "title"
   ]
  },
  {
   "cell_type": "code",
   "execution_count": 32,
   "metadata": {},
   "outputs": [
    {
     "name": "stdout",
     "output_type": "stream",
     "text": [
      "<class 'str'>\n"
     ]
    }
   ],
   "source": [
    "print(type(title))"
   ]
  },
  {
   "cell_type": "markdown",
   "metadata": {},
   "source": [
    "#### Grab Text from Page"
   ]
  },
  {
   "cell_type": "code",
   "execution_count": 96,
   "metadata": {},
   "outputs": [
    {
     "name": "stdout",
     "output_type": "stream",
     "text": [
      "The rumors are true! The time has arrived. Codeup has officially opened applications to our new Data Science career accelerator, with only 25 seats available! This immersive program is one of a kind in San Antonio, and will help you land a job in Glassdoor’s #1 Best Job in America.\n",
      "Data Science is a method of providing actionable intelligence from data. The data revolution has hit San Antonio, resulting in an explosion in Data Scientist positions across companies like USAA, Accenture, Booz Allen Hamilton, and HEB. We’ve even seen UTSA invest $70 M for a Cybersecurity Center and School of Data Science. We built a program to specifically meet the growing demands of this industry.\n",
      "Our program will be 18 weeks long, full-time, hands-on, and project-based. Our curriculum development and instruction is led by Senior Data Scientist, Maggie Giust, who has worked at HEB, Capital Group, and Rackspace, along with input from dozens of practitioners and hiring partners. Students will work with real data sets, realistic problems, and the entire data science pipeline from collection to deployment. They will receive professional development training in resume writing, interviewing, and continuing education to prepare for a smooth transition to the workforce.\n",
      "We focus on applied data science for immediate impact and ROI in a business, which is how we can back it all up with a 6 month tuition refund guarantee – just like our existing Web Dev program. We’re focusing on Data Science with Python, SQL, and ML, covered in 14 modules: 1) Fundamentals; 2) Applied statistics; 3) SQL; 4) Python; 5) Supervised machine learning – regression; 6) Supervised machine learning – classification; 7) Unsupervised machine learning – clustering; 8) Time series analysis; 9) Anomaly detection; 10) Natural language processing; 11) Distributed machine learning; 12) Advanced topics (deep learning, NoSQL, cloud deployment, etc.); 13) Storytelling with data; and 14) Domain expertise development.\n",
      "Applications are now open for Codeup’s first Data Science cohort, which will start class on February 4, 2019. Hurry – there are only 25 seats available! To further our mission of cultivating inclusive growth, scholarships will be available to women, minorities, LGBTQIA+ individuals, veterans, first responders, and people relocating to San Antonio.\n",
      "If you want to learn about joining our program or hiring our graduates, email datascience@codeup.com!\n",
      "\n",
      "\n"
     ]
    }
   ],
   "source": [
    "class_text = soup.find('div', class_=\"jupiterx-post-content\").text\n",
    "print(class_text)"
   ]
  },
  {
   "cell_type": "code",
   "execution_count": 34,
   "metadata": {},
   "outputs": [
    {
     "name": "stdout",
     "output_type": "stream",
     "text": [
      "<class 'str'>\n"
     ]
    }
   ],
   "source": [
    "print(type(content))"
   ]
  },
  {
   "cell_type": "markdown",
   "metadata": {},
   "source": [
    "#### Build Blog Function"
   ]
  },
  {
   "cell_type": "code",
   "execution_count": 35,
   "metadata": {},
   "outputs": [],
   "source": [
    "urls = ['https://codeup.com/codeups-data-science-career-accelerator-is-here/',\n",
    "        'https://codeup.com/data-science-myths/',\n",
    "        'https://codeup.com/data-science-vs-data-analytics-whats-the-difference/',\n",
    "        'https://codeup.com/10-tips-to-crush-it-at-the-sa-tech-job-fair/',\n",
    "        'https://codeup.com/competitor-bootcamps-are-closing-is-the-model-in-danger/']\n",
    "\n",
    "def get_blog_articles(urls, cached=True):\n",
    "    '''\n",
    "    This function takes in a list of Codeup Blog urls and a parameter\n",
    "    with default cache == False which returns a df from a csv file.\n",
    "    If cache == True, the function scrapes the title and text for each url, \n",
    "    creates a list of dictionaries with the title and text for each blog, \n",
    "    converts list to df, and returns df.\n",
    "    '''\n",
    "    if cached == True:\n",
    "        df = pd.read_json('big_blogs.json', index_col=0)\n",
    "    else:\n",
    "        headers = {'User-Agent': 'Codeup Bayes Data Science'} \n",
    "\n",
    "        # Create an empty list to hold dictionaries\n",
    "        articles = []\n",
    "\n",
    "        # Loop through each url in our list of urls\n",
    "        for url in urls:\n",
    "\n",
    "            # get request to each url saved in response\n",
    "            response = get(url, headers=headers)\n",
    "\n",
    "            # Create soup object from response text and parse\n",
    "            soup = BeautifulSoup(response.text, 'html.parser')\n",
    "\n",
    "            # Save the title of each blog in variable title\n",
    "            title = soup.find('h1', itemprop='headline').text\n",
    "\n",
    "            # Save the text in each blog to variable text\n",
    "            content = soup.find('div', itemprop='text').text\n",
    "\n",
    "            # Create a dictionary holding the title and content for each blog\n",
    "            article = {'title': title, 'content': content}\n",
    "\n",
    "            # Add each dictionary to the articles list of dictionaries\n",
    "            articles.append(article)\n",
    "            \n",
    "        # convert our list of dictionaries to a df\n",
    "        df = pd.DataFrame(articles)\n",
    "\n",
    "        # Write df to a json file for faster access\n",
    "        df.to_json('big_blogs.json')\n",
    "    \n",
    "    return df"
   ]
  },
  {
   "cell_type": "markdown",
   "metadata": {},
   "source": [
    "#### Test Function"
   ]
  },
  {
   "cell_type": "code",
   "execution_count": 37,
   "metadata": {},
   "outputs": [
    {
     "data": {
      "text/html": [
       "<div>\n",
       "<style scoped>\n",
       "    .dataframe tbody tr th:only-of-type {\n",
       "        vertical-align: middle;\n",
       "    }\n",
       "\n",
       "    .dataframe tbody tr th {\n",
       "        vertical-align: top;\n",
       "    }\n",
       "\n",
       "    .dataframe thead th {\n",
       "        text-align: right;\n",
       "    }\n",
       "</style>\n",
       "<table border=\"1\" class=\"dataframe\">\n",
       "  <thead>\n",
       "    <tr style=\"text-align: right;\">\n",
       "      <th></th>\n",
       "      <th>title</th>\n",
       "      <th>content</th>\n",
       "    </tr>\n",
       "  </thead>\n",
       "  <tbody>\n",
       "    <tr>\n",
       "      <th>0</th>\n",
       "      <td>Codeup’s Data Science Career Accelerator is Here!</td>\n",
       "      <td>The rumors are true! The time has arrived. Cod...</td>\n",
       "    </tr>\n",
       "    <tr>\n",
       "      <th>1</th>\n",
       "      <td>Data Science Myths</td>\n",
       "      <td>By Dimitri Antoniou and Maggie GiustData Scien...</td>\n",
       "    </tr>\n",
       "    <tr>\n",
       "      <th>2</th>\n",
       "      <td>Data Science VS Data Analytics: What’s The Dif...</td>\n",
       "      <td>By Dimitri AntoniouA week ago, Codeup launched...</td>\n",
       "    </tr>\n",
       "    <tr>\n",
       "      <th>3</th>\n",
       "      <td>10 Tips to Crush It at the SA Tech Job Fair</td>\n",
       "      <td>10 Tips to Crush It at the SA Tech Job FairSA ...</td>\n",
       "    </tr>\n",
       "    <tr>\n",
       "      <th>4</th>\n",
       "      <td>Competitor Bootcamps Are Closing. Is the Model...</td>\n",
       "      <td>Competitor Bootcamps Are Closing. Is the Model...</td>\n",
       "    </tr>\n",
       "  </tbody>\n",
       "</table>\n",
       "</div>"
      ],
      "text/plain": [
       "                                               title  \\\n",
       "0  Codeup’s Data Science Career Accelerator is Here!   \n",
       "1                                 Data Science Myths   \n",
       "2  Data Science VS Data Analytics: What’s The Dif...   \n",
       "3        10 Tips to Crush It at the SA Tech Job Fair   \n",
       "4  Competitor Bootcamps Are Closing. Is the Model...   \n",
       "\n",
       "                                             content  \n",
       "0  The rumors are true! The time has arrived. Cod...  \n",
       "1  By Dimitri Antoniou and Maggie GiustData Scien...  \n",
       "2  By Dimitri AntoniouA week ago, Codeup launched...  \n",
       "3  10 Tips to Crush It at the SA Tech Job FairSA ...  \n",
       "4  Competitor Bootcamps Are Closing. Is the Model...  "
      ]
     },
     "execution_count": 37,
     "metadata": {},
     "output_type": "execute_result"
    }
   ],
   "source": [
    "# Here cache == True, so the function will do a fresh scrape of the urls\n",
    "\n",
    "blogs = get_blog_articles(urls=urls, cached=False)\n",
    "blogs"
   ]
  },
  {
   "cell_type": "markdown",
   "metadata": {},
   "source": [
    "#### Bonus URL Scrape"
   ]
  },
  {
   "cell_type": "code",
   "execution_count": 101,
   "metadata": {},
   "outputs": [],
   "source": [
    "# I'm going to hit Codeup's main blog page to scrape the urls\n",
    "\n",
    "url = 'https://codeup.com/resources/#blog'\n",
    "headers = {'User-Agent': 'Codeup Data Science'} \n",
    "\n",
    "# Request the HTML\n",
    "response = get(url, headers=headers)\n",
    "\n",
    "# Create the soup object to parse the HTML\n",
    "soup = BeautifulSoup(response.text, 'html.parser')"
   ]
  },
  {
   "cell_type": "code",
   "execution_count": 102,
   "metadata": {},
   "outputs": [
    {
     "data": {
      "text/plain": [
       "[<a class=\"jet-listing-dynamic-link__link\" href=\"https://codeup.com/introducing-salary-refund-guarantee/\"><span class=\"jet-listing-dynamic-link__label\">Introducing Our Salary Refund Guarantee</span></a>,\n",
       " <a class=\"jet-listing-dynamic-link__link\" href=\"https://codeup.com/introducing-salary-refund-guarantee/\"><span class=\"jet-listing-dynamic-link__label\">Read More</span></a>]"
      ]
     },
     "execution_count": 102,
     "metadata": {},
     "output_type": "execute_result"
    }
   ],
   "source": [
    "# I'm using the `a` element with class_ to get a list of tag elements from my soup object\n",
    "\n",
    "link_list = soup.find_all('a', class_='jet-listing-dynamic-link__link')\n",
    "link_list[:2]"
   ]
  },
  {
   "cell_type": "code",
   "execution_count": 103,
   "metadata": {},
   "outputs": [
    {
     "name": "stdout",
     "output_type": "stream",
     "text": [
      "Our variable link_list is a <class 'bs4.element.ResultSet'>.\n",
      "Our element ResultSet is made up of <class 'bs4.element.Tag'>.\n",
      "Our ResultSet contains 40 element tags.\n"
     ]
    }
   ],
   "source": [
    "# Using find_all has returned a bs ResultSet with 99 bs tags inside\n",
    "\n",
    "print(f'Our variable link_list is a {type(link_list)}.')\n",
    "print(f'Our element ResultSet is made up of {type(link_list[0])}.')\n",
    "print(f'Our ResultSet contains {len(link_list)} element tags.')"
   ]
  },
  {
   "cell_type": "code",
   "execution_count": 104,
   "metadata": {},
   "outputs": [],
   "source": [
    "# Create empty urls list and for each tag above, grab the href/link\n",
    "# Add each link to the urls list\n",
    "\n",
    "urls = []\n",
    "for link in link_list:\n",
    "    urls.append(link.get('href'))"
   ]
  },
  {
   "cell_type": "code",
   "execution_count": 105,
   "metadata": {
    "scrolled": true
   },
   "outputs": [
    {
     "name": "stdout",
     "output_type": "stream",
     "text": [
      "40\n"
     ]
    },
    {
     "data": {
      "text/plain": [
       "['https://codeup.com/introducing-salary-refund-guarantee/',\n",
       " 'https://codeup.com/introducing-salary-refund-guarantee/',\n",
       " 'https://codeup.com/new-scholarship/',\n",
       " 'https://codeup.com/new-scholarship/',\n",
       " 'https://codeup.com/codeup-in-houston/',\n",
       " 'https://codeup.com/codeup-in-houston/',\n",
       " 'https://codeup.com/math-in-data-science/',\n",
       " 'https://codeup.com/math-in-data-science/',\n",
       " 'https://codeup.com/covid-19-data-challenge/',\n",
       " 'https://codeup.com/covid-19-data-challenge/']"
      ]
     },
     "execution_count": 105,
     "metadata": {},
     "output_type": "execute_result"
    }
   ],
   "source": [
    "# Wow, 99 links! Ready to scrape titles and text from each\n",
    "\n",
    "print(len(urls))\n",
    "urls[:10]"
   ]
  },
  {
   "cell_type": "markdown",
   "metadata": {},
   "source": [
    "#### Bonus URL Function"
   ]
  },
  {
   "cell_type": "code",
   "execution_count": 17,
   "metadata": {},
   "outputs": [],
   "source": [
    "def get_all_urls():\n",
    "    '''\n",
    "    This function scrapes all of the Codeup blog urls from\n",
    "    the main Codeup blog page and returns a list of urls.\n",
    "    '''\n",
    "    # The main Codeup blog page with all the urls\n",
    "    url = 'https://codeup.com/resources/#blog'\n",
    "    \n",
    "    headers = {'User-Agent': 'Codeup Data Science'} \n",
    "    \n",
    "    # Send request to main page and get response\n",
    "    response = get(url, headers=headers)\n",
    "    \n",
    "    # Create soup object using response\n",
    "    soup = BeautifulSoup(response.text, 'html.parser')\n",
    "    \n",
    "    # Create empty list to hold the urls for all blogs\n",
    "    urls = []\n",
    "    \n",
    "    # Create a list of the element tags that hold the href/links\n",
    "    link_list = soup.find_all('a', class_='jet-listing-dynamic-link__link')\n",
    "    \n",
    "    # get the href/link from each element tag in my list\n",
    "    for link in link_list:\n",
    "        \n",
    "        # Add the link to my urls list\n",
    "        urls.append(link.get('href'))\n",
    "        \n",
    "    return urls"
   ]
  },
  {
   "cell_type": "code",
   "execution_count": 18,
   "metadata": {},
   "outputs": [],
   "source": [
    "# Now I can use my same function with my new urls list function!\n",
    "# cache == True does a fresh scrape.\n",
    "\n",
    "big_blogs = get_blog_articles(urls=get_all_urls(), cache=True)"
   ]
  },
  {
   "cell_type": "code",
   "execution_count": 19,
   "metadata": {},
   "outputs": [
    {
     "data": {
      "text/html": [
       "<div>\n",
       "<style scoped>\n",
       "    .dataframe tbody tr th:only-of-type {\n",
       "        vertical-align: middle;\n",
       "    }\n",
       "\n",
       "    .dataframe tbody tr th {\n",
       "        vertical-align: top;\n",
       "    }\n",
       "\n",
       "    .dataframe thead th {\n",
       "        text-align: right;\n",
       "    }\n",
       "</style>\n",
       "<table border=\"1\" class=\"dataframe\">\n",
       "  <thead>\n",
       "    <tr style=\"text-align: right;\">\n",
       "      <th></th>\n",
       "      <th>title</th>\n",
       "      <th>content</th>\n",
       "    </tr>\n",
       "  </thead>\n",
       "  <tbody>\n",
       "    <tr>\n",
       "      <th>0</th>\n",
       "      <td>From Bootcamp to Bootcamp: Two Military Vetera...</td>\n",
       "      <td>Are you a veteran or active-duty military memb...</td>\n",
       "    </tr>\n",
       "    <tr>\n",
       "      <th>1</th>\n",
       "      <td>How to Get Started On Any Programming Exercise</td>\n",
       "      <td>Programming is hard. Whether you’re just begin...</td>\n",
       "    </tr>\n",
       "    <tr>\n",
       "      <th>2</th>\n",
       "      <td>The Best Path to a Career in Data Science</td>\n",
       "      <td>In our blog, “The Best Path To A Career In Sof...</td>\n",
       "    </tr>\n",
       "    <tr>\n",
       "      <th>3</th>\n",
       "      <td>Getting Hired in a Remote Environment</td>\n",
       "      <td>As a career accelerator with a tuition refund ...</td>\n",
       "    </tr>\n",
       "    <tr>\n",
       "      <th>4</th>\n",
       "      <td>The Remote Codeup Student Experience</td>\n",
       "      <td>Communities across Texas have now lived in a r...</td>\n",
       "    </tr>\n",
       "  </tbody>\n",
       "</table>\n",
       "</div>"
      ],
      "text/plain": [
       "                                               title  \\\n",
       "0  From Bootcamp to Bootcamp: Two Military Vetera...   \n",
       "1     How to Get Started On Any Programming Exercise   \n",
       "2          The Best Path to a Career in Data Science   \n",
       "3              Getting Hired in a Remote Environment   \n",
       "4               The Remote Codeup Student Experience   \n",
       "\n",
       "                                             content  \n",
       "0  Are you a veteran or active-duty military memb...  \n",
       "1  Programming is hard. Whether you’re just begin...  \n",
       "2  In our blog, “The Best Path To A Career In Sof...  \n",
       "3  As a career accelerator with a tuition refund ...  \n",
       "4  Communities across Texas have now lived in a r...  "
      ]
     },
     "execution_count": 19,
     "metadata": {},
     "output_type": "execute_result"
    }
   ],
   "source": [
    "big_blogs.head()"
   ]
  },
  {
   "cell_type": "code",
   "execution_count": 20,
   "metadata": {},
   "outputs": [
    {
     "name": "stdout",
     "output_type": "stream",
     "text": [
      "<class 'pandas.core.frame.DataFrame'>\n",
      "RangeIndex: 99 entries, 0 to 98\n",
      "Data columns (total 2 columns):\n",
      " #   Column   Non-Null Count  Dtype \n",
      "---  ------   --------------  ----- \n",
      " 0   title    99 non-null     object\n",
      " 1   content  99 non-null     object\n",
      "dtypes: object(2)\n",
      "memory usage: 1.7+ KB\n"
     ]
    }
   ],
   "source": [
    "big_blogs.info()"
   ]
  },
  {
   "cell_type": "code",
   "execution_count": 21,
   "metadata": {},
   "outputs": [
    {
     "data": {
      "text/html": [
       "<div>\n",
       "<style scoped>\n",
       "    .dataframe tbody tr th:only-of-type {\n",
       "        vertical-align: middle;\n",
       "    }\n",
       "\n",
       "    .dataframe tbody tr th {\n",
       "        vertical-align: top;\n",
       "    }\n",
       "\n",
       "    .dataframe thead th {\n",
       "        text-align: right;\n",
       "    }\n",
       "</style>\n",
       "<table border=\"1\" class=\"dataframe\">\n",
       "  <thead>\n",
       "    <tr style=\"text-align: right;\">\n",
       "      <th></th>\n",
       "      <th>title</th>\n",
       "      <th>content</th>\n",
       "    </tr>\n",
       "  </thead>\n",
       "  <tbody>\n",
       "    <tr>\n",
       "      <th>0</th>\n",
       "      <td>From Bootcamp to Bootcamp: Two Military Vetera...</td>\n",
       "      <td>Are you a veteran or active-duty military memb...</td>\n",
       "    </tr>\n",
       "    <tr>\n",
       "      <th>1</th>\n",
       "      <td>How to Get Started On Any Programming Exercise</td>\n",
       "      <td>Programming is hard. Whether you’re just begin...</td>\n",
       "    </tr>\n",
       "    <tr>\n",
       "      <th>2</th>\n",
       "      <td>The Best Path to a Career in Data Science</td>\n",
       "      <td>In our blog, “The Best Path To A Career In Sof...</td>\n",
       "    </tr>\n",
       "    <tr>\n",
       "      <th>3</th>\n",
       "      <td>Getting Hired in a Remote Environment</td>\n",
       "      <td>As a career accelerator with a tuition refund ...</td>\n",
       "    </tr>\n",
       "    <tr>\n",
       "      <th>4</th>\n",
       "      <td>The Remote Codeup Student Experience</td>\n",
       "      <td>Communities across Texas have now lived in a r...</td>\n",
       "    </tr>\n",
       "  </tbody>\n",
       "</table>\n",
       "</div>"
      ],
      "text/plain": [
       "                                               title  \\\n",
       "0  From Bootcamp to Bootcamp: Two Military Vetera...   \n",
       "1     How to Get Started On Any Programming Exercise   \n",
       "2          The Best Path to a Career in Data Science   \n",
       "3              Getting Hired in a Remote Environment   \n",
       "4               The Remote Codeup Student Experience   \n",
       "\n",
       "                                             content  \n",
       "0  Are you a veteran or active-duty military memb...  \n",
       "1  Programming is hard. Whether you’re just begin...  \n",
       "2  In our blog, “The Best Path To A Career In Sof...  \n",
       "3  As a career accelerator with a tuition refund ...  \n",
       "4  Communities across Texas have now lived in a r...  "
      ]
     },
     "execution_count": 21,
     "metadata": {},
     "output_type": "execute_result"
    }
   ],
   "source": [
    "# cache == False reads in a df from the `big_blogs.csv`.\n",
    "\n",
    "big_blogs = get_blog_articles(urls=get_all_urls(), cache=False)\n",
    "big_blogs.head()"
   ]
  },
  {
   "cell_type": "markdown",
   "metadata": {},
   "source": [
    "### Inshorts News Articles\n",
    "\n",
    "**Goal:**  Write a function that scrapes the news articles for the following topics:\n",
    "\n",
    "- Business\n",
    "\n",
    "\n",
    "- Sports\n",
    "\n",
    "\n",
    "- Technology\n",
    "\n",
    "\n",
    "- Entertainment"
   ]
  },
  {
   "cell_type": "code",
   "execution_count": 3,
   "metadata": {},
   "outputs": [
    {
     "data": {
      "text/plain": [
       "True"
      ]
     },
     "execution_count": 3,
     "metadata": {},
     "output_type": "execute_result"
    }
   ],
   "source": [
    "url = 'https://inshorts.com/en/read/entertainment'\n",
    "\n",
    "response = get(url)\n",
    "response.ok"
   ]
  },
  {
   "cell_type": "code",
   "execution_count": 4,
   "metadata": {},
   "outputs": [],
   "source": [
    "soup = BeautifulSoup(response.text, 'html.parser')"
   ]
  },
  {
   "cell_type": "markdown",
   "metadata": {},
   "source": [
    "#### Scrape News Cards from Main Page"
   ]
  },
  {
   "cell_type": "code",
   "execution_count": 24,
   "metadata": {
    "scrolled": true
   },
   "outputs": [
    {
     "name": "stdout",
     "output_type": "stream",
     "text": [
      "<class 'bs4.element.ResultSet'>\n"
     ]
    },
    {
     "data": {
      "text/plain": [
       "<div class=\"news-card z-depth-1\" itemscope=\"\" itemtype=\"http://schema.org/NewsArticle\">\n",
       "<span content=\"\" itemid=\"https://inshorts.com/en/news/prithviraj-shares-pic-of-transformation-after-having-dangerously-low-fat-percentage-1590492948306\" itemprop=\"mainEntityOfPage\" itemscope=\"\" itemtype=\"https://schema.org/WebPage\"></span>\n",
       "<span itemprop=\"author\" itemscope=\"itemscope\" itemtype=\"https://schema.org/Person\">\n",
       "<span content=\"Daisy Mowke\" itemprop=\"name\"></span>\n",
       "</span>\n",
       "<span content=\"Prithviraj shares pic of transformation after having 'dangerously low fat percentage'\" itemprop=\"description\"></span>\n",
       "<span itemprop=\"image\" itemscope=\"\" itemtype=\"https://schema.org/ImageObject\">\n",
       "<meta content=\"https://static.inshorts.com/inshorts/images/v1/variants/jpg/m/2020/05_may/26_tue/img_1590491282323_173.jpg?\" itemprop=\"url\"/>\n",
       "<meta content=\"864\" itemprop=\"width\"/>\n",
       "<meta content=\"483\" itemprop=\"height\"/>\n",
       "</span>\n",
       "<span itemprop=\"publisher\" itemscope=\"itemscope\" itemtype=\"https://schema.org/Organization\">\n",
       "<span content=\"https://inshorts.com/\" itemprop=\"url\"></span>\n",
       "<span content=\"Inshorts\" itemprop=\"name\"></span>\n",
       "<span itemprop=\"logo\" itemscope=\"\" itemtype=\"https://schema.org/ImageObject\">\n",
       "<span content=\"https://assets.inshorts.com/inshorts/images/v1/variants/jpg/m/2018/11_nov/21_wed/img_1542823931298_497.jpg\" itemprop=\"url\"></span>\n",
       "<meta content=\"400\" itemprop=\"width\"/>\n",
       "<meta content=\"60\" itemprop=\"height\"/>\n",
       "</span>\n",
       "</span>\n",
       "<div class=\"news-card-image\" style=\"background-image: url('https://static.inshorts.com/inshorts/images/v1/variants/jpg/m/2020/05_may/26_tue/img_1590491282323_173.jpg?')\">\n",
       "</div>\n",
       "<div class=\"news-card-title news-right-box\">\n",
       "<a class=\"clickable\" href=\"/en/news/prithviraj-shares-pic-of-transformation-after-having-dangerously-low-fat-percentage-1590492948306\" onclick=\"ga('send', {'hitType': 'event', 'eventCategory': 'TitleOfNews', 'eventAction': 'clicked', 'eventLabel': 'Prithviraj%20shares%20pic%20of%20transformation%20after%20having%20'dangerously%20low%20fat%20percentage')' });\" style=\"color:#44444d!important\">\n",
       "<span itemprop=\"headline\">Prithviraj shares pic of transformation after having 'dangerously low fat percentage'</span>\n",
       "</a>\n",
       "<div class=\"news-card-author-time news-card-author-time-in-title\">\n",
       "<a href=\"/prev/en/news/prithviraj-shares-pic-of-transformation-after-having-dangerously-low-fat-percentage-1590492948306\"><span class=\"short\">short</span></a> by <span class=\"author\">Daisy Mowke</span> / \n",
       "      <span class=\"time\" content=\"2020-05-26T11:35:48.000Z\" itemprop=\"datePublished\">05:05 pm</span> on <span clas=\"date\">26 May 2020,Tuesday</span>\n",
       "</div>\n",
       "</div>\n",
       "<div class=\"news-card-content news-right-box\">\n",
       "<div itemprop=\"articleBody\">South Indian actor Prithviraj Sukumaran today shared a picture of his physical transformation. \"One month since we finished the last of...bare body scenes for 'Aadujeevitham'. On the last day, I had dangerously low fat percentage and visceral fat levels,\" he wrote. Prithviraj, who was stranded in Jordan with the film crew for almost three months, returned to Kochi on Friday.</div>\n",
       "<div class=\"news-card-author-time news-card-author-time-in-content\">\n",
       "<a href=\"/prev/en/news/prithviraj-shares-pic-of-transformation-after-having-dangerously-low-fat-percentage-1590492948306\"><span class=\"short\">short</span></a> by <span class=\"author\">Daisy Mowke</span> / \n",
       "      <span class=\"time\" content=\"2020-05-26T11:35:48.000Z\" itemprop=\"dateModified\">05:05 pm</span> on <span class=\"date\">26 May</span>\n",
       "</div>\n",
       "</div>\n",
       "<div class=\"news-card-footer news-right-box\">\n",
       "<div class=\"read-more\">read more at <a class=\"source\" href=\"https://www.instagram.com/p/CApLZkbA6MN/?utm_campaign=fullarticle&amp;utm_medium=referral&amp;utm_source=inshorts \" onclick=\"ga('send', {'hitType': 'event', 'eventCategory': 'ReadMore', 'eventAction': 'clicked', 'eventLabel': 'Instagram' });\" target=\"_blank\">Instagram</a></div>\n",
       "</div>\n",
       "</div>"
      ]
     },
     "execution_count": 24,
     "metadata": {},
     "output_type": "execute_result"
    }
   ],
   "source": [
    "# Scrape a ResultSet of all the news cards on the page and look at first card\n",
    "\n",
    "cards = soup.find_all('div', class_='news-card')\n",
    "print(type(cards))\n",
    "cards[0]"
   ]
  },
  {
   "cell_type": "markdown",
   "metadata": {},
   "source": [
    "#### Scrape the Title from Each News Card"
   ]
  },
  {
   "cell_type": "code",
   "execution_count": 25,
   "metadata": {
    "scrolled": true
   },
   "outputs": [
    {
     "data": {
      "text/plain": [
       "[\"Prithviraj shares pic of transformation after having 'dangerously low fat percentage'\",\n",
       " 'Akshay Kumar resumes outdoor shooting amid lockdown; pics from set surface online',\n",
       " 'Karan Johar confirms 2 house helps tested COVID-19 +ve, says he tested -ve',\n",
       " \"Actress Preksha Mehta commits suicide at 25, wrote 'Death of dreams' in Insta story\",\n",
       " \"Nolan crashed a real plane into a real building in 'Tenet': Actor John Washington\"]"
      ]
     },
     "execution_count": 25,
     "metadata": {},
     "output_type": "execute_result"
    }
   ],
   "source": [
    "# Save the title of each news card to list titles\n",
    "\n",
    "titles = []\n",
    "for card in cards:\n",
    "    title = card.find('span', itemprop='headline').text\n",
    "    titles.append(title)\n",
    "    \n",
    "titles[:5]"
   ]
  },
  {
   "cell_type": "markdown",
   "metadata": {},
   "source": [
    "#### Scrape Author from News Cards"
   ]
  },
  {
   "cell_type": "code",
   "execution_count": 26,
   "metadata": {},
   "outputs": [
    {
     "data": {
      "text/plain": [
       "['Daisy Mowke', 'Daisy Mowke', 'Daisy Mowke', 'Daisy Mowke', 'Daisy Mowke']"
      ]
     },
     "execution_count": 26,
     "metadata": {},
     "output_type": "execute_result"
    }
   ],
   "source": [
    "# Save the author of the news card to list authors\n",
    "\n",
    "authors = []\n",
    "for card in cards:\n",
    "    author = card.find('span', class_='author').text\n",
    "    authors.append(author)\n",
    "    \n",
    "authors[:5]"
   ]
  },
  {
   "cell_type": "markdown",
   "metadata": {},
   "source": [
    "#### Scrape Text from News Cards"
   ]
  },
  {
   "cell_type": "code",
   "execution_count": 27,
   "metadata": {},
   "outputs": [
    {
     "data": {
      "text/plain": [
       "['South Indian actor Prithviraj Sukumaran today shared a picture of his physical transformation. \"One month since we finished the last of...bare body scenes for \\'Aadujeevitham\\'. On the last day, I had dangerously low fat percentage and visceral fat levels,\" he wrote. Prithviraj, who was stranded in Jordan with the film crew for almost three months, returned to Kochi on Friday.',\n",
       " 'Akshay Kumar has become the first Bollywood actor to shoot on outdoor location amid lockdown. He shot for a project with director R Balki. Several pictures and videos from the shoot have surfaced on social media in which the team, including Akshay and Balki, are seen wearing masks. They can also be seen maintaining social distancing.']"
      ]
     },
     "execution_count": 27,
     "metadata": {},
     "output_type": "execute_result"
    }
   ],
   "source": [
    "# Save the text of each article to a list of texts\n",
    "\n",
    "texts = []\n",
    "for card in cards:\n",
    "    text = card.find('div', itemprop='articleBody').text\n",
    "    texts.append(text)\n",
    "    \n",
    "texts[:2]"
   ]
  },
  {
   "cell_type": "code",
   "execution_count": 28,
   "metadata": {},
   "outputs": [],
   "source": [
    "# Create an empty list, articles, to hold the dictionaries for each article\n",
    "articles = []\n",
    "\n",
    "# Loop through each news card on the page and get what we want\n",
    "for card in cards:\n",
    "    title = card.find('span', itemprop='headline' ).text\n",
    "    author = card.find('span', class_='author').text\n",
    "    content = card.find('div', itemprop='articleBody').text\n",
    "    \n",
    "    # Create a dictionary, article, for each news card\n",
    "    article = {'title': title, 'author': author, 'content': content}\n",
    "    \n",
    "    # Add the dictionary, article, to our list of dictionaries, articles.\n",
    "    articles.append(article)"
   ]
  },
  {
   "cell_type": "code",
   "execution_count": 29,
   "metadata": {},
   "outputs": [
    {
     "name": "stdout",
     "output_type": "stream",
     "text": [
      "25\n"
     ]
    },
    {
     "data": {
      "text/plain": [
       "[{'title': \"Prithviraj shares pic of transformation after having 'dangerously low fat percentage'\",\n",
       "  'author': 'Daisy Mowke',\n",
       "  'content': 'South Indian actor Prithviraj Sukumaran today shared a picture of his physical transformation. \"One month since we finished the last of...bare body scenes for \\'Aadujeevitham\\'. On the last day, I had dangerously low fat percentage and visceral fat levels,\" he wrote. Prithviraj, who was stranded in Jordan with the film crew for almost three months, returned to Kochi on Friday.'},\n",
       " {'title': 'Akshay Kumar resumes outdoor shooting amid lockdown; pics from set surface online',\n",
       "  'author': 'Daisy Mowke',\n",
       "  'content': 'Akshay Kumar has become the first Bollywood actor to shoot on outdoor location amid lockdown. He shot for a project with director R Balki. Several pictures and videos from the shoot have surfaced on social media in which the team, including Akshay and Balki, are seen wearing masks. They can also be seen maintaining social distancing.'}]"
      ]
     },
     "execution_count": 29,
     "metadata": {},
     "output_type": "execute_result"
    }
   ],
   "source": [
    "# Here we see our list contains 24-25 dictionaries for news cards\n",
    "\n",
    "print(len(articles))\n",
    "articles[:2]"
   ]
  },
  {
   "cell_type": "markdown",
   "metadata": {},
   "source": [
    "#### Build Article Function"
   ]
  },
  {
   "cell_type": "code",
   "execution_count": 30,
   "metadata": {},
   "outputs": [],
   "source": [
    "def get_news_articles(cache=False):\n",
    "    '''\n",
    "    This function uses a cache parameter with default cache == False to give the option of \n",
    "    returning in a df of inshorts topics and info by reading a csv file or\n",
    "    of doing a fresh scrape of inshort pages with topics business, sports, technology,\n",
    "    and entertainment and writing the returned df to a csv file.\n",
    "    '''\n",
    "    # default to read in a csv instead of scrape for df\n",
    "    if cache == False:\n",
    "        df = pd.read_csv('articles.csv', index_col=0)\n",
    "        \n",
    "    # cache == True completes a fresh scrape for df    \n",
    "    else:\n",
    "    \n",
    "        # Set base_url and headers that will be used in get request\n",
    "\n",
    "        base_url = 'https://inshorts.com/en/read/'\n",
    "        headers = {'User-Agent': 'Codeup Data Science'}\n",
    "        \n",
    "        # List of topics to scrape\n",
    "        topics = ['business', 'sports', 'technology', 'entertainment']\n",
    "\n",
    "        # Create an empty list, articles, to hold our dictionaries\n",
    "        articles = []\n",
    "\n",
    "        for topic in topics:\n",
    "\n",
    "            # Get a response object from the main inshorts page\n",
    "            response = get(base_url + topic, headers=headers)\n",
    "\n",
    "            # Create soup object using response from inshort\n",
    "            soup = BeautifulSoup(response.text, 'html.parser')\n",
    "\n",
    "            # Scrape a ResultSet of all the news cards on the page\n",
    "            cards = soup.find_all('div', class_='news-card')\n",
    "\n",
    "            # Loop through each news card on the page and get what we want\n",
    "            for card in cards:\n",
    "                title = card.find('span', itemprop='headline' ).text\n",
    "                author = card.find('span', class_='author').text\n",
    "                content = card.find('div', itemprop='articleBody').text\n",
    "\n",
    "                # Create a dictionary, article, for each news card\n",
    "                article = ({'topic': topic, \n",
    "                            'title': title, \n",
    "                            'author': author, \n",
    "                            'content': content})\n",
    "\n",
    "                # Add the dictionary, article, to our list of dictionaries, articles.\n",
    "                articles.append(article)\n",
    "            \n",
    "        # Why not return it as a DataFrame?!\n",
    "        df = pd.DataFrame(articles)\n",
    "        \n",
    "        # Write df to csv for future use\n",
    "        df.to_csv('articles.csv')\n",
    "    \n",
    "    return df"
   ]
  },
  {
   "cell_type": "code",
   "execution_count": 31,
   "metadata": {},
   "outputs": [
    {
     "data": {
      "text/html": [
       "<div>\n",
       "<style scoped>\n",
       "    .dataframe tbody tr th:only-of-type {\n",
       "        vertical-align: middle;\n",
       "    }\n",
       "\n",
       "    .dataframe tbody tr th {\n",
       "        vertical-align: top;\n",
       "    }\n",
       "\n",
       "    .dataframe thead th {\n",
       "        text-align: right;\n",
       "    }\n",
       "</style>\n",
       "<table border=\"1\" class=\"dataframe\">\n",
       "  <thead>\n",
       "    <tr style=\"text-align: right;\">\n",
       "      <th></th>\n",
       "      <th>topic</th>\n",
       "      <th>title</th>\n",
       "      <th>author</th>\n",
       "      <th>content</th>\n",
       "    </tr>\n",
       "  </thead>\n",
       "  <tbody>\n",
       "    <tr>\n",
       "      <th>0</th>\n",
       "      <td>business</td>\n",
       "      <td>Firm whose stock surged 1000% in 2020 starts h...</td>\n",
       "      <td>Krishna Veera Vanamali</td>\n",
       "      <td>US biotech company Novavax said it has started...</td>\n",
       "    </tr>\n",
       "    <tr>\n",
       "      <th>1</th>\n",
       "      <td>business</td>\n",
       "      <td>India's economic growth seen at 1.2% in Q4 FY2...</td>\n",
       "      <td>Dharna</td>\n",
       "      <td>India's economy is estimated to have grown at ...</td>\n",
       "    </tr>\n",
       "    <tr>\n",
       "      <th>2</th>\n",
       "      <td>business</td>\n",
       "      <td>TVS Motor cuts employees' salaries by up to 20...</td>\n",
       "      <td>Dharna</td>\n",
       "      <td>TVS Motor Company has said it is cutting the s...</td>\n",
       "    </tr>\n",
       "    <tr>\n",
       "      <th>3</th>\n",
       "      <td>business</td>\n",
       "      <td>Lockdown extensions won't help, cases will con...</td>\n",
       "      <td>Anushka Dixit</td>\n",
       "      <td>Mahindra Group Chairman Anand Mahindra said th...</td>\n",
       "    </tr>\n",
       "    <tr>\n",
       "      <th>4</th>\n",
       "      <td>business</td>\n",
       "      <td>Uber India fires 600 employees reducing 25% of...</td>\n",
       "      <td>Dharna</td>\n",
       "      <td>Uber is firing 600 employees in India, or 25% ...</td>\n",
       "    </tr>\n",
       "  </tbody>\n",
       "</table>\n",
       "</div>"
      ],
      "text/plain": [
       "      topic                                              title  \\\n",
       "0  business  Firm whose stock surged 1000% in 2020 starts h...   \n",
       "1  business  India's economic growth seen at 1.2% in Q4 FY2...   \n",
       "2  business  TVS Motor cuts employees' salaries by up to 20...   \n",
       "3  business  Lockdown extensions won't help, cases will con...   \n",
       "4  business  Uber India fires 600 employees reducing 25% of...   \n",
       "\n",
       "                   author                                            content  \n",
       "0  Krishna Veera Vanamali  US biotech company Novavax said it has started...  \n",
       "1                  Dharna  India's economy is estimated to have grown at ...  \n",
       "2                  Dharna  TVS Motor Company has said it is cutting the s...  \n",
       "3           Anushka Dixit  Mahindra Group Chairman Anand Mahindra said th...  \n",
       "4                  Dharna  Uber is firing 600 employees in India, or 25% ...  "
      ]
     },
     "execution_count": 31,
     "metadata": {},
     "output_type": "execute_result"
    }
   ],
   "source": [
    "# Test our function with cache == True to do a freash scrape and write to `articles.csv`\n",
    "\n",
    "df = get_news_articles(cache=True)\n",
    "df.head()"
   ]
  },
  {
   "cell_type": "code",
   "execution_count": 32,
   "metadata": {},
   "outputs": [
    {
     "data": {
      "text/plain": [
       "sports           25\n",
       "business         25\n",
       "entertainment    25\n",
       "technology       24\n",
       "Name: topic, dtype: int64"
      ]
     },
     "execution_count": 32,
     "metadata": {},
     "output_type": "execute_result"
    }
   ],
   "source": [
    "df.topic.value_counts()"
   ]
  },
  {
   "cell_type": "code",
   "execution_count": 33,
   "metadata": {},
   "outputs": [
    {
     "name": "stdout",
     "output_type": "stream",
     "text": [
      "<class 'pandas.core.frame.DataFrame'>\n",
      "RangeIndex: 99 entries, 0 to 98\n",
      "Data columns (total 4 columns):\n",
      " #   Column   Non-Null Count  Dtype \n",
      "---  ------   --------------  ----- \n",
      " 0   topic    99 non-null     object\n",
      " 1   title    99 non-null     object\n",
      " 2   author   99 non-null     object\n",
      " 3   content  99 non-null     object\n",
      "dtypes: object(4)\n",
      "memory usage: 3.2+ KB\n"
     ]
    }
   ],
   "source": [
    "df.info()"
   ]
  },
  {
   "cell_type": "code",
   "execution_count": 34,
   "metadata": {},
   "outputs": [
    {
     "data": {
      "text/html": [
       "<div>\n",
       "<style scoped>\n",
       "    .dataframe tbody tr th:only-of-type {\n",
       "        vertical-align: middle;\n",
       "    }\n",
       "\n",
       "    .dataframe tbody tr th {\n",
       "        vertical-align: top;\n",
       "    }\n",
       "\n",
       "    .dataframe thead th {\n",
       "        text-align: right;\n",
       "    }\n",
       "</style>\n",
       "<table border=\"1\" class=\"dataframe\">\n",
       "  <thead>\n",
       "    <tr style=\"text-align: right;\">\n",
       "      <th></th>\n",
       "      <th>topic</th>\n",
       "      <th>title</th>\n",
       "      <th>author</th>\n",
       "      <th>content</th>\n",
       "    </tr>\n",
       "  </thead>\n",
       "  <tbody>\n",
       "    <tr>\n",
       "      <th>0</th>\n",
       "      <td>business</td>\n",
       "      <td>Firm whose stock surged 1000% in 2020 starts h...</td>\n",
       "      <td>Krishna Veera Vanamali</td>\n",
       "      <td>US biotech company Novavax said it has started...</td>\n",
       "    </tr>\n",
       "    <tr>\n",
       "      <th>1</th>\n",
       "      <td>business</td>\n",
       "      <td>India's economic growth seen at 1.2% in Q4 FY2...</td>\n",
       "      <td>Dharna</td>\n",
       "      <td>India's economy is estimated to have grown at ...</td>\n",
       "    </tr>\n",
       "    <tr>\n",
       "      <th>2</th>\n",
       "      <td>business</td>\n",
       "      <td>TVS Motor cuts employees' salaries by up to 20...</td>\n",
       "      <td>Dharna</td>\n",
       "      <td>TVS Motor Company has said it is cutting the s...</td>\n",
       "    </tr>\n",
       "    <tr>\n",
       "      <th>3</th>\n",
       "      <td>business</td>\n",
       "      <td>Lockdown extensions won't help, cases will con...</td>\n",
       "      <td>Anushka Dixit</td>\n",
       "      <td>Mahindra Group Chairman Anand Mahindra said th...</td>\n",
       "    </tr>\n",
       "    <tr>\n",
       "      <th>4</th>\n",
       "      <td>business</td>\n",
       "      <td>Uber India fires 600 employees reducing 25% of...</td>\n",
       "      <td>Dharna</td>\n",
       "      <td>Uber is firing 600 employees in India, or 25% ...</td>\n",
       "    </tr>\n",
       "  </tbody>\n",
       "</table>\n",
       "</div>"
      ],
      "text/plain": [
       "      topic                                              title  \\\n",
       "0  business  Firm whose stock surged 1000% in 2020 starts h...   \n",
       "1  business  India's economic growth seen at 1.2% in Q4 FY2...   \n",
       "2  business  TVS Motor cuts employees' salaries by up to 20...   \n",
       "3  business  Lockdown extensions won't help, cases will con...   \n",
       "4  business  Uber India fires 600 employees reducing 25% of...   \n",
       "\n",
       "                   author                                            content  \n",
       "0  Krishna Veera Vanamali  US biotech company Novavax said it has started...  \n",
       "1                  Dharna  India's economy is estimated to have grown at ...  \n",
       "2                  Dharna  TVS Motor Company has said it is cutting the s...  \n",
       "3           Anushka Dixit  Mahindra Group Chairman Anand Mahindra said th...  \n",
       "4                  Dharna  Uber is firing 600 employees in India, or 25% ...  "
      ]
     },
     "execution_count": 34,
     "metadata": {},
     "output_type": "execute_result"
    }
   ],
   "source": [
    "# Test our function to read in the df from `articles.csv`\n",
    "\n",
    "df = get_news_articles(cache=False)\n",
    "df.head()"
   ]
  },
  {
   "cell_type": "code",
   "execution_count": 35,
   "metadata": {},
   "outputs": [
    {
     "name": "stdout",
     "output_type": "stream",
     "text": [
      "<class 'pandas.core.frame.DataFrame'>\n",
      "Int64Index: 99 entries, 0 to 98\n",
      "Data columns (total 4 columns):\n",
      " #   Column   Non-Null Count  Dtype \n",
      "---  ------   --------------  ----- \n",
      " 0   topic    99 non-null     object\n",
      " 1   title    99 non-null     object\n",
      " 2   author   99 non-null     object\n",
      " 3   content  99 non-null     object\n",
      "dtypes: object(4)\n",
      "memory usage: 3.9+ KB\n"
     ]
    }
   ],
   "source": [
    "df.info()"
   ]
  }
 ],
 "metadata": {
  "kernelspec": {
   "display_name": "Python 3",
   "language": "python",
   "name": "python3"
  },
  "language_info": {
   "codemirror_mode": {
    "name": "ipython",
    "version": 3
   },
   "file_extension": ".py",
   "mimetype": "text/x-python",
   "name": "python",
   "nbconvert_exporter": "python",
   "pygments_lexer": "ipython3",
   "version": "3.7.4"
  },
  "toc": {
   "base_numbering": 1,
   "nav_menu": {},
   "number_sections": false,
   "sideBar": true,
   "skip_h1_title": true,
   "title_cell": "Table of Contents",
   "title_sidebar": "Contents",
   "toc_cell": false,
   "toc_position": {
    "height": "calc(100% - 180px)",
    "left": "10px",
    "top": "150px",
    "width": "200px"
   },
   "toc_section_display": true,
   "toc_window_display": true
  }
 },
 "nbformat": 4,
 "nbformat_minor": 4
}
