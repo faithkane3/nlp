{
 "cells": [
  {
   "cell_type": "markdown",
   "metadata": {},
   "source": [
    "# Set-up and Workflow"
   ]
  },
  {
   "cell_type": "markdown",
   "metadata": {},
   "source": [
    "### Import the packages"
   ]
  },
  {
   "cell_type": "code",
   "execution_count": 3,
   "metadata": {},
   "outputs": [],
   "source": [
    "# Load the packages\n",
    "import requests\n",
    "from bs4 import BeautifulSoup"
   ]
  },
  {
   "cell_type": "markdown",
   "metadata": {},
   "source": [
    "### Make a GET request"
   ]
  },
  {
   "cell_type": "code",
   "execution_count": 4,
   "metadata": {},
   "outputs": [],
   "source": [
    "# Define the url of the site\n",
    "\n",
    "base_url = \"https://en.wikipedia.org/wiki/Music\""
   ]
  },
  {
   "cell_type": "code",
   "execution_count": 6,
   "metadata": {},
   "outputs": [
    {
     "data": {
      "text/plain": [
       "200"
      ]
     },
     "execution_count": 6,
     "metadata": {},
     "output_type": "execute_result"
    }
   ],
   "source": [
    "# Make a get request\n",
    "\n",
    "response = requests.get(base_url)\n",
    "response.status_code"
   ]
  },
  {
   "cell_type": "code",
   "execution_count": 11,
   "metadata": {},
   "outputs": [],
   "source": [
    "# Extract the HTML\n",
    "\n",
    "html = response.text"
   ]
  },
  {
   "cell_type": "code",
   "execution_count": 12,
   "metadata": {},
   "outputs": [
    {
     "data": {
      "text/plain": [
       "'<!DOCTYPE html>\\n<html class=\"client-nojs\" lang=\"en\" dir=\"ltr\">\\n<head>\\n<meta charset=\"UTF-8\"/>\\n<title'"
      ]
     },
     "execution_count": 12,
     "metadata": {},
     "output_type": "execute_result"
    }
   ],
   "source": [
    "# Check the HTML code.\n",
    "\n",
    "html[:100]"
   ]
  },
  {
   "cell_type": "markdown",
   "metadata": {},
   "source": [
    "### Make the soup"
   ]
  },
  {
   "cell_type": "code",
   "execution_count": 13,
   "metadata": {},
   "outputs": [],
   "source": [
    "# Convert HTML to a BeautifulSoup object.\n",
    "\n",
    "soup = BeautifulSoup(html, \"html.parser\")"
   ]
  },
  {
   "cell_type": "markdown",
   "metadata": {},
   "source": [
    "# Search and navigate the HTML tree"
   ]
  },
  {
   "cell_type": "markdown",
   "metadata": {},
   "source": [
    "## Search using `.find()` & `.find_all()`"
   ]
  },
  {
   "cell_type": "code",
   "execution_count": 14,
   "metadata": {
    "scrolled": true
   },
   "outputs": [
    {
     "data": {
      "text/plain": [
       "<head>\n",
       "<meta charset=\"utf-8\"/>\n",
       "<title>Music - Wikipedia</title>\n",
       "<script>document.documentElement.className=\"client-js\";RLCONF={\"wgBreakFrames\":!1,\"wgSeparatorTransformTable\":[\"\",\"\"],\"wgDigitTransformTable\":[\"\",\"\"],\"wgDefaultDateFormat\":\"dmy\",\"wgMonthNames\":[\"\",\"January\",\"February\",\"March\",\"April\",\"May\",\"June\",\"July\",\"August\",\"September\",\"October\",\"November\",\"December\"],\"wgRequestId\":\"a775537a-e26c-47b7-b61e-501f6d808702\",\"wgCSPNonce\":!1,\"wgCanonicalNamespace\":\"\",\"wgCanonicalSpecialPageName\":!1,\"wgNamespaceNumber\":0,\"wgPageName\":\"Music\",\"wgTitle\":\"Music\",\"wgCurRevisionId\":984758011,\"wgRevisionId\":984758011,\"wgArticleId\":18839,\"wgIsArticle\":!0,\"wgIsRedirect\":!1,\"wgAction\":\"view\",\"wgUserName\":null,\"wgUserGroups\":[\"*\"],\"wgCategories\":[\"All articles with incomplete citations\",\"Articles with incomplete citations from July 2019\",\"CS1 maint: archived copy as title\",\"CS1: Julian–Gregorian uncertainty\",\"Webarchive template wayback links\",\"Pages containing links to subscription-only content\",\"CS1 maint: ref=harv\",\n",
       "\"Wikipedia articles needing time reference citations from February 2020\",\"Wikipedia indefinitely semi-protected pages\",\"Wikipedia indefinitely move-protected pages\",\"Articles with short description\",\"Short description is different from Wikidata\",\"All articles with unsourced statements\",\"Articles with unsourced statements from September 2015\",\"Articles with unsourced statements from September 2011\",\"Articles with hAudio microformats\",\"Articles with unsourced quotes\",\"Articles with unsourced statements from July 2019\",\"Articles with unsourced statements from May 2007\",\"Articles with unsourced statements from January 2012\",\"Articles with unsourced statements from April 2016\",\"All pages needing factual verification\",\"Wikipedia articles needing factual verification from May 2011\",\"Pages with citations lacking titles\",\"Wikipedia articles incorporating the Cite Grove template\",\"Wikipedia articles incorporating the Cite Grove template without a link parameter\",\n",
       "\"Articles with Encyclopædia Britannica links\",\"Wikipedia articles with GND identifiers\",\"Wikipedia articles with HDS identifiers\",\"Wikipedia articles with LCCN identifiers\",\"Wikipedia articles with NARA identifiers\",\"Wikipedia articles with NDL identifiers\",\"Music\",\"Main topic articles\",\"Performing arts\",\"Sound\"],\"wgPageContentLanguage\":\"en\",\"wgPageContentModel\":\"wikitext\",\"wgRelevantPageName\":\"Music\",\"wgRelevantArticleId\":18839,\"wgIsProbablyEditable\":!1,\"wgRelevantPageIsProbablyEditable\":!1,\"wgRestrictionEdit\":[\"autoconfirmed\"],\"wgRestrictionMove\":[\"sysop\"],\"wgMediaViewerOnClick\":!0,\"wgMediaViewerEnabledByDefault\":!0,\"wgPopupsReferencePreviews\":!1,\"wgPopupsConflictsWithNavPopupGadget\":!1,\"wgVisualEditor\":{\"pageLanguageCode\":\"en\",\"pageLanguageDir\":\"ltr\",\"pageVariantFallbacks\":\"en\"},\"wgMFDisplayWikibaseDescriptions\":{\"search\":!0,\"nearby\":!0,\"watchlist\":!0,\"tagline\":!1},\"wgWMESchemaEditAttemptStepOversample\":!1,\"wgULSCurrentAutonym\":\"English\",\n",
       "\"wgNoticeProject\":\"wikipedia\",\"wgCentralAuthMobileDomain\":!1,\"wgEditSubmitButtonLabelPublish\":!0,\"wgULSPosition\":\"interlanguage\",\"wgWikibaseItemId\":\"Q638\"};RLSTATE={\"ext.globalCssJs.user.styles\":\"ready\",\"site.styles\":\"ready\",\"noscript\":\"ready\",\"user.styles\":\"ready\",\"ext.globalCssJs.user\":\"ready\",\"user\":\"ready\",\"user.options\":\"loading\",\"ext.cite.styles\":\"ready\",\"ext.tmh.thumbnail.styles\":\"ready\",\"skins.vector.styles.legacy\":\"ready\",\"jquery.makeCollapsible.styles\":\"ready\",\"mediawiki.toc.styles\":\"ready\",\"ext.visualEditor.desktopArticleTarget.noscript\":\"ready\",\"ext.uls.interlanguage\":\"ready\",\"ext.wikimediaBadges\":\"ready\",\"wikibase.client.init\":\"ready\"};RLPAGEMODULES=[\"ext.cite.ux-enhancements\",\"mw.MediaWikiPlayer.loader\",\"mw.PopUpMediaTransform\",\"mw.TMHGalleryHook.js\",\"site\",\"mediawiki.page.ready\",\"jquery.makeCollapsible\",\"mediawiki.toc\",\"skins.vector.legacy.js\",\"ext.gadget.ReferenceTooltips\",\"ext.gadget.charinsert\",\"ext.gadget.extra-toolbar-buttons\",\"ext.gadget.refToolbar\",\n",
       "\"ext.gadget.switcher\",\"ext.centralauth.centralautologin\",\"mmv.head\",\"mmv.bootstrap.autostart\",\"ext.popups\",\"ext.visualEditor.desktopArticleTarget.init\",\"ext.visualEditor.targetLoader\",\"ext.eventLogging\",\"ext.wikimediaEvents\",\"ext.navigationTiming\",\"ext.uls.compactlinks\",\"ext.uls.interface\",\"ext.cx.eventlogging.campaigns\",\"ext.quicksurveys.init\",\"ext.centralNotice.geoIP\",\"ext.centralNotice.startUp\"];</script>\n",
       "<script>(RLQ=window.RLQ||[]).push(function(){mw.loader.implement(\"user.options@1hzgi\",function($,jQuery,require,module){/*@nomin*/mw.user.tokens.set({\"patrolToken\":\"+\\\\\",\"watchToken\":\"+\\\\\",\"csrfToken\":\"+\\\\\"});\n",
       "});});</script>\n",
       "<link href=\"/w/load.php?lang=en&amp;modules=ext.cite.styles%7Cext.tmh.thumbnail.styles%7Cext.uls.interlanguage%7Cext.visualEditor.desktopArticleTarget.noscript%7Cext.wikimediaBadges%7Cjquery.makeCollapsible.styles%7Cmediawiki.toc.styles%7Cskins.vector.styles.legacy%7Cwikibase.client.init&amp;only=styles&amp;skin=vector\" rel=\"stylesheet\"/>\n",
       "<script async=\"\" src=\"/w/load.php?lang=en&amp;modules=startup&amp;only=scripts&amp;raw=1&amp;skin=vector\"></script>\n",
       "<meta content=\"\" name=\"ResourceLoaderDynamicStyles\"/>\n",
       "<link href=\"/w/load.php?lang=en&amp;modules=site.styles&amp;only=styles&amp;skin=vector\" rel=\"stylesheet\"/>\n",
       "<meta content=\"MediaWiki 1.36.0-wmf.16\" name=\"generator\"/>\n",
       "<meta content=\"origin\" name=\"referrer\"/>\n",
       "<meta content=\"origin-when-crossorigin\" name=\"referrer\"/>\n",
       "<meta content=\"origin-when-cross-origin\" name=\"referrer\"/>\n",
       "<meta content=\"https://upload.wikimedia.org/wikipedia/commons/thumb/d/dd/Fran%C3%A7ois_Boucher%2C_Allegory_of_Music%2C_1764%2C_NGA_32680.jpg/1200px-Fran%C3%A7ois_Boucher%2C_Allegory_of_Music%2C_1764%2C_NGA_32680.jpg\" property=\"og:image\"/>\n",
       "<link href=\"//upload.wikimedia.org\" rel=\"preconnect\"/>\n",
       "<link href=\"//en.m.wikipedia.org/wiki/Music\" media=\"only screen and (max-width: 720px)\" rel=\"alternate\"/>\n",
       "<link href=\"/static/apple-touch/wikipedia.png\" rel=\"apple-touch-icon\"/>\n",
       "<link href=\"/static/favicon/wikipedia.ico\" rel=\"shortcut icon\"/>\n",
       "<link href=\"/w/opensearch_desc.php\" rel=\"search\" title=\"Wikipedia (en)\" type=\"application/opensearchdescription+xml\"/>\n",
       "<link href=\"//en.wikipedia.org/w/api.php?action=rsd\" rel=\"EditURI\" type=\"application/rsd+xml\"/>\n",
       "<link href=\"//creativecommons.org/licenses/by-sa/3.0/\" rel=\"license\"/>\n",
       "<link href=\"https://en.wikipedia.org/wiki/Music\" rel=\"canonical\"/>\n",
       "<link href=\"//login.wikimedia.org\" rel=\"dns-prefetch\"/>\n",
       "<link href=\"//meta.wikimedia.org\" rel=\"dns-prefetch\"/>\n",
       "</head>"
      ]
     },
     "execution_count": 14,
     "metadata": {},
     "output_type": "execute_result"
    }
   ],
   "source": [
    "# We can search by tag name; this returns the head element's contents and nested elements.\n",
    "\n",
    "soup.find('head')"
   ]
  },
  {
   "cell_type": "code",
   "execution_count": 16,
   "metadata": {},
   "outputs": [
    {
     "name": "stdout",
     "output_type": "stream",
     "text": [
      "None\n"
     ]
    }
   ],
   "source": [
    "# Returns `None` if the tag doesn't exist.\n",
    "\n",
    "print(soup.find('not_a_tag'))"
   ]
  },
  {
   "cell_type": "code",
   "execution_count": 17,
   "metadata": {},
   "outputs": [
    {
     "data": {
      "text/plain": [
       "<a id=\"top\"></a>"
      ]
     },
     "execution_count": 17,
     "metadata": {},
     "output_type": "execute_result"
    }
   ],
   "source": [
    "# Return the first anchor element.\n",
    "\n",
    "soup.find('a')"
   ]
  },
  {
   "cell_type": "code",
   "execution_count": 20,
   "metadata": {},
   "outputs": [
    {
     "data": {
      "text/plain": [
       "[<a id=\"top\"></a>,\n",
       " <a href=\"/wiki/Wikipedia:Protection_policy#semi\" title=\"This article is semi-protected.\"><img alt=\"Page semi-protected\" data-file-height=\"512\" data-file-width=\"512\" decoding=\"async\" height=\"20\" src=\"//upload.wikimedia.org/wikipedia/en/thumb/1/1b/Semi-protection-shackle.svg/20px-Semi-protection-shackle.svg.png\" srcset=\"//upload.wikimedia.org/wikipedia/en/thumb/1/1b/Semi-protection-shackle.svg/30px-Semi-protection-shackle.svg.png 1.5x, //upload.wikimedia.org/wikipedia/en/thumb/1/1b/Semi-protection-shackle.svg/40px-Semi-protection-shackle.svg.png 2x\" width=\"20\"/></a>,\n",
       " <a class=\"mw-jump-link\" href=\"#mw-head\">Jump to navigation</a>]"
      ]
     },
     "execution_count": 20,
     "metadata": {},
     "output_type": "execute_result"
    }
   ],
   "source": [
    "# Return all of the anchor elements on the page.\n",
    "\n",
    "links = soup.find_all('a')\n",
    "links[:3]"
   ]
  },
  {
   "cell_type": "code",
   "execution_count": 21,
   "metadata": {},
   "outputs": [
    {
     "data": {
      "text/plain": [
       "[]"
      ]
     },
     "execution_count": 21,
     "metadata": {},
     "output_type": "execute_result"
    }
   ],
   "source": [
    "# If no result is found, it returns an empty list.\n",
    "\n",
    "soup.find_all('not_a_tag')"
   ]
  },
  {
   "cell_type": "code",
   "execution_count": 22,
   "metadata": {},
   "outputs": [
    {
     "data": {
      "text/plain": [
       "2477"
      ]
     },
     "execution_count": 22,
     "metadata": {},
     "output_type": "execute_result"
    }
   ],
   "source": [
    "# How many links are on the page?\n",
    "\n",
    "len(links)"
   ]
  },
  {
   "cell_type": "code",
   "execution_count": 23,
   "metadata": {},
   "outputs": [],
   "source": [
    "# Let's store the body of a table in a table variable.\n",
    "\n",
    "table = soup.find('tbody')"
   ]
  },
  {
   "cell_type": "code",
   "execution_count": 24,
   "metadata": {},
   "outputs": [
    {
     "data": {
      "text/plain": [
       "<tbody><tr><th colspan=\"2\" style=\"text-align:center;font-size:125%;font-weight:bold;background:antiquewhite;\">Music</th></tr><tr><td colspan=\"2\" style=\"text-align:center\"><a class=\"image\" href=\"/wiki/File:Fran%C3%A7ois_Boucher,_Allegory_of_Music,_1764,_NGA_32680.jpg\"><img alt=\"François Boucher, Allegory of Music, 1764, NGA 32680.jpg\" data-file-height=\"3189\" data-file-width=\"4000\" decoding=\"async\" height=\"175\" src=\"//upload.wikimedia.org/wikipedia/commons/thumb/d/dd/Fran%C3%A7ois_Boucher%2C_Allegory_of_Music%2C_1764%2C_NGA_32680.jpg/220px-Fran%C3%A7ois_Boucher%2C_Allegory_of_Music%2C_1764%2C_NGA_32680.jpg\" srcset=\"//upload.wikimedia.org/wikipedia/commons/thumb/d/dd/Fran%C3%A7ois_Boucher%2C_Allegory_of_Music%2C_1764%2C_NGA_32680.jpg/330px-Fran%C3%A7ois_Boucher%2C_Allegory_of_Music%2C_1764%2C_NGA_32680.jpg 1.5x, //upload.wikimedia.org/wikipedia/commons/thumb/d/dd/Fran%C3%A7ois_Boucher%2C_Allegory_of_Music%2C_1764%2C_NGA_32680.jpg/440px-Fran%C3%A7ois_Boucher%2C_Allegory_of_Music%2C_1764%2C_NGA_32680.jpg 2x\" width=\"220\"/></a><div>Allegory of Music, by <a href=\"/wiki/Fran%C3%A7ois_Boucher\" title=\"François Boucher\">François Boucher</a>, 1764</div></td></tr><tr><th scope=\"row\">Medium</th><td><a href=\"/wiki/Sound\" title=\"Sound\">sound</a>, silence, time</td></tr><tr><th scope=\"row\">Types</th><td><a href=\"/wiki/Music_genre\" title=\"Music genre\">genres</a></td></tr><tr><th scope=\"row\">Originating culture</th><td>various</td></tr><tr><th scope=\"row\">Originating era</th><td><a href=\"/wiki/Paleolithic\" title=\"Paleolithic\">Paleolithic</a> era</td></tr></tbody>"
      ]
     },
     "execution_count": 24,
     "metadata": {},
     "output_type": "execute_result"
    }
   ],
   "source": [
    "# Inspect the value of the variable\n",
    "table"
   ]
  },
  {
   "cell_type": "code",
   "execution_count": 25,
   "metadata": {},
   "outputs": [
    {
     "data": {
      "text/plain": [
       "bs4.element.Tag"
      ]
     },
     "execution_count": 25,
     "metadata": {},
     "output_type": "execute_result"
    }
   ],
   "source": [
    "# Inspect the type of the variable.\n",
    "\n",
    "type(table)"
   ]
  },
  {
   "cell_type": "code",
   "execution_count": 26,
   "metadata": {
    "scrolled": true
   },
   "outputs": [
    {
     "data": {
      "text/plain": [
       "[<td colspan=\"2\" style=\"text-align:center\"><a class=\"image\" href=\"/wiki/File:Fran%C3%A7ois_Boucher,_Allegory_of_Music,_1764,_NGA_32680.jpg\"><img alt=\"François Boucher, Allegory of Music, 1764, NGA 32680.jpg\" data-file-height=\"3189\" data-file-width=\"4000\" decoding=\"async\" height=\"175\" src=\"//upload.wikimedia.org/wikipedia/commons/thumb/d/dd/Fran%C3%A7ois_Boucher%2C_Allegory_of_Music%2C_1764%2C_NGA_32680.jpg/220px-Fran%C3%A7ois_Boucher%2C_Allegory_of_Music%2C_1764%2C_NGA_32680.jpg\" srcset=\"//upload.wikimedia.org/wikipedia/commons/thumb/d/dd/Fran%C3%A7ois_Boucher%2C_Allegory_of_Music%2C_1764%2C_NGA_32680.jpg/330px-Fran%C3%A7ois_Boucher%2C_Allegory_of_Music%2C_1764%2C_NGA_32680.jpg 1.5x, //upload.wikimedia.org/wikipedia/commons/thumb/d/dd/Fran%C3%A7ois_Boucher%2C_Allegory_of_Music%2C_1764%2C_NGA_32680.jpg/440px-Fran%C3%A7ois_Boucher%2C_Allegory_of_Music%2C_1764%2C_NGA_32680.jpg 2x\" width=\"220\"/></a><div>Allegory of Music, by <a href=\"/wiki/Fran%C3%A7ois_Boucher\" title=\"François Boucher\">François Boucher</a>, 1764</div></td>,\n",
       " <td><a href=\"/wiki/Sound\" title=\"Sound\">sound</a>, silence, time</td>,\n",
       " <td><a href=\"/wiki/Music_genre\" title=\"Music genre\">genres</a></td>,\n",
       " <td>various</td>,\n",
       " <td><a href=\"/wiki/Paleolithic\" title=\"Paleolithic\">Paleolithic</a> era</td>]"
      ]
     },
     "execution_count": 26,
     "metadata": {},
     "output_type": "execute_result"
    }
   ],
   "source": [
    "# A tag can be searched in the same way we search the whole document.\n",
    "\n",
    "table.find_all('td')"
   ]
  },
  {
   "cell_type": "code",
   "execution_count": 28,
   "metadata": {},
   "outputs": [
    {
     "data": {
      "text/plain": [
       "5"
      ]
     },
     "execution_count": 28,
     "metadata": {},
     "output_type": "execute_result"
    }
   ],
   "source": [
    "# Since we used find_all, the result is a list of tables.\n",
    "\n",
    "len(table.find_all('td'))"
   ]
  },
  {
   "cell_type": "markdown",
   "metadata": {},
   "source": [
    "## Navigating the tree"
   ]
  },
  {
   "cell_type": "code",
   "execution_count": 29,
   "metadata": {},
   "outputs": [
    {
     "data": {
      "text/plain": [
       "[<tr><th colspan=\"2\" style=\"text-align:center;font-size:125%;font-weight:bold;background:antiquewhite;\">Music</th></tr>,\n",
       " <tr><td colspan=\"2\" style=\"text-align:center\"><a class=\"image\" href=\"/wiki/File:Fran%C3%A7ois_Boucher,_Allegory_of_Music,_1764,_NGA_32680.jpg\"><img alt=\"François Boucher, Allegory of Music, 1764, NGA 32680.jpg\" data-file-height=\"3189\" data-file-width=\"4000\" decoding=\"async\" height=\"175\" src=\"//upload.wikimedia.org/wikipedia/commons/thumb/d/dd/Fran%C3%A7ois_Boucher%2C_Allegory_of_Music%2C_1764%2C_NGA_32680.jpg/220px-Fran%C3%A7ois_Boucher%2C_Allegory_of_Music%2C_1764%2C_NGA_32680.jpg\" srcset=\"//upload.wikimedia.org/wikipedia/commons/thumb/d/dd/Fran%C3%A7ois_Boucher%2C_Allegory_of_Music%2C_1764%2C_NGA_32680.jpg/330px-Fran%C3%A7ois_Boucher%2C_Allegory_of_Music%2C_1764%2C_NGA_32680.jpg 1.5x, //upload.wikimedia.org/wikipedia/commons/thumb/d/dd/Fran%C3%A7ois_Boucher%2C_Allegory_of_Music%2C_1764%2C_NGA_32680.jpg/440px-Fran%C3%A7ois_Boucher%2C_Allegory_of_Music%2C_1764%2C_NGA_32680.jpg 2x\" width=\"220\"/></a><div>Allegory of Music, by <a href=\"/wiki/Fran%C3%A7ois_Boucher\" title=\"François Boucher\">François Boucher</a>, 1764</div></td></tr>,\n",
       " <tr><th scope=\"row\">Medium</th><td><a href=\"/wiki/Sound\" title=\"Sound\">sound</a>, silence, time</td></tr>,\n",
       " <tr><th scope=\"row\">Types</th><td><a href=\"/wiki/Music_genre\" title=\"Music genre\">genres</a></td></tr>,\n",
       " <tr><th scope=\"row\">Originating culture</th><td>various</td></tr>,\n",
       " <tr><th scope=\"row\">Originating era</th><td><a href=\"/wiki/Paleolithic\" title=\"Paleolithic\">Paleolithic</a> era</td></tr>]"
      ]
     },
     "execution_count": 29,
     "metadata": {},
     "output_type": "execute_result"
    }
   ],
   "source": [
    "# A tag's children are stored in a list, accessed with `.contents`.\n",
    "\n",
    "table.contents"
   ]
  },
  {
   "cell_type": "code",
   "execution_count": 30,
   "metadata": {},
   "outputs": [
    {
     "data": {
      "text/plain": [
       "6"
      ]
     },
     "execution_count": 30,
     "metadata": {},
     "output_type": "execute_result"
    }
   ],
   "source": [
    "len(table.contents)"
   ]
  },
  {
   "cell_type": "code",
   "execution_count": 31,
   "metadata": {
    "scrolled": true
   },
   "outputs": [
    {
     "data": {
      "text/plain": [
       "<tr><td colspan=\"2\" style=\"text-align:center\"><a class=\"image\" href=\"/wiki/File:Fran%C3%A7ois_Boucher,_Allegory_of_Music,_1764,_NGA_32680.jpg\"><img alt=\"François Boucher, Allegory of Music, 1764, NGA 32680.jpg\" data-file-height=\"3189\" data-file-width=\"4000\" decoding=\"async\" height=\"175\" src=\"//upload.wikimedia.org/wikipedia/commons/thumb/d/dd/Fran%C3%A7ois_Boucher%2C_Allegory_of_Music%2C_1764%2C_NGA_32680.jpg/220px-Fran%C3%A7ois_Boucher%2C_Allegory_of_Music%2C_1764%2C_NGA_32680.jpg\" srcset=\"//upload.wikimedia.org/wikipedia/commons/thumb/d/dd/Fran%C3%A7ois_Boucher%2C_Allegory_of_Music%2C_1764%2C_NGA_32680.jpg/330px-Fran%C3%A7ois_Boucher%2C_Allegory_of_Music%2C_1764%2C_NGA_32680.jpg 1.5x, //upload.wikimedia.org/wikipedia/commons/thumb/d/dd/Fran%C3%A7ois_Boucher%2C_Allegory_of_Music%2C_1764%2C_NGA_32680.jpg/440px-Fran%C3%A7ois_Boucher%2C_Allegory_of_Music%2C_1764%2C_NGA_32680.jpg 2x\" width=\"220\"/></a><div>Allegory of Music, by <a href=\"/wiki/Fran%C3%A7ois_Boucher\" title=\"François Boucher\">François Boucher</a>, 1764</div></td></tr>"
      ]
     },
     "execution_count": 31,
     "metadata": {},
     "output_type": "execute_result"
    }
   ],
   "source": [
    "table.contents[1]"
   ]
  },
  {
   "cell_type": "code",
   "execution_count": 32,
   "metadata": {},
   "outputs": [
    {
     "data": {
      "text/plain": [
       "<table class=\"infobox\" style=\"width:22em\"><tbody><tr><th colspan=\"2\" style=\"text-align:center;font-size:125%;font-weight:bold;background:antiquewhite;\">Music</th></tr><tr><td colspan=\"2\" style=\"text-align:center\"><a class=\"image\" href=\"/wiki/File:Fran%C3%A7ois_Boucher,_Allegory_of_Music,_1764,_NGA_32680.jpg\"><img alt=\"François Boucher, Allegory of Music, 1764, NGA 32680.jpg\" data-file-height=\"3189\" data-file-width=\"4000\" decoding=\"async\" height=\"175\" src=\"//upload.wikimedia.org/wikipedia/commons/thumb/d/dd/Fran%C3%A7ois_Boucher%2C_Allegory_of_Music%2C_1764%2C_NGA_32680.jpg/220px-Fran%C3%A7ois_Boucher%2C_Allegory_of_Music%2C_1764%2C_NGA_32680.jpg\" srcset=\"//upload.wikimedia.org/wikipedia/commons/thumb/d/dd/Fran%C3%A7ois_Boucher%2C_Allegory_of_Music%2C_1764%2C_NGA_32680.jpg/330px-Fran%C3%A7ois_Boucher%2C_Allegory_of_Music%2C_1764%2C_NGA_32680.jpg 1.5x, //upload.wikimedia.org/wikipedia/commons/thumb/d/dd/Fran%C3%A7ois_Boucher%2C_Allegory_of_Music%2C_1764%2C_NGA_32680.jpg/440px-Fran%C3%A7ois_Boucher%2C_Allegory_of_Music%2C_1764%2C_NGA_32680.jpg 2x\" width=\"220\"/></a><div>Allegory of Music, by <a href=\"/wiki/Fran%C3%A7ois_Boucher\" title=\"François Boucher\">François Boucher</a>, 1764</div></td></tr><tr><th scope=\"row\">Medium</th><td><a href=\"/wiki/Sound\" title=\"Sound\">sound</a>, silence, time</td></tr><tr><th scope=\"row\">Types</th><td><a href=\"/wiki/Music_genre\" title=\"Music genre\">genres</a></td></tr><tr><th scope=\"row\">Originating culture</th><td>various</td></tr><tr><th scope=\"row\">Originating era</th><td><a href=\"/wiki/Paleolithic\" title=\"Paleolithic\">Paleolithic</a> era</td></tr></tbody></table>"
      ]
     },
     "execution_count": 32,
     "metadata": {},
     "output_type": "execute_result"
    }
   ],
   "source": [
    "# We can also go up the tree with `.parent`.\n",
    "\n",
    "table.parent"
   ]
  },
  {
   "cell_type": "code",
   "execution_count": 37,
   "metadata": {},
   "outputs": [
    {
     "data": {
      "text/plain": [
       "bs4.element.Tag"
      ]
     },
     "execution_count": 37,
     "metadata": {},
     "output_type": "execute_result"
    }
   ],
   "source": [
    "# `table.parent` is also a tag, so we can use `.parent` on it as well.\n",
    "\n",
    "type(table.parent.parent)"
   ]
  },
  {
   "cell_type": "code",
   "execution_count": 26,
   "metadata": {},
   "outputs": [
    {
     "data": {
      "text/plain": [
       "<list_iterator at 0x2c86787d9e8>"
      ]
     },
     "execution_count": 26,
     "metadata": {},
     "output_type": "execute_result"
    }
   ],
   "source": [
    "# We use .parent to go up the tree\n",
    "# But what about .children?\n",
    "table.children"
   ]
  },
  {
   "cell_type": "code",
   "execution_count": 38,
   "metadata": {},
   "outputs": [
    {
     "name": "stdout",
     "output_type": "stream",
     "text": [
      "<tr><th colspan=\"2\" style=\"text-align:center;font-size:125%;font-weight:bold;background:antiquewhite;\">Music</th></tr>\n",
      "<tr><td colspan=\"2\" style=\"text-align:center\"><a class=\"image\" href=\"/wiki/File:Fran%C3%A7ois_Boucher,_Allegory_of_Music,_1764,_NGA_32680.jpg\"><img alt=\"François Boucher, Allegory of Music, 1764, NGA 32680.jpg\" data-file-height=\"3189\" data-file-width=\"4000\" decoding=\"async\" height=\"175\" src=\"//upload.wikimedia.org/wikipedia/commons/thumb/d/dd/Fran%C3%A7ois_Boucher%2C_Allegory_of_Music%2C_1764%2C_NGA_32680.jpg/220px-Fran%C3%A7ois_Boucher%2C_Allegory_of_Music%2C_1764%2C_NGA_32680.jpg\" srcset=\"//upload.wikimedia.org/wikipedia/commons/thumb/d/dd/Fran%C3%A7ois_Boucher%2C_Allegory_of_Music%2C_1764%2C_NGA_32680.jpg/330px-Fran%C3%A7ois_Boucher%2C_Allegory_of_Music%2C_1764%2C_NGA_32680.jpg 1.5x, //upload.wikimedia.org/wikipedia/commons/thumb/d/dd/Fran%C3%A7ois_Boucher%2C_Allegory_of_Music%2C_1764%2C_NGA_32680.jpg/440px-Fran%C3%A7ois_Boucher%2C_Allegory_of_Music%2C_1764%2C_NGA_32680.jpg 2x\" width=\"220\"/></a><div>Allegory of Music, by <a href=\"/wiki/Fran%C3%A7ois_Boucher\" title=\"François Boucher\">François Boucher</a>, 1764</div></td></tr>\n",
      "<tr><th scope=\"row\">Medium</th><td><a href=\"/wiki/Sound\" title=\"Sound\">sound</a>, silence, time</td></tr>\n",
      "<tr><th scope=\"row\">Types</th><td><a href=\"/wiki/Music_genre\" title=\"Music genre\">genres</a></td></tr>\n",
      "<tr><th scope=\"row\">Originating culture</th><td>various</td></tr>\n",
      "<tr><th scope=\"row\">Originating era</th><td><a href=\"/wiki/Paleolithic\" title=\"Paleolithic\">Paleolithic</a> era</td></tr>\n"
     ]
    }
   ],
   "source": [
    "# `.children` is an iterator, which means we can use it in a for loop to iterate over all the children.\n",
    "\n",
    "for child in table.children:\n",
    "    print(child)"
   ]
  },
  {
   "cell_type": "markdown",
   "metadata": {},
   "source": [
    "## Searching by attributes"
   ]
  },
  {
   "cell_type": "code",
   "execution_count": 28,
   "metadata": {},
   "outputs": [
    {
     "data": {
      "text/plain": [
       "<div class=\"noprint\" id=\"siteSub\">From Wikipedia, the free encyclopedia</div>"
      ]
     },
     "execution_count": 28,
     "metadata": {},
     "output_type": "execute_result"
    }
   ],
   "source": [
    "# We can search for tags based on their attributes, in addition to their name\n",
    "\n",
    "soup.find('div', id = 'siteSub')"
   ]
  },
  {
   "cell_type": "code",
   "execution_count": 29,
   "metadata": {},
   "outputs": [],
   "source": [
    "# There are two ways in which we can do that:"
   ]
  },
  {
   "cell_type": "markdown",
   "metadata": {},
   "source": [
    "### Passing attributes as function parameters"
   ]
  },
  {
   "cell_type": "code",
   "execution_count": 30,
   "metadata": {},
   "outputs": [
    {
     "data": {
      "text/plain": [
       "[<a class=\"mw-jump-link\" href=\"#mw-head\">Jump to navigation</a>,\n",
       " <a class=\"mw-jump-link\" href=\"#p-search\">Jump to search</a>]"
      ]
     },
     "execution_count": 30,
     "metadata": {},
     "output_type": "execute_result"
    }
   ],
   "source": [
    "# By writing them as function parameters\n",
    "# Notice that since class is a reserved word, we write class_\n",
    "soup.find_all('a', class_ = 'mw-jump-link')"
   ]
  },
  {
   "cell_type": "code",
   "execution_count": 31,
   "metadata": {},
   "outputs": [
    {
     "data": {
      "text/plain": [
       "<a class=\"mw-jump-link\" href=\"#p-search\">Jump to search</a>"
      ]
     },
     "execution_count": 31,
     "metadata": {},
     "output_type": "execute_result"
    }
   ],
   "source": [
    "# We can filter against multiple attributes at once\n",
    "soup.find('a', class_ = 'mw-jump-link', href = '#p-search')"
   ]
  },
  {
   "cell_type": "markdown",
   "metadata": {},
   "source": [
    "### Placing the attributes in a dictionary"
   ]
  },
  {
   "cell_type": "code",
   "execution_count": 32,
   "metadata": {},
   "outputs": [
    {
     "data": {
      "text/plain": [
       "<a class=\"mw-jump-link\" href=\"#p-search\">Jump to search</a>"
      ]
     },
     "execution_count": 32,
     "metadata": {},
     "output_type": "execute_result"
    }
   ],
   "source": [
    "# By writting the attributes in a dictionary\n",
    "soup.find('a', attrs={ 'class':'mw-jump-link', 'href':'#p-search' })"
   ]
  },
  {
   "cell_type": "code",
   "execution_count": 33,
   "metadata": {
    "scrolled": true
   },
   "outputs": [
    {
     "data": {
      "text/plain": [
       "<div id=\"footer\" role=\"contentinfo\">\n",
       "<ul id=\"footer-info\">\n",
       "<li id=\"footer-info-lastmod\"> This page was last edited on 23 December 2019, at 04:25<span class=\"anonymous-show\"> (UTC)</span>.</li>\n",
       "<li id=\"footer-info-copyright\">Text is available under the <a href=\"//en.wikipedia.org/wiki/Wikipedia:Text_of_Creative_Commons_Attribution-ShareAlike_3.0_Unported_License\" rel=\"license\">Creative Commons Attribution-ShareAlike License</a><a href=\"//creativecommons.org/licenses/by-sa/3.0/\" rel=\"license\" style=\"display:none;\"></a>;\n",
       "additional terms may apply.  By using this site, you agree to the <a href=\"//foundation.wikimedia.org/wiki/Terms_of_Use\">Terms of Use</a> and <a href=\"//foundation.wikimedia.org/wiki/Privacy_policy\">Privacy Policy</a>. Wikipedia® is a registered trademark of the <a href=\"//www.wikimediafoundation.org/\">Wikimedia Foundation, Inc.</a>, a non-profit organization.</li>\n",
       "</ul>\n",
       "<ul id=\"footer-places\">\n",
       "<li id=\"footer-places-privacy\"><a class=\"extiw\" href=\"https://foundation.wikimedia.org/wiki/Privacy_policy\" title=\"wmf:Privacy policy\">Privacy policy</a></li>\n",
       "<li id=\"footer-places-about\"><a href=\"/wiki/Wikipedia:About\" title=\"Wikipedia:About\">About Wikipedia</a></li>\n",
       "<li id=\"footer-places-disclaimer\"><a href=\"/wiki/Wikipedia:General_disclaimer\" title=\"Wikipedia:General disclaimer\">Disclaimers</a></li>\n",
       "<li id=\"footer-places-contact\"><a href=\"//en.wikipedia.org/wiki/Wikipedia:Contact_us\">Contact Wikipedia</a></li>\n",
       "<li id=\"footer-places-developers\"><a href=\"https://www.mediawiki.org/wiki/Special:MyLanguage/How_to_contribute\">Developers</a></li>\n",
       "<li id=\"footer-places-statslink\"><a href=\"https://stats.wikimedia.org/v2/#/en.wikipedia.org\">Statistics</a></li>\n",
       "<li id=\"footer-places-cookiestatement\"><a href=\"https://foundation.wikimedia.org/wiki/Cookie_statement\">Cookie statement</a></li>\n",
       "<li id=\"footer-places-mobileview\"><a class=\"noprint stopMobileRedirectToggle\" href=\"//en.m.wikipedia.org/w/index.php?title=Music&amp;mobileaction=toggle_view_mobile\">Mobile view</a></li>\n",
       "</ul>\n",
       "<ul class=\"noprint\" id=\"footer-icons\">\n",
       "<li id=\"footer-copyrightico\">\n",
       "<a href=\"https://wikimediafoundation.org/\"><img alt=\"Wikimedia Foundation\" height=\"31\" src=\"/static/images/wikimedia-button.png\" srcset=\"/static/images/wikimedia-button-1.5x.png 1.5x, /static/images/wikimedia-button-2x.png 2x\" width=\"88\"/></a> </li>\n",
       "<li id=\"footer-poweredbyico\">\n",
       "<a href=\"https://www.mediawiki.org/\"><img alt=\"Powered by MediaWiki\" height=\"31\" src=\"/static/images/poweredby_mediawiki_88x31.png\" srcset=\"/static/images/poweredby_mediawiki_132x47.png 1.5x, /static/images/poweredby_mediawiki_176x62.png 2x\" width=\"88\"/></a> </li>\n",
       "</ul>\n",
       "<div style=\"clear: both;\"></div>\n",
       "</div>"
      ]
     },
     "execution_count": 33,
     "metadata": {},
     "output_type": "execute_result"
    }
   ],
   "source": [
    "soup.find('div', {'id' : 'footer'})"
   ]
  },
  {
   "cell_type": "markdown",
   "metadata": {},
   "source": [
    "# Extracting data from the HTML tree"
   ]
  },
  {
   "cell_type": "code",
   "execution_count": 34,
   "metadata": {
    "scrolled": true
   },
   "outputs": [
    {
     "data": {
      "text/plain": [
       "<a class=\"mw-jump-link\" href=\"#mw-head\">Jump to navigation</a>"
      ]
     },
     "execution_count": 34,
     "metadata": {},
     "output_type": "execute_result"
    }
   ],
   "source": [
    "# Let's use some placeholder object to manipulate in the examples below\n",
    "a = soup.find('a', class_ = 'mw-jump-link')\n",
    "a"
   ]
  },
  {
   "cell_type": "code",
   "execution_count": 35,
   "metadata": {},
   "outputs": [
    {
     "data": {
      "text/plain": [
       "'a'"
      ]
     },
     "execution_count": 35,
     "metadata": {},
     "output_type": "execute_result"
    }
   ],
   "source": [
    "# We can obtain the name of the tag with the .name attribute\n",
    "a.name"
   ]
  },
  {
   "cell_type": "markdown",
   "metadata": {},
   "source": [
    "## Getting the attribute value"
   ]
  },
  {
   "cell_type": "code",
   "execution_count": 36,
   "metadata": {},
   "outputs": [],
   "source": [
    "# We can access a tag’s attributes by treating the tag just like a dictionary"
   ]
  },
  {
   "cell_type": "code",
   "execution_count": 37,
   "metadata": {},
   "outputs": [
    {
     "data": {
      "text/plain": [
       "'#mw-head'"
      ]
     },
     "execution_count": 37,
     "metadata": {},
     "output_type": "execute_result"
    }
   ],
   "source": [
    "# First way\n",
    "a['href']"
   ]
  },
  {
   "cell_type": "code",
   "execution_count": 38,
   "metadata": {},
   "outputs": [
    {
     "data": {
      "text/plain": [
       "['mw-jump-link']"
      ]
     },
     "execution_count": 38,
     "metadata": {},
     "output_type": "execute_result"
    }
   ],
   "source": [
    "# Notice how multi-valued attributes, such as class, return a list\n",
    "a['class']"
   ]
  },
  {
   "cell_type": "code",
   "execution_count": 39,
   "metadata": {},
   "outputs": [
    {
     "data": {
      "text/plain": [
       "'#mw-head'"
      ]
     },
     "execution_count": 39,
     "metadata": {},
     "output_type": "execute_result"
    }
   ],
   "source": [
    "# Second way\n",
    "a.get('href')"
   ]
  },
  {
   "cell_type": "code",
   "execution_count": 40,
   "metadata": {
    "scrolled": true
   },
   "outputs": [
    {
     "data": {
      "text/plain": [
       "['mw-jump-link']"
      ]
     },
     "execution_count": 40,
     "metadata": {},
     "output_type": "execute_result"
    }
   ],
   "source": [
    "# Again, class returns a list\n",
    "a.get('class')"
   ]
  },
  {
   "cell_type": "markdown",
   "metadata": {},
   "source": [
    "#### Differences between these methods manifest when the key is missing"
   ]
  },
  {
   "cell_type": "code",
   "execution_count": 41,
   "metadata": {},
   "outputs": [],
   "source": [
    "# tag['missing-key'] returns an error\n",
    "# a['id'] will raise an error, if uncommented"
   ]
  },
  {
   "cell_type": "code",
   "execution_count": 42,
   "metadata": {},
   "outputs": [],
   "source": [
    "# tag.get('missing-key') returns a default value None\n",
    "a.get('id')"
   ]
  },
  {
   "cell_type": "code",
   "execution_count": 43,
   "metadata": {},
   "outputs": [
    {
     "data": {
      "text/plain": [
       "'None'"
      ]
     },
     "execution_count": 43,
     "metadata": {},
     "output_type": "execute_result"
    }
   ],
   "source": [
    "# We can use repr() function to display all special characters and combinations (None, \\n...)\n",
    "repr(a.get('id'))"
   ]
  },
  {
   "cell_type": "code",
   "execution_count": 44,
   "metadata": {},
   "outputs": [
    {
     "data": {
      "text/plain": [
       "{'class': ['mw-jump-link'], 'href': '#mw-head'}"
      ]
     },
     "execution_count": 44,
     "metadata": {},
     "output_type": "execute_result"
    }
   ],
   "source": [
    "# We can also get all attribute name-value pairs in a dictionary\n",
    "a.attrs"
   ]
  },
  {
   "cell_type": "markdown",
   "metadata": {},
   "source": [
    "## Extracting the text"
   ]
  },
  {
   "cell_type": "markdown",
   "metadata": {},
   "source": [
    "### .string vs .text"
   ]
  },
  {
   "cell_type": "code",
   "execution_count": 45,
   "metadata": {},
   "outputs": [
    {
     "data": {
      "text/plain": [
       "'Jump to navigation'"
      ]
     },
     "execution_count": 45,
     "metadata": {},
     "output_type": "execute_result"
    }
   ],
   "source": [
    "# We can access the raw string of an element by using .string\n",
    "a.string"
   ]
  },
  {
   "cell_type": "code",
   "execution_count": 46,
   "metadata": {},
   "outputs": [
    {
     "data": {
      "text/plain": [
       "'Jump to navigation'"
      ]
     },
     "execution_count": 46,
     "metadata": {},
     "output_type": "execute_result"
    }
   ],
   "source": [
    "# Alternativelly we can use .text\n",
    "a.text"
   ]
  },
  {
   "cell_type": "markdown",
   "metadata": {},
   "source": [
    "#### They exhibit different behaviour when the element contains more than one distinct string"
   ]
  },
  {
   "cell_type": "code",
   "execution_count": 47,
   "metadata": {},
   "outputs": [
    {
     "data": {
      "text/plain": [
       "<p><b>Music</b> is an art form and <a href=\"/wiki/Culture\" title=\"Culture\">cultural</a> activity whose medium is sound organized in time. General <a class=\"mw-redirect\" href=\"/wiki/Definitions_of_music\" title=\"Definitions of music\">definitions of music</a> include common elements such as <a href=\"/wiki/Pitch_(music)\" title=\"Pitch (music)\">pitch</a> (which governs <a href=\"/wiki/Melody\" title=\"Melody\">melody</a> and <a href=\"/wiki/Harmony\" title=\"Harmony\">harmony</a>), <a href=\"/wiki/Rhythm\" title=\"Rhythm\">rhythm</a> (and its associated concepts <a href=\"/wiki/Tempo\" title=\"Tempo\">tempo</a>, <a class=\"mw-redirect\" href=\"/wiki/Meter_(music)\" title=\"Meter (music)\">meter</a>, and <a href=\"/wiki/Articulation_(music)\" title=\"Articulation (music)\">articulation</a>), <a href=\"/wiki/Dynamics_(music)\" title=\"Dynamics (music)\">dynamics</a> (loudness and softness), and the sonic qualities of <a href=\"/wiki/Timbre\" title=\"Timbre\">timbre</a> and <a href=\"/wiki/Texture_(music)\" title=\"Texture (music)\">texture</a> (which are sometimes termed the \"color\" of a musical sound). Different <a href=\"/wiki/Music_genre\" title=\"Music genre\">styles or types</a> of music may emphasize, de-emphasize or omit some of these elements. Music is performed with a vast range of <a href=\"/wiki/Musical_instrument\" title=\"Musical instrument\">instruments</a> and vocal techniques ranging from singing to <a href=\"/wiki/Rapping\" title=\"Rapping\">rapping</a>; there are solely <a class=\"mw-redirect\" href=\"/wiki/Instrumental_music\" title=\"Instrumental music\">instrumental pieces</a>, <a class=\"mw-redirect\" href=\"/wiki/A_capella\" title=\"A capella\">solely vocal pieces</a> (such as songs without instrumental <a href=\"/wiki/Accompaniment\" title=\"Accompaniment\">accompaniment</a>) and pieces that combine singing and instruments. The word derives from <a href=\"/wiki/Greek_language\" title=\"Greek language\">Greek</a> <a class=\"extiw\" href=\"https://en.wiktionary.org/wiki/%CE%BC%CE%BF%CF%85%CF%83%CE%B9%CE%BA%CE%AE#Ancient_Greek\" title=\"wikt:μουσική\">μουσική</a> (<i>mousike</i>; \"art of the <a class=\"mw-redirect\" href=\"/wiki/Muse\" title=\"Muse\">Muses</a>\").<sup class=\"reference\" id=\"cite_ref-perseus.tufts.edu_1-0\"><a href=\"#cite_note-perseus.tufts.edu-1\">[1]</a></sup>\n",
       "See <a href=\"/wiki/Glossary_of_musical_terminology\" title=\"Glossary of musical terminology\">glossary of musical terminology</a>.\n",
       "</p>"
      ]
     },
     "execution_count": 47,
     "metadata": {},
     "output_type": "execute_result"
    }
   ],
   "source": [
    "# This paragraph has many nested elements, with lots of different fragments of text\n",
    "p = soup.find_all('p')[1]\n",
    "p"
   ]
  },
  {
   "cell_type": "code",
   "execution_count": 48,
   "metadata": {},
   "outputs": [
    {
     "data": {
      "text/plain": [
       "'Music is an art form and cultural activity whose medium is sound organized in time. General definitions of music include common elements such as pitch (which governs melody and harmony), rhythm (and its associated concepts tempo, meter, and articulation), dynamics (loudness and softness), and the sonic qualities of timbre and texture (which are sometimes termed the \"color\" of a musical sound). Different styles or types of music may emphasize, de-emphasize or omit some of these elements. Music is performed with a vast range of instruments and vocal techniques ranging from singing to rapping; there are solely instrumental pieces, solely vocal pieces (such as songs without instrumental accompaniment) and pieces that combine singing and instruments. The word derives from Greek μουσική (mousike; \"art of the Muses\").[1]\\nSee glossary of musical terminology.\\n'"
      ]
     },
     "execution_count": 48,
     "metadata": {},
     "output_type": "execute_result"
    }
   ],
   "source": [
    "# .text returns everything inside the element\n",
    "p.text"
   ]
  },
  {
   "cell_type": "markdown",
   "metadata": {},
   "source": [
    "### .strings and .stripped_strings"
   ]
  },
  {
   "cell_type": "code",
   "execution_count": 57,
   "metadata": {},
   "outputs": [],
   "source": [
    "# All strings inside an element can be accessed separatelly by using the .strings iterator"
   ]
  },
  {
   "cell_type": "code",
   "execution_count": 58,
   "metadata": {},
   "outputs": [
    {
     "name": "stdout",
     "output_type": "stream",
     "text": [
      "'Music'\n",
      "' is an art form and '\n",
      "'cultural'\n",
      "' activity whose medium is sound organized in time. General '\n",
      "'definitions of music'\n",
      "' include common elements such as '\n",
      "'pitch'\n",
      "' (which governs '\n",
      "'melody'\n",
      "' and '\n",
      "'harmony'\n",
      "'), '\n",
      "'rhythm'\n",
      "' (and its associated concepts '\n",
      "'tempo'\n",
      "', '\n",
      "'meter'\n",
      "', and '\n",
      "'articulation'\n",
      "'), '\n",
      "'dynamics'\n",
      "' (loudness and softness), and the sonic qualities of '\n",
      "'timbre'\n",
      "' and '\n",
      "'texture'\n",
      "' (which are sometimes termed the \"color\" of a musical sound). Different '\n",
      "'styles or types'\n",
      "' of music may emphasize, de-emphasize or omit some of these elements. Music is performed with a vast range of '\n",
      "'instruments'\n",
      "' and vocal techniques ranging from singing to '\n",
      "'rapping'\n",
      "'; there are solely '\n",
      "'instrumental pieces'\n",
      "', '\n",
      "'solely vocal pieces'\n",
      "' (such as songs without instrumental '\n",
      "'accompaniment'\n",
      "') and pieces that combine singing and instruments. The word derives from '\n",
      "'Greek'\n",
      "' '\n",
      "'μουσική'\n",
      "' ('\n",
      "'mousike'\n",
      "'; \"art of the '\n",
      "'Muses'\n",
      "'\").'\n",
      "'[1]'\n",
      "'\\nSee '\n",
      "'glossary of musical terminology'\n",
      "'.\\n'\n"
     ]
    }
   ],
   "source": [
    "for s in p.strings:\n",
    "    print(repr(s))"
   ]
  },
  {
   "cell_type": "code",
   "execution_count": 59,
   "metadata": {},
   "outputs": [
    {
     "name": "stdout",
     "output_type": "stream",
     "text": [
      "'Music'\n",
      "'is an art form and'\n",
      "'cultural'\n",
      "'activity whose medium is sound organized in time. General'\n",
      "'definitions of music'\n",
      "'include common elements such as'\n",
      "'pitch'\n",
      "'(which governs'\n",
      "'melody'\n",
      "'and'\n",
      "'harmony'\n",
      "'),'\n",
      "'rhythm'\n",
      "'(and its associated concepts'\n",
      "'tempo'\n",
      "','\n",
      "'meter'\n",
      "', and'\n",
      "'articulation'\n",
      "'),'\n",
      "'dynamics'\n",
      "'(loudness and softness), and the sonic qualities of'\n",
      "'timbre'\n",
      "'and'\n",
      "'texture'\n",
      "'(which are sometimes termed the \"color\" of a musical sound). Different'\n",
      "'styles or types'\n",
      "'of music may emphasize, de-emphasize or omit some of these elements. Music is performed with a vast range of'\n",
      "'instruments'\n",
      "'and vocal techniques ranging from singing to'\n",
      "'rapping'\n",
      "'; there are solely'\n",
      "'instrumental pieces'\n",
      "','\n",
      "'solely vocal pieces'\n",
      "'(such as songs without instrumental'\n",
      "'accompaniment'\n",
      "') and pieces that combine singing and instruments. The word derives from'\n",
      "'Greek'\n",
      "'μουσική'\n",
      "'('\n",
      "'mousike'\n",
      "'; \"art of the'\n",
      "'Muses'\n",
      "'\").'\n",
      "'[1]'\n",
      "'See'\n",
      "'glossary of musical terminology'\n",
      "'.'\n"
     ]
    }
   ],
   "source": [
    "# The extra whitespace can be removed by using the .stripped_strings iterator instead\n",
    "for s in p.stripped_strings:\n",
    "    print(repr(s))"
   ]
  },
  {
   "cell_type": "markdown",
   "metadata": {},
   "source": [
    "# Practical examples"
   ]
  },
  {
   "cell_type": "markdown",
   "metadata": {},
   "source": [
    "## Links - absolute path URL"
   ]
  },
  {
   "cell_type": "code",
   "execution_count": 45,
   "metadata": {},
   "outputs": [
    {
     "data": {
      "text/plain": [
       "<a href=\"/wiki/Template:Performing_arts\" title=\"Template:Performing arts\"><abbr title=\"View this template\">v</abbr></a>"
      ]
     },
     "execution_count": 45,
     "metadata": {},
     "output_type": "execute_result"
    }
   ],
   "source": [
    "# Let's choose one link from our links list to inspect.\n",
    "link = links[26]\n",
    "link"
   ]
  },
  {
   "cell_type": "code",
   "execution_count": 54,
   "metadata": {},
   "outputs": [
    {
     "data": {
      "text/plain": [
       "'/wiki/Template:Performing_arts'"
      ]
     },
     "execution_count": 54,
     "metadata": {},
     "output_type": "execute_result"
    }
   ],
   "source": [
    "# Extract the link's URL;  this is a relative URL, so we have to prefix it with our base_url.\n",
    "\n",
    "link.get('href')"
   ]
  },
  {
   "cell_type": "code",
   "execution_count": 51,
   "metadata": {},
   "outputs": [],
   "source": [
    "from urllib.parse import urljoin"
   ]
  },
  {
   "cell_type": "code",
   "execution_count": 58,
   "metadata": {},
   "outputs": [],
   "source": [
    "# Now we need the address of the current page + the relative URL to compute the full-path URL\n",
    "base_url = 'https://en.wikipedia.org'"
   ]
  },
  {
   "cell_type": "code",
   "execution_count": 59,
   "metadata": {},
   "outputs": [
    {
     "data": {
      "text/plain": [
       "'/wiki/Template:Performing_arts'"
      ]
     },
     "execution_count": 59,
     "metadata": {},
     "output_type": "execute_result"
    }
   ],
   "source": [
    "relative_url = link.get('href')\n",
    "relative_url"
   ]
  },
  {
   "cell_type": "code",
   "execution_count": 60,
   "metadata": {},
   "outputs": [
    {
     "data": {
      "text/plain": [
       "'https://en.wikipedia.org/wiki/Template:Performing_arts'"
      ]
     },
     "execution_count": 60,
     "metadata": {},
     "output_type": "execute_result"
    }
   ],
   "source": [
    "full_url = urljoin(base_url, relative_url)\n",
    "full_url"
   ]
  },
  {
   "cell_type": "code",
   "execution_count": 61,
   "metadata": {},
   "outputs": [
    {
     "data": {
      "text/plain": [
       "'https://en.wikipedia.org/wiki/Template:Performing_arts'"
      ]
     },
     "execution_count": 61,
     "metadata": {},
     "output_type": "execute_result"
    }
   ],
   "source": [
    "# We can also just concatenate the two strings.\n",
    "\n",
    "base_url + relative_url"
   ]
  },
  {
   "cell_type": "markdown",
   "metadata": {},
   "source": [
    "## Processing multiple links at once"
   ]
  },
  {
   "cell_type": "code",
   "execution_count": 63,
   "metadata": {},
   "outputs": [
    {
     "data": {
      "text/plain": [
       "[None,\n",
       " '/wiki/Wikipedia:Protection_policy#semi',\n",
       " '#mw-head',\n",
       " '#searchInput',\n",
       " '/wiki/Music_(disambiguation)',\n",
       " '/wiki/File:Fran%C3%A7ois_Boucher,_Allegory_of_Music,_1764,_NGA_32680.jpg',\n",
       " '/wiki/Fran%C3%A7ois_Boucher',\n",
       " '/wiki/Sound',\n",
       " '/wiki/Music_genre',\n",
       " '/wiki/Paleolithic']"
      ]
     },
     "execution_count": 63,
     "metadata": {},
     "output_type": "execute_result"
    }
   ],
   "source": [
    "# Examining the link's addresses; notice that some links don't have URL (None appears).\n",
    "\n",
    "[l.get('href') for l in links][:10]"
   ]
  },
  {
   "cell_type": "code",
   "execution_count": 64,
   "metadata": {},
   "outputs": [],
   "source": [
    "# Dropping the links without href attribute.\n",
    "\n",
    "clean_links = [l for l in links if l.get('href') != None]"
   ]
  },
  {
   "cell_type": "code",
   "execution_count": 65,
   "metadata": {},
   "outputs": [
    {
     "data": {
      "text/plain": [
       "['/wiki/Wikipedia:Protection_policy#semi',\n",
       " '#mw-head',\n",
       " '#searchInput',\n",
       " '/wiki/Music_(disambiguation)',\n",
       " '/wiki/File:Fran%C3%A7ois_Boucher,_Allegory_of_Music,_1764,_NGA_32680.jpg',\n",
       " '/wiki/Fran%C3%A7ois_Boucher',\n",
       " '/wiki/Sound',\n",
       " '/wiki/Music_genre',\n",
       " '/wiki/Paleolithic',\n",
       " '/wiki/Performing_arts']"
      ]
     },
     "execution_count": 65,
     "metadata": {},
     "output_type": "execute_result"
    }
   ],
   "source": [
    "# Obtaining the relative URLs\n",
    "\n",
    "relative_urls = [link.get('href') for link in clean_links]\n",
    "relative_urls[:10]"
   ]
  },
  {
   "cell_type": "code",
   "execution_count": 66,
   "metadata": {},
   "outputs": [
    {
     "data": {
      "text/plain": [
       "['https://en.wikipedia.org/wiki/Wikipedia:Protection_policy#semi',\n",
       " 'https://en.wikipedia.org#mw-head',\n",
       " 'https://en.wikipedia.org#searchInput',\n",
       " 'https://en.wikipedia.org/wiki/Music_(disambiguation)',\n",
       " 'https://en.wikipedia.org/wiki/File:Fran%C3%A7ois_Boucher,_Allegory_of_Music,_1764,_NGA_32680.jpg',\n",
       " 'https://en.wikipedia.org/wiki/Fran%C3%A7ois_Boucher',\n",
       " 'https://en.wikipedia.org/wiki/Sound',\n",
       " 'https://en.wikipedia.org/wiki/Music_genre',\n",
       " 'https://en.wikipedia.org/wiki/Paleolithic',\n",
       " 'https://en.wikipedia.org/wiki/Performing_arts']"
      ]
     },
     "execution_count": 66,
     "metadata": {},
     "output_type": "execute_result"
    }
   ],
   "source": [
    "# Transforming to absolute path URLs.\n",
    "\n",
    "full_urls = [urljoin(base_url, url) for url in relative_urls]\n",
    "full_urls[:10]"
   ]
  },
  {
   "cell_type": "code",
   "execution_count": 67,
   "metadata": {},
   "outputs": [
    {
     "data": {
      "text/plain": [
       "['https://en.wikipedia.org/wiki/Wikipedia:Protection_policy#semi',\n",
       " 'https://en.wikipedia.org#mw-head',\n",
       " 'https://en.wikipedia.org#searchInput',\n",
       " 'https://en.wikipedia.org/wiki/Music_(disambiguation)',\n",
       " 'https://en.wikipedia.org/wiki/File:Fran%C3%A7ois_Boucher,_Allegory_of_Music,_1764,_NGA_32680.jpg',\n",
       " 'https://en.wikipedia.org/wiki/Fran%C3%A7ois_Boucher',\n",
       " 'https://en.wikipedia.org/wiki/Sound',\n",
       " 'https://en.wikipedia.org/wiki/Music_genre',\n",
       " 'https://en.wikipedia.org/wiki/Paleolithic',\n",
       " 'https://en.wikipedia.org/wiki/Performing_arts']"
      ]
     },
     "execution_count": 67,
     "metadata": {},
     "output_type": "execute_result"
    }
   ],
   "source": [
    "# Extracting only URLs pointing to Wikipedia (internal URLs).\n",
    "\n",
    "internal_links = [url for url in full_urls if 'wikipedia.org' in url]\n",
    "internal_links[:10]"
   ]
  }
 ],
 "metadata": {
  "kernelspec": {
   "display_name": "Python 3",
   "language": "python",
   "name": "python3"
  },
  "language_info": {
   "codemirror_mode": {
    "name": "ipython",
    "version": 3
   },
   "file_extension": ".py",
   "mimetype": "text/x-python",
   "name": "python",
   "nbconvert_exporter": "python",
   "pygments_lexer": "ipython3",
   "version": "3.7.4"
  }
 },
 "nbformat": 4,
 "nbformat_minor": 4
}
