{
 "cells": [
  {
   "cell_type": "code",
   "execution_count": 1,
   "metadata": {},
   "outputs": [],
   "source": [
    "import pandas as pd\n",
    "import numpy as np\n",
    "\n",
    "import os\n",
    "import unicodedata\n",
    "import re\n",
    "import json\n",
    "\n",
    "import nltk\n",
    "from nltk.tokenize.toktok import ToktokTokenizer\n",
    "from nltk.corpus import stopwords\n",
    "\n",
    "from nlp_acquire import get_news_articles"
   ]
  },
  {
   "cell_type": "markdown",
   "metadata": {},
   "source": [
    "## Natural Language Processing"
   ]
  },
  {
   "cell_type": "markdown",
   "metadata": {},
   "source": [
    "### <font color=red>What is Natural Language Processing?</font>\n",
    "\n",
    "Natural Language Processing allows you to use techniques in Python libraries like NLTK (Natural Language Tool Kit) and Spacy to create a machine-useable structure out of natural language text. In other words, you can manipulate natural language in such a way that renders it useful in machine learning. Machines can't read words, but they can recognize numbers, so we have to process the text we want to use in a way that retains the original meaning while representing the text with numbers."
   ]
  },
  {
   "cell_type": "markdown",
   "metadata": {},
   "source": [
    "___"
   ]
  },
  {
   "cell_type": "markdown",
   "metadata": {},
   "source": [
    "### <font color=orange>So What?</font>\n",
    "\n",
    "We will establish a workflow to preprocess our text data and prepare it for further use in exploration and modeling. This preprocessing is know as text normalization. **Normalization** is when you perform a series of tasks like making all text lowercase, removing punctuation, expanding contractions, removing anything that's not an ASCII character, etc.\n",
    "\n",
    "1. Lowercase all characters in our string.\n",
    "2. Remove special characters from our string.\n",
    "3. Remove accented characters from our string.\n",
    "4. Tokenize our string into discrete units. (words, punctuation)\n",
    "5. Stem and Lemmatize the words in our string. (group by base word)\n",
    "6. Remove stopwords from our string. (remove noise)"
   ]
  },
  {
   "cell_type": "markdown",
   "metadata": {},
   "source": [
    "___"
   ]
  },
  {
   "cell_type": "markdown",
   "metadata": {},
   "source": [
    "### <font color=green>Now What?</font>\n",
    "\n",
    "Let's create functions to help us normalize our text data."
   ]
  },
  {
   "cell_type": "code",
   "execution_count": 5,
   "metadata": {},
   "outputs": [
    {
     "data": {
      "text/html": [
       "<div>\n",
       "<style scoped>\n",
       "    .dataframe tbody tr th:only-of-type {\n",
       "        vertical-align: middle;\n",
       "    }\n",
       "\n",
       "    .dataframe tbody tr th {\n",
       "        vertical-align: top;\n",
       "    }\n",
       "\n",
       "    .dataframe thead th {\n",
       "        text-align: right;\n",
       "    }\n",
       "</style>\n",
       "<table border=\"1\" class=\"dataframe\">\n",
       "  <thead>\n",
       "    <tr style=\"text-align: right;\">\n",
       "      <th></th>\n",
       "      <th>topic</th>\n",
       "      <th>title</th>\n",
       "      <th>author</th>\n",
       "      <th>content</th>\n",
       "    </tr>\n",
       "  </thead>\n",
       "  <tbody>\n",
       "    <tr>\n",
       "      <th>0</th>\n",
       "      <td>business</td>\n",
       "      <td>Scientist behind '90% effective' COVID-19 vacc...</td>\n",
       "      <td>Krishna Veera Vanamali</td>\n",
       "      <td>German scientist Uğur Şahin, the CEO of BioNTe...</td>\n",
       "    </tr>\n",
       "    <tr>\n",
       "      <th>1</th>\n",
       "      <td>business</td>\n",
       "      <td>Father said 'if you want to blow money up, fin...</td>\n",
       "      <td>Pragya Swastik</td>\n",
       "      <td>Serum Institute of India's (SII) CEO Adar Poon...</td>\n",
       "    </tr>\n",
       "    <tr>\n",
       "      <th>2</th>\n",
       "      <td>business</td>\n",
       "      <td>Russian vaccine arrives in India, video of it ...</td>\n",
       "      <td>Krishna Veera Vanamali</td>\n",
       "      <td>Russia's coronavirus vaccine, Sputnik V, has a...</td>\n",
       "    </tr>\n",
       "    <tr>\n",
       "      <th>3</th>\n",
       "      <td>business</td>\n",
       "      <td>China suspends fish imports from Indian firm a...</td>\n",
       "      <td>Krishna Veera Vanamali</td>\n",
       "      <td>China has suspended imports from India's Basu ...</td>\n",
       "    </tr>\n",
       "    <tr>\n",
       "      <th>4</th>\n",
       "      <td>business</td>\n",
       "      <td>Ambani's RIL to invest up to $50 mn in Bill Ga...</td>\n",
       "      <td>Pragya Swastik</td>\n",
       "      <td>India's richest man Mukesh Ambani's RIL has an...</td>\n",
       "    </tr>\n",
       "  </tbody>\n",
       "</table>\n",
       "</div>"
      ],
      "text/plain": [
       "      topic                                              title  \\\n",
       "0  business  Scientist behind '90% effective' COVID-19 vacc...   \n",
       "1  business  Father said 'if you want to blow money up, fin...   \n",
       "2  business  Russian vaccine arrives in India, video of it ...   \n",
       "3  business  China suspends fish imports from Indian firm a...   \n",
       "4  business  Ambani's RIL to invest up to $50 mn in Bill Ga...   \n",
       "\n",
       "                   author                                            content  \n",
       "0  Krishna Veera Vanamali  German scientist Uğur Şahin, the CEO of BioNTe...  \n",
       "1          Pragya Swastik  Serum Institute of India's (SII) CEO Adar Poon...  \n",
       "2  Krishna Veera Vanamali  Russia's coronavirus vaccine, Sputnik V, has a...  \n",
       "3  Krishna Veera Vanamali  China has suspended imports from India's Basu ...  \n",
       "4          Pragya Swastik  India's richest man Mukesh Ambani's RIL has an...  "
      ]
     },
     "execution_count": 5,
     "metadata": {},
     "output_type": "execute_result"
    }
   ],
   "source": [
    "# Read our text data into a pandas DataFrame.\n",
    "\n",
    "df = get_news_articles()\n",
    "df.head()"
   ]
  },
  {
   "cell_type": "markdown",
   "metadata": {},
   "source": [
    "#### Normalize Text"
   ]
  },
  {
   "cell_type": "markdown",
   "metadata": {},
   "source": [
    "##### Lowercase Text\n",
    "```python\n",
    "df.col.str.lower()\n",
    "```"
   ]
  },
  {
   "cell_type": "code",
   "execution_count": 6,
   "metadata": {},
   "outputs": [
    {
     "data": {
      "text/plain": [
       "0     german scientist uğur şahin, the ceo of bionte...\n",
       "1     serum institute of india's (sii) ceo adar poon...\n",
       "2     russia's coronavirus vaccine, sputnik v, has a...\n",
       "3     china has suspended imports from india's basu ...\n",
       "4     india's richest man mukesh ambani's ril has an...\n",
       "                            ...                        \n",
       "92    tv actress reem shaikh has revealed that after...\n",
       "93    actor tiger shroff's sister, krishna shroff, h...\n",
       "94    talking about the #metoo movement, actress rad...\n",
       "95    actor matthew perry, who played the role of ch...\n",
       "96    recalling her initial days in the music indust...\n",
       "Name: content, Length: 97, dtype: object"
      ]
     },
     "execution_count": 6,
     "metadata": {},
     "output_type": "execute_result"
    }
   ],
   "source": [
    "# Note I have not reassigned this or changed the inplace argument to True yet; just a look.\n",
    "\n",
    "df.content.str.lower()"
   ]
  },
  {
   "cell_type": "markdown",
   "metadata": {},
   "source": [
    "##### Remove Special Characters\n",
    "\n",
    "I found [this article](https://kanoki.org/2019/11/12/how-to-use-regex-in-pandas/) very helpful when using Regex with Pandas!\n",
    "\n",
    "```python\n",
    "# Remove characters that are not letters, underscores, or spaces.\n",
    "df.col.str.replace(r\"[^\\w\\s]\", '', regex=True)\n",
    "\n",
    "# Remove characters that are not letters, numbers, single quotes, or spaces.\n",
    "df.col.str.replace(r\"[^a-z0-9'\\s]\", '', regex=True)\n",
    "```"
   ]
  },
  {
   "cell_type": "code",
   "execution_count": 8,
   "metadata": {},
   "outputs": [
    {
     "data": {
      "text/plain": [
       "'If we want to know if our regex is replacing these or  or   these'"
      ]
     },
     "execution_count": 8,
     "metadata": {},
     "output_type": "execute_result"
    }
   ],
   "source": [
    "# Test our regex on a string first; we'll use `.replace()` when we use it on our Series.\n",
    "\n",
    "string = 'If we want to know if our regex is replacing [these] or \"\" or ! - these.'\n",
    "\n",
    "string = re.sub(r'[^\\w\\s]', '', string)\n",
    "string"
   ]
  },
  {
   "cell_type": "code",
   "execution_count": 9,
   "metadata": {},
   "outputs": [
    {
     "data": {
      "text/plain": [
       "0     German scientist Uğur Şahin the CEO of BioNTec...\n",
       "1     Serum Institute of Indias SII CEO Adar Poonawa...\n",
       "2     Russias coronavirus vaccine Sputnik V has arri...\n",
       "3     China has suspended imports from Indias Basu I...\n",
       "4     Indias richest man Mukesh Ambanis RIL has anno...\n",
       "                            ...                        \n",
       "92    TV actress Reem Shaikh has revealed that after...\n",
       "93    Actor Tiger Shroffs sister Krishna Shroff has ...\n",
       "94    Talking about the MeToo movement actress Radhi...\n",
       "95    Actor Matthew Perry who played the role of Cha...\n",
       "96    Recalling her initial days in the music indust...\n",
       "Name: content, Length: 97, dtype: object"
      ]
     },
     "execution_count": 9,
     "metadata": {},
     "output_type": "execute_result"
    }
   ],
   "source": [
    "# Again, this is a look because it has not been reassigned or changed in place.\n",
    "\n",
    "df.content.replace(r'[^\\w\\s]', '', regex=True)"
   ]
  },
  {
   "cell_type": "markdown",
   "metadata": {},
   "source": [
    "___"
   ]
  },
  {
   "cell_type": "markdown",
   "metadata": {},
   "source": [
    "##### Remove Accented Characters\n",
    "\n",
    "We will remove accented characters by chaining together the following methods:\n",
    "\n",
    "```python\n",
    "# Remove inconsistencies in unicode character encoding.\n",
    "df.col.str.normalize(form, unistr)\n",
    "```\n",
    "\n",
    "```python\n",
    "# Convert string to ASCII character set and drop non-ASCII characters.\n",
    "df.col.str.encode('ascii', 'ignore')\n",
    "```\n",
    "\n",
    "```python\n",
    "# Convert the bytes back into a string object.\n",
    "df.col.str.decode('utf-8', 'ignore')\n",
    "```\n",
    "\n",
    "[Here](https://pandas.pydata.org/pandas-docs/stable/reference/api/pandas.Series.str.normalize.html) if you want more on using `unicodedata.normalize()` as a str method on a Pandas Series."
   ]
  },
  {
   "cell_type": "code",
   "execution_count": 7,
   "metadata": {
    "scrolled": true
   },
   "outputs": [
    {
     "data": {
      "text/plain": [
       "0     German scientist Uur ahin, the CEO of BioNTech...\n",
       "1     Serum Institute of India's (SII) CEO Adar Poon...\n",
       "2     Russia's coronavirus vaccine, Sputnik V, has a...\n",
       "3     China has suspended imports from India's Basu ...\n",
       "4     India's richest man Mukesh Ambani's RIL has an...\n",
       "                            ...                        \n",
       "92    TV actress Reem Shaikh has revealed that after...\n",
       "93    Actor Tiger Shroff's sister, Krishna Shroff, h...\n",
       "94    Talking about the #MeToo movement, actress Rad...\n",
       "95    Actor Matthew Perry, who played the role of Ch...\n",
       "96    Recalling her initial days in the music indust...\n",
       "Name: content, Length: 97, dtype: object"
      ]
     },
     "execution_count": 7,
     "metadata": {},
     "output_type": "execute_result"
    }
   ],
   "source": [
    "# Again, this is a look because it has not been reassigned or changed in place.\n",
    "\n",
    "df.content.str.normalize('NFKC').str.encode('ascii', 'ignore').str.decode('utf-8', 'ignore')"
   ]
  },
  {
   "cell_type": "markdown",
   "metadata": {},
   "source": [
    "##### Basic Clean Function"
   ]
  },
  {
   "cell_type": "code",
   "execution_count": 10,
   "metadata": {},
   "outputs": [],
   "source": [
    "def basic_clean(df, col):\n",
    "    '''\n",
    "    This function takes in a df and a string for a column and\n",
    "    returns the df with a new column named 'basic_clean' with the\n",
    "    passed column text normalized.\n",
    "    '''\n",
    "    df['basic_clean'] = df[col].str.lower()\\\n",
    "                    .replace(r'[^\\w\\s]', '', regex=True)\\\n",
    "                    .str.normalize('NFKC')\\\n",
    "                    .str.encode('ascii', 'ignore')\\\n",
    "                    .str.decode('utf-8', 'ignore')\n",
    "    return df"
   ]
  },
  {
   "cell_type": "code",
   "execution_count": 11,
   "metadata": {},
   "outputs": [
    {
     "data": {
      "text/html": [
       "<div>\n",
       "<style scoped>\n",
       "    .dataframe tbody tr th:only-of-type {\n",
       "        vertical-align: middle;\n",
       "    }\n",
       "\n",
       "    .dataframe tbody tr th {\n",
       "        vertical-align: top;\n",
       "    }\n",
       "\n",
       "    .dataframe thead th {\n",
       "        text-align: right;\n",
       "    }\n",
       "</style>\n",
       "<table border=\"1\" class=\"dataframe\">\n",
       "  <thead>\n",
       "    <tr style=\"text-align: right;\">\n",
       "      <th></th>\n",
       "      <th>topic</th>\n",
       "      <th>title</th>\n",
       "      <th>author</th>\n",
       "      <th>content</th>\n",
       "      <th>basic_clean</th>\n",
       "    </tr>\n",
       "  </thead>\n",
       "  <tbody>\n",
       "    <tr>\n",
       "      <th>0</th>\n",
       "      <td>business</td>\n",
       "      <td>Scientist behind '90% effective' COVID-19 vacc...</td>\n",
       "      <td>Krishna Veera Vanamali</td>\n",
       "      <td>German scientist Uğur Şahin, the CEO of BioNTe...</td>\n",
       "      <td>german scientist uur ahin the ceo of biontech ...</td>\n",
       "    </tr>\n",
       "    <tr>\n",
       "      <th>1</th>\n",
       "      <td>business</td>\n",
       "      <td>Father said 'if you want to blow money up, fin...</td>\n",
       "      <td>Pragya Swastik</td>\n",
       "      <td>Serum Institute of India's (SII) CEO Adar Poon...</td>\n",
       "      <td>serum institute of indias sii ceo adar poonawa...</td>\n",
       "    </tr>\n",
       "  </tbody>\n",
       "</table>\n",
       "</div>"
      ],
      "text/plain": [
       "      topic                                              title  \\\n",
       "0  business  Scientist behind '90% effective' COVID-19 vacc...   \n",
       "1  business  Father said 'if you want to blow money up, fin...   \n",
       "\n",
       "                   author                                            content  \\\n",
       "0  Krishna Veera Vanamali  German scientist Uğur Şahin, the CEO of BioNTe...   \n",
       "1          Pragya Swastik  Serum Institute of India's (SII) CEO Adar Poon...   \n",
       "\n",
       "                                         basic_clean  \n",
       "0  german scientist uur ahin the ceo of biontech ...  \n",
       "1  serum institute of indias sii ceo adar poonawa...  "
      ]
     },
     "execution_count": 11,
     "metadata": {},
     "output_type": "execute_result"
    }
   ],
   "source": [
    "df = basic_clean(df, 'content')\n",
    "df.head(2)"
   ]
  },
  {
   "cell_type": "markdown",
   "metadata": {},
   "source": [
    "___"
   ]
  },
  {
   "cell_type": "markdown",
   "metadata": {},
   "source": [
    "#### Tokenize Text\n",
    "\n",
    "**Tokenization** - is when you split larger strings of text into smaller pieces or tokens by setting a boundary. You might chunk a sentence into words using a space as a boundary or a paragraph into sentences using punctuation as a boundary."
   ]
  },
  {
   "cell_type": "markdown",
   "metadata": {},
   "source": [
    "##### Using `.split()`\n",
    "\n",
    "Tokenizing using `.split()` is simple but also limited to one delimiter."
   ]
  },
  {
   "cell_type": "code",
   "execution_count": 19,
   "metadata": {},
   "outputs": [],
   "source": [
    "text = 'Knowledge is the compound interest of curiosity. - James Clear'"
   ]
  },
  {
   "cell_type": "code",
   "execution_count": 20,
   "metadata": {},
   "outputs": [
    {
     "data": {
      "text/plain": [
       "['Knowledge',\n",
       " 'is',\n",
       " 'the',\n",
       " 'compound',\n",
       " 'interest',\n",
       " 'of',\n",
       " 'curiosity.',\n",
       " '-',\n",
       " 'James',\n",
       " 'Clear']"
      ]
     },
     "execution_count": 20,
     "metadata": {},
     "output_type": "execute_result"
    }
   ],
   "source": [
    "text.split()"
   ]
  },
  {
   "cell_type": "code",
   "execution_count": 21,
   "metadata": {},
   "outputs": [],
   "source": [
    "text = \"There's the kind of person who is always the victim in any story they tell. Always on the receiving end of some injustice. There's the kind of person who is always the kind of hero of every story they tell. There's the smart person; they delivered the clever put down there.\""
   ]
  },
  {
   "cell_type": "code",
   "execution_count": 22,
   "metadata": {},
   "outputs": [
    {
     "data": {
      "text/plain": [
       "[\"There's the kind of person who is always the victim in any story they tell\",\n",
       " ' Always on the receiving end of some injustice',\n",
       " \" There's the kind of person who is always the kind of hero of every story they tell\",\n",
       " \" There's the smart person; they delivered the clever put down there\",\n",
       " '']"
      ]
     },
     "execution_count": 22,
     "metadata": {},
     "output_type": "execute_result"
    }
   ],
   "source": [
    "text.split('.')"
   ]
  },
  {
   "cell_type": "markdown",
   "metadata": {},
   "source": [
    "##### Using Regex\n",
    "\n",
    "Python Regex Cheatsheet [here](https://www.debuggex.com/cheatsheet/regex/python)."
   ]
  },
  {
   "cell_type": "code",
   "execution_count": 23,
   "metadata": {
    "scrolled": true
   },
   "outputs": [
    {
     "data": {
      "text/plain": [
       "['Knowledge',\n",
       " 'is',\n",
       " 'the',\n",
       " 'compound',\n",
       " 'interest',\n",
       " 'of',\n",
       " 'curiosity',\n",
       " 'James',\n",
       " 'Clear']"
      ]
     },
     "execution_count": 23,
     "metadata": {},
     "output_type": "execute_result"
    }
   ],
   "source": [
    "# Split your text using a regex pattern in .findall()\n",
    "\n",
    "pattern = r'[\\w]+'\n",
    "text = 'Knowledge is the compound interest of curiosity. - James Clear'\n",
    "\n",
    "tokens = re.findall(pattern, text)\n",
    "tokens"
   ]
  },
  {
   "cell_type": "code",
   "execution_count": 24,
   "metadata": {},
   "outputs": [
    {
     "data": {
      "text/plain": [
       "[\"There's the kind of person who is always the victim in any story they tell\",\n",
       " ' Always on the receiving end of some injustice',\n",
       " \" There's the kind of person who is always the kind of hero of every story they tell\",\n",
       " \" There's the smart person\",\n",
       " ' they delivered the clever put down there',\n",
       " '']"
      ]
     },
     "execution_count": 24,
     "metadata": {},
     "output_type": "execute_result"
    }
   ],
   "source": [
    "# Use `.compile()` with .split(text) to split your text on more than one delimiter\n",
    "\n",
    "pattern = re.compile(r'[.;!?]')\n",
    "text = \"There's the kind of person who is always the victim in any story they tell. Always on the receiving end of some injustice. There's the kind of person who is always the kind of hero of every story they tell. There's the smart person; they delivered the clever put down there.\"\n",
    "\n",
    "pattern.split(text)"
   ]
  },
  {
   "cell_type": "markdown",
   "metadata": {},
   "source": [
    "##### Using NLTK Tokenization\n",
    "\n",
    "```python\n",
    "tokenizer = nltk.tokenize.ToktokTokenizer()\n",
    "\n",
    "```\n",
    "\n",
    "```python\n",
    "df[tokenized] = df.col.apply(tokenizer.tokenize)\n",
    "```\n",
    "**<font color=red>I am not going to join the words in my lists back into sentences because this form will be helpful in my next functions.</font>**"
   ]
  },
  {
   "cell_type": "code",
   "execution_count": 25,
   "metadata": {},
   "outputs": [],
   "source": [
    "tokenizer = nltk.tokenize.ToktokTokenizer()"
   ]
  },
  {
   "cell_type": "code",
   "execution_count": 26,
   "metadata": {
    "scrolled": true
   },
   "outputs": [
    {
     "data": {
      "text/plain": [
       "0    [german, scientist, uur, ahin, the, ceo, of, b...\n",
       "1    [serum, institute, of, indias, sii, ceo, adar,...\n",
       "Name: basic_clean, dtype: object"
      ]
     },
     "execution_count": 26,
     "metadata": {},
     "output_type": "execute_result"
    }
   ],
   "source": [
    "df.basic_clean.apply(tokenizer.tokenize)[:2]"
   ]
  },
  {
   "cell_type": "code",
   "execution_count": 27,
   "metadata": {},
   "outputs": [],
   "source": [
    "# Here we apply nltk's tokenizer to each row, or text, in our basic_clean Series\n",
    "\n",
    "df['clean_tokens'] = df.basic_clean.apply(tokenizer.tokenize)"
   ]
  },
  {
   "cell_type": "code",
   "execution_count": 28,
   "metadata": {},
   "outputs": [
    {
     "data": {
      "text/html": [
       "<div>\n",
       "<style scoped>\n",
       "    .dataframe tbody tr th:only-of-type {\n",
       "        vertical-align: middle;\n",
       "    }\n",
       "\n",
       "    .dataframe tbody tr th {\n",
       "        vertical-align: top;\n",
       "    }\n",
       "\n",
       "    .dataframe thead th {\n",
       "        text-align: right;\n",
       "    }\n",
       "</style>\n",
       "<table border=\"1\" class=\"dataframe\">\n",
       "  <thead>\n",
       "    <tr style=\"text-align: right;\">\n",
       "      <th></th>\n",
       "      <th>basic_clean</th>\n",
       "      <th>clean_tokens</th>\n",
       "    </tr>\n",
       "  </thead>\n",
       "  <tbody>\n",
       "    <tr>\n",
       "      <th>0</th>\n",
       "      <td>german scientist uur ahin the ceo of biontech ...</td>\n",
       "      <td>[german, scientist, uur, ahin, the, ceo, of, b...</td>\n",
       "    </tr>\n",
       "    <tr>\n",
       "      <th>1</th>\n",
       "      <td>serum institute of indias sii ceo adar poonawa...</td>\n",
       "      <td>[serum, institute, of, indias, sii, ceo, adar,...</td>\n",
       "    </tr>\n",
       "  </tbody>\n",
       "</table>\n",
       "</div>"
      ],
      "text/plain": [
       "                                         basic_clean  \\\n",
       "0  german scientist uur ahin the ceo of biontech ...   \n",
       "1  serum institute of indias sii ceo adar poonawa...   \n",
       "\n",
       "                                        clean_tokens  \n",
       "0  [german, scientist, uur, ahin, the, ceo, of, b...  \n",
       "1  [serum, institute, of, indias, sii, ceo, adar,...  "
      ]
     },
     "execution_count": 28,
     "metadata": {},
     "output_type": "execute_result"
    }
   ],
   "source": [
    "df[['basic_clean', 'clean_tokens']].head(2)"
   ]
  },
  {
   "cell_type": "markdown",
   "metadata": {},
   "source": [
    "##### Tokenize Function"
   ]
  },
  {
   "cell_type": "code",
   "execution_count": 29,
   "metadata": {},
   "outputs": [],
   "source": [
    "def tokenize(df, col):\n",
    "    '''\n",
    "    This function takes in a df and a string for a column and\n",
    "    returns a df with a new column named 'clean_tokes' with the\n",
    "    passed column text tokenized and in a list.\n",
    "    '''\n",
    "    tokenizer = nltk.tokenize.ToktokTokenizer()\n",
    "    df['clean_tokens'] = df[col].apply(tokenizer.tokenize)\n",
    "    return df"
   ]
  },
  {
   "cell_type": "code",
   "execution_count": 30,
   "metadata": {},
   "outputs": [
    {
     "data": {
      "text/html": [
       "<div>\n",
       "<style scoped>\n",
       "    .dataframe tbody tr th:only-of-type {\n",
       "        vertical-align: middle;\n",
       "    }\n",
       "\n",
       "    .dataframe tbody tr th {\n",
       "        vertical-align: top;\n",
       "    }\n",
       "\n",
       "    .dataframe thead th {\n",
       "        text-align: right;\n",
       "    }\n",
       "</style>\n",
       "<table border=\"1\" class=\"dataframe\">\n",
       "  <thead>\n",
       "    <tr style=\"text-align: right;\">\n",
       "      <th></th>\n",
       "      <th>basic_clean</th>\n",
       "      <th>clean_tokens</th>\n",
       "    </tr>\n",
       "  </thead>\n",
       "  <tbody>\n",
       "    <tr>\n",
       "      <th>0</th>\n",
       "      <td>german scientist uur ahin the ceo of biontech ...</td>\n",
       "      <td>[german, scientist, uur, ahin, the, ceo, of, b...</td>\n",
       "    </tr>\n",
       "    <tr>\n",
       "      <th>1</th>\n",
       "      <td>serum institute of indias sii ceo adar poonawa...</td>\n",
       "      <td>[serum, institute, of, indias, sii, ceo, adar,...</td>\n",
       "    </tr>\n",
       "  </tbody>\n",
       "</table>\n",
       "</div>"
      ],
      "text/plain": [
       "                                         basic_clean  \\\n",
       "0  german scientist uur ahin the ceo of biontech ...   \n",
       "1  serum institute of indias sii ceo adar poonawa...   \n",
       "\n",
       "                                        clean_tokens  \n",
       "0  [german, scientist, uur, ahin, the, ceo, of, b...  \n",
       "1  [serum, institute, of, indias, sii, ceo, adar,...  "
      ]
     },
     "execution_count": 30,
     "metadata": {},
     "output_type": "execute_result"
    }
   ],
   "source": [
    "df = tokenize(df, 'basic_clean')\n",
    "df[['basic_clean', 'clean_tokens']].head(2)"
   ]
  },
  {
   "cell_type": "markdown",
   "metadata": {},
   "source": [
    "___"
   ]
  },
  {
   "cell_type": "markdown",
   "metadata": {},
   "source": [
    "#### Stem Tokens\n",
    "\n",
    "**Stemming** is when you reduce related words in your text to their common stem. It can make it easier when you are searching for a particular word in your text to search for their common stem rather than every form of the word. Stemmers aren't that sophisticated in the way they chop off word endings at their common stems; Spacy, another python NLP library, doesn't even include a stemmer in their library. Spacy only offers the more sophisticated lemmatizer, which we will look at in NLTK next."
   ]
  },
  {
   "cell_type": "markdown",
   "metadata": {},
   "source": [
    "##### Using NLTK PorterStemmer\n",
    "\n",
    "```python\n",
    "# Create the Stemmer.\n",
    "ps = nltk.porter.PorterStemmer()\n",
    "```\n",
    "\n",
    "```python\n",
    "# Apply the stemmer to each word in column; now we have a Series of lists with stemmed tokens.\n",
    "stems = df.tokenized_col.apply(lambda row: [ps.stem(word) for word in row])\n",
    "```\n",
    "\n",
    "```python\n",
    "# Join our lists of words into strings again and assign to our dataframe.\n",
    "df['stemmed'] = stems.str.join(' ')\n",
    "```"
   ]
  },
  {
   "cell_type": "code",
   "execution_count": 31,
   "metadata": {},
   "outputs": [],
   "source": [
    "# Create porter stemmer\n",
    "\n",
    "ps = nltk.porter.PorterStemmer()"
   ]
  },
  {
   "cell_type": "code",
   "execution_count": 32,
   "metadata": {},
   "outputs": [
    {
     "data": {
      "text/plain": [
       "0    [german, scientist, uur, ahin, the, ceo, of, b...\n",
       "1    [serum, institut, of, india, sii, ceo, adar, p...\n",
       "Name: clean_tokens, dtype: object"
      ]
     },
     "execution_count": 32,
     "metadata": {},
     "output_type": "execute_result"
    }
   ],
   "source": [
    "# Apply the stemmer to each word in column; now we have a Series of lists with stemmed tokens.\n",
    "\n",
    "stems = df.clean_tokens.apply(lambda row: [ps.stem(word) for word in row])\n",
    "stems.head(2)"
   ]
  },
  {
   "cell_type": "code",
   "execution_count": 33,
   "metadata": {},
   "outputs": [],
   "source": [
    "# Join our lists of words into strings again and assign to our dataframe.\n",
    "\n",
    "df['stemmed'] = stems.str.join(' ')"
   ]
  },
  {
   "cell_type": "code",
   "execution_count": 34,
   "metadata": {},
   "outputs": [
    {
     "data": {
      "text/html": [
       "<div>\n",
       "<style scoped>\n",
       "    .dataframe tbody tr th:only-of-type {\n",
       "        vertical-align: middle;\n",
       "    }\n",
       "\n",
       "    .dataframe tbody tr th {\n",
       "        vertical-align: top;\n",
       "    }\n",
       "\n",
       "    .dataframe thead th {\n",
       "        text-align: right;\n",
       "    }\n",
       "</style>\n",
       "<table border=\"1\" class=\"dataframe\">\n",
       "  <thead>\n",
       "    <tr style=\"text-align: right;\">\n",
       "      <th></th>\n",
       "      <th>basic_clean</th>\n",
       "      <th>stemmed</th>\n",
       "    </tr>\n",
       "  </thead>\n",
       "  <tbody>\n",
       "    <tr>\n",
       "      <th>0</th>\n",
       "      <td>german scientist uur ahin the ceo of biontech which codeveloped a coronavirus vaccine with pfizer said hes confident his product can end the pandemic and bash the virus over the head the vaccine is 90 effective based on initial data from a latestage trial i believe that even protection only from...</td>\n",
       "      <td>german scientist uur ahin the ceo of biontech which codevelop a coronaviru vaccin with pfizer said he confid hi product can end the pandem and bash the viru over the head the vaccin is 90 effect base on initi data from a latestag trial i believ that even protect onli from symptomat infect will h...</td>\n",
       "    </tr>\n",
       "    <tr>\n",
       "      <th>1</th>\n",
       "      <td>serum institute of indias sii ceo adar poonawalla revealed that his father cyrus s poonawalla told him look its your money if you want to blow it up fine as he put 250 million in ramping up covid19 vaccine manufacturing capacity adar told the washington post i decided to go all out his father fo...</td>\n",
       "      <td>serum institut of india sii ceo adar poonawalla reveal that hi father cyru s poonawalla told him look it your money if you want to blow it up fine as he put 250 million in ramp up covid19 vaccin manufactur capac adar told the washington post i decid to go all out hi father found sii in 1966</td>\n",
       "    </tr>\n",
       "  </tbody>\n",
       "</table>\n",
       "</div>"
      ],
      "text/plain": [
       "                                                                                                                                                                                                                                                                                                   basic_clean  \\\n",
       "0  german scientist uur ahin the ceo of biontech which codeveloped a coronavirus vaccine with pfizer said hes confident his product can end the pandemic and bash the virus over the head the vaccine is 90 effective based on initial data from a latestage trial i believe that even protection only from...   \n",
       "1  serum institute of indias sii ceo adar poonawalla revealed that his father cyrus s poonawalla told him look its your money if you want to blow it up fine as he put 250 million in ramping up covid19 vaccine manufacturing capacity adar told the washington post i decided to go all out his father fo...   \n",
       "\n",
       "                                                                                                                                                                                                                                                                                                       stemmed  \n",
       "0  german scientist uur ahin the ceo of biontech which codevelop a coronaviru vaccin with pfizer said he confid hi product can end the pandem and bash the viru over the head the vaccin is 90 effect base on initi data from a latestag trial i believ that even protect onli from symptomat infect will h...  \n",
       "1          serum institut of india sii ceo adar poonawalla reveal that hi father cyru s poonawalla told him look it your money if you want to blow it up fine as he put 250 million in ramp up covid19 vaccin manufactur capac adar told the washington post i decid to go all out hi father found sii in 1966  "
      ]
     },
     "execution_count": 34,
     "metadata": {},
     "output_type": "execute_result"
    }
   ],
   "source": [
    "# We can do a quick visual check that our stemmer is working.\n",
    "\n",
    "pd.options.display.max_colwidth = 300\n",
    "df[['basic_clean', 'stemmed']].head(2)"
   ]
  },
  {
   "cell_type": "markdown",
   "metadata": {},
   "source": [
    "##### Stem Function"
   ]
  },
  {
   "cell_type": "code",
   "execution_count": 35,
   "metadata": {},
   "outputs": [],
   "source": [
    "def stem(df, col):\n",
    "    '''\n",
    "    This function takes in a df and a string for a column name and\n",
    "    returns a df with a new column named 'stemmed'.\n",
    "    '''\n",
    "    # Create porter stemmer.\n",
    "    ps = nltk.porter.PorterStemmer()\n",
    "    \n",
    "    # Apply the stemmer to each word in column; now we have a Series of lists with stemmed tokens.\n",
    "    stems = df[col].apply(lambda row: [ps.stem(word) for word in row])\n",
    "    \n",
    "    # Join our lists of words into strings again and assign to our dataframe.\n",
    "    df['stemmed'] = stems.str.join(' ')\n",
    "    \n",
    "    return df"
   ]
  },
  {
   "cell_type": "code",
   "execution_count": 36,
   "metadata": {},
   "outputs": [
    {
     "data": {
      "text/html": [
       "<div>\n",
       "<style scoped>\n",
       "    .dataframe tbody tr th:only-of-type {\n",
       "        vertical-align: middle;\n",
       "    }\n",
       "\n",
       "    .dataframe tbody tr th {\n",
       "        vertical-align: top;\n",
       "    }\n",
       "\n",
       "    .dataframe thead th {\n",
       "        text-align: right;\n",
       "    }\n",
       "</style>\n",
       "<table border=\"1\" class=\"dataframe\">\n",
       "  <thead>\n",
       "    <tr style=\"text-align: right;\">\n",
       "      <th></th>\n",
       "      <th>basic_clean</th>\n",
       "      <th>stemmed</th>\n",
       "    </tr>\n",
       "  </thead>\n",
       "  <tbody>\n",
       "    <tr>\n",
       "      <th>95</th>\n",
       "      <td>actor matthew perry who played the role of chandler bing in friends on thursday shared an update on the upcoming reunion special he tweeted friends reunion being rescheduled for the beginning of march looks like we have a busy year coming up the unscripted reunion has been delayed multiple times...</td>\n",
       "      <td>actor matthew perri who play the role of chandler bing in friend on thursday share an updat on the upcom reunion special he tweet friend reunion be reschedul for the begin of march look like we have a busi year come up the unscript reunion ha been delay multipl time due to the ongo coronaviru pa...</td>\n",
       "    </tr>\n",
       "    <tr>\n",
       "      <th>96</th>\n",
       "      <td>recalling her initial days in the music industry singer sunidhi chauhan said when i started out i was not needed at that time she mentioned that while the industry did not have space for new artists she managed to make her mark they welcomed me with open arms and here i am today thanks to those ...</td>\n",
       "      <td>recal her initi day in the music industri singer sunidhi chauhan said when i start out i wa not need at that time she mention that while the industri did not have space for new artist she manag to make her mark they welcom me with open arm and here i am today thank to those time she ad</td>\n",
       "    </tr>\n",
       "  </tbody>\n",
       "</table>\n",
       "</div>"
      ],
      "text/plain": [
       "                                                                                                                                                                                                                                                                                                    basic_clean  \\\n",
       "95  actor matthew perry who played the role of chandler bing in friends on thursday shared an update on the upcoming reunion special he tweeted friends reunion being rescheduled for the beginning of march looks like we have a busy year coming up the unscripted reunion has been delayed multiple times...   \n",
       "96  recalling her initial days in the music industry singer sunidhi chauhan said when i started out i was not needed at that time she mentioned that while the industry did not have space for new artists she managed to make her mark they welcomed me with open arms and here i am today thanks to those ...   \n",
       "\n",
       "                                                                                                                                                                                                                                                                                                        stemmed  \n",
       "95  actor matthew perri who play the role of chandler bing in friend on thursday share an updat on the upcom reunion special he tweet friend reunion be reschedul for the begin of march look like we have a busi year come up the unscript reunion ha been delay multipl time due to the ongo coronaviru pa...  \n",
       "96               recal her initi day in the music industri singer sunidhi chauhan said when i start out i wa not need at that time she mention that while the industri did not have space for new artist she manag to make her mark they welcom me with open arm and here i am today thank to those time she ad  "
      ]
     },
     "execution_count": 36,
     "metadata": {},
     "output_type": "execute_result"
    }
   ],
   "source": [
    "df = stem(df, 'clean_tokens')\n",
    "df[['basic_clean', 'stemmed']].tail(2)"
   ]
  },
  {
   "cell_type": "markdown",
   "metadata": {},
   "source": [
    "___"
   ]
  },
  {
   "cell_type": "markdown",
   "metadata": {},
   "source": [
    "#### Lemmatize Tokens\n",
    "\n",
    "**Lemmatization** - is when you reduce related words in your text to their lemma or word base by applying a morphological analysis to your text. Like stemming, this is done to reduce the number of forms you have of the same word, so they can be analyzed as a single item. However, with stemming, you might end up with tokens that are not actually words anymore after they have been chopped off at their base, but with lemmatization you will end up with real words. A drawback of lemmatization is that it takes longer than stemming; you can try both to see which gives you better results as you analyze a given text."
   ]
  },
  {
   "cell_type": "markdown",
   "metadata": {},
   "source": [
    "##### Using NLTK WordNetLemmatizer\n",
    "\n",
    "```python\n",
    "# Download\n",
    "nltk.download('wordnet')\n",
    "```\n",
    "\n",
    "```python\n",
    "# Create the Lemmatizer.\n",
    "wnl = nltk.stem.WordNetLemmatizer()\n",
    "```\n",
    "\n",
    "```python\n",
    "# Lemmatize each token from our clean_tokens Series of lists. \n",
    "lemmas = df.tokenized_col.apply(lambda row: [wnl.lemmatize(word) for word in row])\n",
    "```\n",
    "\n",
    "```python\n",
    "# Join our lists of words into strings again and assign to our dataframe.\n",
    "df['lemmatized'] = lemmas.str.join(' ')\n",
    "```"
   ]
  },
  {
   "cell_type": "code",
   "execution_count": 37,
   "metadata": {},
   "outputs": [],
   "source": [
    "# Create the Lemmatizer\n",
    "\n",
    "wnl = nltk.stem.WordNetLemmatizer()"
   ]
  },
  {
   "cell_type": "code",
   "execution_count": 38,
   "metadata": {},
   "outputs": [
    {
     "data": {
      "text/plain": [
       "0    [german, scientist, uur, ahin, the, ceo, of, biontech, which, codeveloped, a, coronavirus, vaccine, with, pfizer, said, he, confident, his, product, can, end, the, pandemic, and, bash, the, virus, over, the, head, the, vaccine, is, 90, effective, based, on, initial, data, from, a, latestage, tri...\n",
       "1    [serum, institute, of, india, sii, ceo, adar, poonawalla, revealed, that, his, father, cyrus, s, poonawalla, told, him, look, it, your, money, if, you, want, to, blow, it, up, fine, a, he, put, 250, million, in, ramping, up, covid19, vaccine, manufacturing, capacity, adar, told, the, washington,...\n",
       "Name: clean_tokens, dtype: object"
      ]
     },
     "execution_count": 38,
     "metadata": {},
     "output_type": "execute_result"
    }
   ],
   "source": [
    "# Lemmatize each token from our clean_tokens Series of lists\n",
    "\n",
    "lemmas = df.clean_tokens.apply(lambda row: [wnl.lemmatize(word) for word in row])\n",
    "lemmas.head(2)"
   ]
  },
  {
   "cell_type": "code",
   "execution_count": 39,
   "metadata": {},
   "outputs": [],
   "source": [
    "# Join our lists of words into strings again and assign to our dataframe.\n",
    "\n",
    "df['lemmatized'] = lemmas.str.join(' ')"
   ]
  },
  {
   "cell_type": "code",
   "execution_count": 40,
   "metadata": {},
   "outputs": [
    {
     "data": {
      "text/html": [
       "<div>\n",
       "<style scoped>\n",
       "    .dataframe tbody tr th:only-of-type {\n",
       "        vertical-align: middle;\n",
       "    }\n",
       "\n",
       "    .dataframe tbody tr th {\n",
       "        vertical-align: top;\n",
       "    }\n",
       "\n",
       "    .dataframe thead th {\n",
       "        text-align: right;\n",
       "    }\n",
       "</style>\n",
       "<table border=\"1\" class=\"dataframe\">\n",
       "  <thead>\n",
       "    <tr style=\"text-align: right;\">\n",
       "      <th></th>\n",
       "      <th>basic_clean</th>\n",
       "      <th>lemmatized</th>\n",
       "    </tr>\n",
       "  </thead>\n",
       "  <tbody>\n",
       "    <tr>\n",
       "      <th>0</th>\n",
       "      <td>german scientist uur ahin the ceo of biontech which codeveloped a coronavirus vaccine with pfizer said hes confident his product can end the pandemic and bash the virus over the head the vaccine is 90 effective based on initial data from a latestage trial i believe that even protection only from...</td>\n",
       "      <td>german scientist uur ahin the ceo of biontech which codeveloped a coronavirus vaccine with pfizer said he confident his product can end the pandemic and bash the virus over the head the vaccine is 90 effective based on initial data from a latestage trial i believe that even protection only from ...</td>\n",
       "    </tr>\n",
       "    <tr>\n",
       "      <th>1</th>\n",
       "      <td>serum institute of indias sii ceo adar poonawalla revealed that his father cyrus s poonawalla told him look its your money if you want to blow it up fine as he put 250 million in ramping up covid19 vaccine manufacturing capacity adar told the washington post i decided to go all out his father fo...</td>\n",
       "      <td>serum institute of india sii ceo adar poonawalla revealed that his father cyrus s poonawalla told him look it your money if you want to blow it up fine a he put 250 million in ramping up covid19 vaccine manufacturing capacity adar told the washington post i decided to go all out his father found...</td>\n",
       "    </tr>\n",
       "  </tbody>\n",
       "</table>\n",
       "</div>"
      ],
      "text/plain": [
       "                                                                                                                                                                                                                                                                                                   basic_clean  \\\n",
       "0  german scientist uur ahin the ceo of biontech which codeveloped a coronavirus vaccine with pfizer said hes confident his product can end the pandemic and bash the virus over the head the vaccine is 90 effective based on initial data from a latestage trial i believe that even protection only from...   \n",
       "1  serum institute of indias sii ceo adar poonawalla revealed that his father cyrus s poonawalla told him look its your money if you want to blow it up fine as he put 250 million in ramping up covid19 vaccine manufacturing capacity adar told the washington post i decided to go all out his father fo...   \n",
       "\n",
       "                                                                                                                                                                                                                                                                                                    lemmatized  \n",
       "0  german scientist uur ahin the ceo of biontech which codeveloped a coronavirus vaccine with pfizer said he confident his product can end the pandemic and bash the virus over the head the vaccine is 90 effective based on initial data from a latestage trial i believe that even protection only from ...  \n",
       "1  serum institute of india sii ceo adar poonawalla revealed that his father cyrus s poonawalla told him look it your money if you want to blow it up fine a he put 250 million in ramping up covid19 vaccine manufacturing capacity adar told the washington post i decided to go all out his father found...  "
      ]
     },
     "execution_count": 40,
     "metadata": {},
     "output_type": "execute_result"
    }
   ],
   "source": [
    "df[['basic_clean', 'lemmatized']].head(2)"
   ]
  },
  {
   "cell_type": "code",
   "execution_count": 42,
   "metadata": {},
   "outputs": [
    {
     "data": {
      "text/plain": [
       "False"
      ]
     },
     "execution_count": 42,
     "metadata": {},
     "output_type": "execute_result"
    }
   ],
   "source": [
    "# Just a quick check that these are actually changing something.\n",
    "\n",
    "df.stemmed.iloc[90] == df.lemmatized.iloc[90]"
   ]
  },
  {
   "cell_type": "markdown",
   "metadata": {},
   "source": [
    "**<font color=green>Now What?</font>**\n",
    "\n",
    "##### Lemmatize Function"
   ]
  },
  {
   "cell_type": "code",
   "execution_count": 43,
   "metadata": {},
   "outputs": [],
   "source": [
    "def lemmatize(df, col):\n",
    "    '''\n",
    "    This function takes in a df and a string for column name and\n",
    "    returns the original df with a new column called 'lemmatized'.\n",
    "    '''\n",
    "    # Create the lemmatizer.\n",
    "    wnl = nltk.stem.WordNetLemmatizer()\n",
    "    \n",
    "    # Lemmatize each token from our clean_tokes Series of lists.\n",
    "    lemmas = df[col].apply(lambda row: [wnl.lemmatize(word) for word in row])\n",
    "    \n",
    "    # Join the cleaned and lemmatized tokens back into strings and assign to df.\n",
    "    df['lemmatized'] = lemmas.str.join(' ')\n",
    "    return df"
   ]
  },
  {
   "cell_type": "code",
   "execution_count": 44,
   "metadata": {},
   "outputs": [
    {
     "data": {
      "text/html": [
       "<div>\n",
       "<style scoped>\n",
       "    .dataframe tbody tr th:only-of-type {\n",
       "        vertical-align: middle;\n",
       "    }\n",
       "\n",
       "    .dataframe tbody tr th {\n",
       "        vertical-align: top;\n",
       "    }\n",
       "\n",
       "    .dataframe thead th {\n",
       "        text-align: right;\n",
       "    }\n",
       "</style>\n",
       "<table border=\"1\" class=\"dataframe\">\n",
       "  <thead>\n",
       "    <tr style=\"text-align: right;\">\n",
       "      <th></th>\n",
       "      <th>basic_clean</th>\n",
       "      <th>lemmatized</th>\n",
       "    </tr>\n",
       "  </thead>\n",
       "  <tbody>\n",
       "    <tr>\n",
       "      <th>0</th>\n",
       "      <td>german scientist uur ahin the ceo of biontech which codeveloped a coronavirus vaccine with pfizer said hes confident his product can end the pandemic and bash the virus over the head the vaccine is 90 effective based on initial data from a latestage trial i believe that even protection only from...</td>\n",
       "      <td>german scientist uur ahin the ceo of biontech which codeveloped a coronavirus vaccine with pfizer said he confident his product can end the pandemic and bash the virus over the head the vaccine is 90 effective based on initial data from a latestage trial i believe that even protection only from ...</td>\n",
       "    </tr>\n",
       "    <tr>\n",
       "      <th>1</th>\n",
       "      <td>serum institute of indias sii ceo adar poonawalla revealed that his father cyrus s poonawalla told him look its your money if you want to blow it up fine as he put 250 million in ramping up covid19 vaccine manufacturing capacity adar told the washington post i decided to go all out his father fo...</td>\n",
       "      <td>serum institute of india sii ceo adar poonawalla revealed that his father cyrus s poonawalla told him look it your money if you want to blow it up fine a he put 250 million in ramping up covid19 vaccine manufacturing capacity adar told the washington post i decided to go all out his father found...</td>\n",
       "    </tr>\n",
       "  </tbody>\n",
       "</table>\n",
       "</div>"
      ],
      "text/plain": [
       "                                                                                                                                                                                                                                                                                                   basic_clean  \\\n",
       "0  german scientist uur ahin the ceo of biontech which codeveloped a coronavirus vaccine with pfizer said hes confident his product can end the pandemic and bash the virus over the head the vaccine is 90 effective based on initial data from a latestage trial i believe that even protection only from...   \n",
       "1  serum institute of indias sii ceo adar poonawalla revealed that his father cyrus s poonawalla told him look its your money if you want to blow it up fine as he put 250 million in ramping up covid19 vaccine manufacturing capacity adar told the washington post i decided to go all out his father fo...   \n",
       "\n",
       "                                                                                                                                                                                                                                                                                                    lemmatized  \n",
       "0  german scientist uur ahin the ceo of biontech which codeveloped a coronavirus vaccine with pfizer said he confident his product can end the pandemic and bash the virus over the head the vaccine is 90 effective based on initial data from a latestage trial i believe that even protection only from ...  \n",
       "1  serum institute of india sii ceo adar poonawalla revealed that his father cyrus s poonawalla told him look it your money if you want to blow it up fine a he put 250 million in ramping up covid19 vaccine manufacturing capacity adar told the washington post i decided to go all out his father found...  "
      ]
     },
     "execution_count": 44,
     "metadata": {},
     "output_type": "execute_result"
    }
   ],
   "source": [
    "df = lemmatize(df, 'clean_tokes')\n",
    "df[['basic_clean', 'lemmatized']].head(2)"
   ]
  },
  {
   "cell_type": "markdown",
   "metadata": {},
   "source": [
    "#### Remove Stopwords\n",
    "\n",
    "**Stopwords** - are words which are filtered out during the preparation of your text for analyzation and modeling. Stopwords are those that offer little to the meaning of your text and are basically just adding noise to your analysis. Or, as Ryan Orsinger would say, \"Stopwords aren't the real story of the document.\" Words such as 'the', 'and', 'a', and the like can be removed, so you can better focus on the good stuff. "
   ]
  },
  {
   "cell_type": "markdown",
   "metadata": {},
   "source": [
    "##### Using NLTK Stopwords\n",
    "\n",
    "```python\n",
    "# Necessary import\n",
    "import nltk; nltk.download('stopwords')\n",
    "```\n",
    "\n",
    "```python\n",
    "# Create list of stopwords.\n",
    "stopword_list = stopwords.words('english')\n",
    "```\n",
    "\n",
    "```python\n",
    "# Create list of tokens or words.\n",
    "words = df.col.str.split()\n",
    "```\n",
    "\n",
    "```python\n",
    "# Create a Series of words lists with stopwords removed.\n",
    "filtered_words = words.apply(lambda row: [word for word in row if word not in stopword_list])\n",
    "```\n",
    "\n",
    "```python\n",
    "# Join the tokens or words in the list back into strings and assign to df.\n",
    "df['clean_words'] = filtered_words.str.join(' ')\n",
    "```"
   ]
  },
  {
   "cell_type": "code",
   "execution_count": 45,
   "metadata": {},
   "outputs": [],
   "source": [
    "# Create the list of stopwords.\n",
    "\n",
    "stopword_list = stopwords.words('english')"
   ]
  },
  {
   "cell_type": "code",
   "execution_count": 46,
   "metadata": {},
   "outputs": [],
   "source": [
    "# Split words in lemmatized column\n",
    "\n",
    "words = df.lemmatized.str.split()"
   ]
  },
  {
   "cell_type": "code",
   "execution_count": 47,
   "metadata": {},
   "outputs": [],
   "source": [
    "# Check each word in each row of the column against stopword_list and return only those that are not in list\n",
    "\n",
    "filtered_words = words.apply(lambda row: [word for word in row if word not in stopword_list])\n",
    "df['clean_lemmatized'] = filtered_words.str.join(' ')"
   ]
  },
  {
   "cell_type": "code",
   "execution_count": 48,
   "metadata": {},
   "outputs": [
    {
     "data": {
      "text/html": [
       "<div>\n",
       "<style scoped>\n",
       "    .dataframe tbody tr th:only-of-type {\n",
       "        vertical-align: middle;\n",
       "    }\n",
       "\n",
       "    .dataframe tbody tr th {\n",
       "        vertical-align: top;\n",
       "    }\n",
       "\n",
       "    .dataframe thead th {\n",
       "        text-align: right;\n",
       "    }\n",
       "</style>\n",
       "<table border=\"1\" class=\"dataframe\">\n",
       "  <thead>\n",
       "    <tr style=\"text-align: right;\">\n",
       "      <th></th>\n",
       "      <th>basic_clean</th>\n",
       "      <th>clean_lemmatized</th>\n",
       "    </tr>\n",
       "  </thead>\n",
       "  <tbody>\n",
       "    <tr>\n",
       "      <th>0</th>\n",
       "      <td>german scientist uur ahin the ceo of biontech which codeveloped a coronavirus vaccine with pfizer said hes confident his product can end the pandemic and bash the virus over the head the vaccine is 90 effective based on initial data from a latestage trial i believe that even protection only from...</td>\n",
       "      <td>german scientist uur ahin ceo biontech codeveloped coronavirus vaccine pfizer said confident product end pandemic bash virus head vaccine 90 effective based initial data latestage trial believe even protection symptomatic infection dramatic effect ahin said</td>\n",
       "    </tr>\n",
       "    <tr>\n",
       "      <th>1</th>\n",
       "      <td>serum institute of indias sii ceo adar poonawalla revealed that his father cyrus s poonawalla told him look its your money if you want to blow it up fine as he put 250 million in ramping up covid19 vaccine manufacturing capacity adar told the washington post i decided to go all out his father fo...</td>\n",
       "      <td>serum institute india sii ceo adar poonawalla revealed father cyrus poonawalla told look money want blow fine put 250 million ramping covid19 vaccine manufacturing capacity adar told washington post decided go father founded sii 1966</td>\n",
       "    </tr>\n",
       "  </tbody>\n",
       "</table>\n",
       "</div>"
      ],
      "text/plain": [
       "                                                                                                                                                                                                                                                                                                   basic_clean  \\\n",
       "0  german scientist uur ahin the ceo of biontech which codeveloped a coronavirus vaccine with pfizer said hes confident his product can end the pandemic and bash the virus over the head the vaccine is 90 effective based on initial data from a latestage trial i believe that even protection only from...   \n",
       "1  serum institute of indias sii ceo adar poonawalla revealed that his father cyrus s poonawalla told him look its your money if you want to blow it up fine as he put 250 million in ramping up covid19 vaccine manufacturing capacity adar told the washington post i decided to go all out his father fo...   \n",
       "\n",
       "                                                                                                                                                                                                                                                    clean_lemmatized  \n",
       "0  german scientist uur ahin ceo biontech codeveloped coronavirus vaccine pfizer said confident product end pandemic bash virus head vaccine 90 effective based initial data latestage trial believe even protection symptomatic infection dramatic effect ahin said  \n",
       "1                          serum institute india sii ceo adar poonawalla revealed father cyrus poonawalla told look money want blow fine put 250 million ramping covid19 vaccine manufacturing capacity adar told washington post decided go father founded sii 1966  "
      ]
     },
     "execution_count": 48,
     "metadata": {},
     "output_type": "execute_result"
    }
   ],
   "source": [
    "df[['basic_clean', 'clean_lemmatized']].head(2)"
   ]
  },
  {
   "cell_type": "code",
   "execution_count": 49,
   "metadata": {},
   "outputs": [],
   "source": [
    "# Do the same as above but for stemmed words\n",
    "\n",
    "words = df.stemmed.str.split()\n",
    "\n",
    "filtered_words = words.apply(lambda row: [word for word in row if word not in stopword_list])\n",
    "df['clean_stemmed'] = filtered_words.str.join(' ')"
   ]
  },
  {
   "cell_type": "code",
   "execution_count": 50,
   "metadata": {},
   "outputs": [
    {
     "data": {
      "text/html": [
       "<div>\n",
       "<style scoped>\n",
       "    .dataframe tbody tr th:only-of-type {\n",
       "        vertical-align: middle;\n",
       "    }\n",
       "\n",
       "    .dataframe tbody tr th {\n",
       "        vertical-align: top;\n",
       "    }\n",
       "\n",
       "    .dataframe thead th {\n",
       "        text-align: right;\n",
       "    }\n",
       "</style>\n",
       "<table border=\"1\" class=\"dataframe\">\n",
       "  <thead>\n",
       "    <tr style=\"text-align: right;\">\n",
       "      <th></th>\n",
       "      <th>basic_clean</th>\n",
       "      <th>clean_stemmed</th>\n",
       "    </tr>\n",
       "  </thead>\n",
       "  <tbody>\n",
       "    <tr>\n",
       "      <th>0</th>\n",
       "      <td>german scientist uur ahin the ceo of biontech which codeveloped a coronavirus vaccine with pfizer said hes confident his product can end the pandemic and bash the virus over the head the vaccine is 90 effective based on initial data from a latestage trial i believe that even protection only from...</td>\n",
       "      <td>german scientist uur ahin ceo biontech codevelop coronaviru vaccin pfizer said confid hi product end pandem bash viru head vaccin 90 effect base initi data latestag trial believ even protect onli symptomat infect dramat effect ahin said</td>\n",
       "    </tr>\n",
       "    <tr>\n",
       "      <th>1</th>\n",
       "      <td>serum institute of indias sii ceo adar poonawalla revealed that his father cyrus s poonawalla told him look its your money if you want to blow it up fine as he put 250 million in ramping up covid19 vaccine manufacturing capacity adar told the washington post i decided to go all out his father fo...</td>\n",
       "      <td>serum institut india sii ceo adar poonawalla reveal hi father cyru poonawalla told look money want blow fine put 250 million ramp covid19 vaccin manufactur capac adar told washington post decid go hi father found sii 1966</td>\n",
       "    </tr>\n",
       "  </tbody>\n",
       "</table>\n",
       "</div>"
      ],
      "text/plain": [
       "                                                                                                                                                                                                                                                                                                   basic_clean  \\\n",
       "0  german scientist uur ahin the ceo of biontech which codeveloped a coronavirus vaccine with pfizer said hes confident his product can end the pandemic and bash the virus over the head the vaccine is 90 effective based on initial data from a latestage trial i believe that even protection only from...   \n",
       "1  serum institute of indias sii ceo adar poonawalla revealed that his father cyrus s poonawalla told him look its your money if you want to blow it up fine as he put 250 million in ramping up covid19 vaccine manufacturing capacity adar told the washington post i decided to go all out his father fo...   \n",
       "\n",
       "                                                                                                                                                                                                                                  clean_stemmed  \n",
       "0  german scientist uur ahin ceo biontech codevelop coronaviru vaccin pfizer said confid hi product end pandem bash viru head vaccin 90 effect base initi data latestag trial believ even protect onli symptomat infect dramat effect ahin said  \n",
       "1                 serum institut india sii ceo adar poonawalla reveal hi father cyru poonawalla told look money want blow fine put 250 million ramp covid19 vaccin manufactur capac adar told washington post decid go hi father found sii 1966  "
      ]
     },
     "execution_count": 50,
     "metadata": {},
     "output_type": "execute_result"
    }
   ],
   "source": [
    "df[['basic_clean', 'clean_stemmed']].head(2)"
   ]
  },
  {
   "cell_type": "markdown",
   "metadata": {},
   "source": [
    "##### Stopwords Function"
   ]
  },
  {
   "cell_type": "code",
   "execution_count": 51,
   "metadata": {},
   "outputs": [],
   "source": [
    "def remove_stopwords(df, col, extra_words=[]):\n",
    "    '''\n",
    "    This function takes in a df and a string for column name, optional extra_words parameter\n",
    "    if you want to add extra stopwords and returns the df with a new column \n",
    "    named 'clean' with stopwords removed.\n",
    "    '''\n",
    "    # Create stopword_list\n",
    "    stopword_list = stopwords.words('english')\n",
    "    \n",
    "    # Add optional additional stopwords\n",
    "    stopword_list.extend(extra_words)\n",
    "    \n",
    "    # Split words in column\n",
    "    words = df[col].str.split()\n",
    "    \n",
    "    # Check each word in each row of the column against stopword_list and return only those that are not in list\n",
    "    filtered_words = words.apply(lambda row: [word for word in row if word not in stopword_list])\n",
    "    \n",
    "    # Create new column of words that have stopwords removed\n",
    "    df['clean_' + col] = filtered_words.str.join(' ')\n",
    "    \n",
    "    return df"
   ]
  },
  {
   "cell_type": "code",
   "execution_count": 52,
   "metadata": {},
   "outputs": [
    {
     "data": {
      "text/html": [
       "<div>\n",
       "<style scoped>\n",
       "    .dataframe tbody tr th:only-of-type {\n",
       "        vertical-align: middle;\n",
       "    }\n",
       "\n",
       "    .dataframe tbody tr th {\n",
       "        vertical-align: top;\n",
       "    }\n",
       "\n",
       "    .dataframe thead th {\n",
       "        text-align: right;\n",
       "    }\n",
       "</style>\n",
       "<table border=\"1\" class=\"dataframe\">\n",
       "  <thead>\n",
       "    <tr style=\"text-align: right;\">\n",
       "      <th></th>\n",
       "      <th>basic_clean</th>\n",
       "      <th>clean_lemmatized</th>\n",
       "    </tr>\n",
       "  </thead>\n",
       "  <tbody>\n",
       "    <tr>\n",
       "      <th>0</th>\n",
       "      <td>german scientist uur ahin the ceo of biontech which codeveloped a coronavirus vaccine with pfizer said hes confident his product can end the pandemic and bash the virus over the head the vaccine is 90 effective based on initial data from a latestage trial i believe that even protection only from...</td>\n",
       "      <td>german scientist uur ahin ceo biontech codeveloped coronavirus vaccine pfizer said confident product end pandemic bash virus head vaccine 90 effective based initial data latestage trial believe even protection symptomatic infection dramatic effect ahin said</td>\n",
       "    </tr>\n",
       "    <tr>\n",
       "      <th>1</th>\n",
       "      <td>serum institute of indias sii ceo adar poonawalla revealed that his father cyrus s poonawalla told him look its your money if you want to blow it up fine as he put 250 million in ramping up covid19 vaccine manufacturing capacity adar told the washington post i decided to go all out his father fo...</td>\n",
       "      <td>serum institute india sii ceo adar poonawalla revealed father cyrus poonawalla told look money want blow fine put 250 million ramping covid19 vaccine manufacturing capacity adar told washington post decided go father founded sii 1966</td>\n",
       "    </tr>\n",
       "  </tbody>\n",
       "</table>\n",
       "</div>"
      ],
      "text/plain": [
       "                                                                                                                                                                                                                                                                                                   basic_clean  \\\n",
       "0  german scientist uur ahin the ceo of biontech which codeveloped a coronavirus vaccine with pfizer said hes confident his product can end the pandemic and bash the virus over the head the vaccine is 90 effective based on initial data from a latestage trial i believe that even protection only from...   \n",
       "1  serum institute of indias sii ceo adar poonawalla revealed that his father cyrus s poonawalla told him look its your money if you want to blow it up fine as he put 250 million in ramping up covid19 vaccine manufacturing capacity adar told the washington post i decided to go all out his father fo...   \n",
       "\n",
       "                                                                                                                                                                                                                                                    clean_lemmatized  \n",
       "0  german scientist uur ahin ceo biontech codeveloped coronavirus vaccine pfizer said confident product end pandemic bash virus head vaccine 90 effective based initial data latestage trial believe even protection symptomatic infection dramatic effect ahin said  \n",
       "1                          serum institute india sii ceo adar poonawalla revealed father cyrus poonawalla told look money want blow fine put 250 million ramping covid19 vaccine manufacturing capacity adar told washington post decided go father founded sii 1966  "
      ]
     },
     "execution_count": 52,
     "metadata": {},
     "output_type": "execute_result"
    }
   ],
   "source": [
    "df = remove_stopwords(df, 'lemmatized')\n",
    "df[['basic_clean', 'clean_lemmatized']].head(2)"
   ]
  },
  {
   "cell_type": "code",
   "execution_count": 53,
   "metadata": {},
   "outputs": [
    {
     "data": {
      "text/html": [
       "<div>\n",
       "<style scoped>\n",
       "    .dataframe tbody tr th:only-of-type {\n",
       "        vertical-align: middle;\n",
       "    }\n",
       "\n",
       "    .dataframe tbody tr th {\n",
       "        vertical-align: top;\n",
       "    }\n",
       "\n",
       "    .dataframe thead th {\n",
       "        text-align: right;\n",
       "    }\n",
       "</style>\n",
       "<table border=\"1\" class=\"dataframe\">\n",
       "  <thead>\n",
       "    <tr style=\"text-align: right;\">\n",
       "      <th></th>\n",
       "      <th>basic_clean</th>\n",
       "      <th>clean_lemmatized</th>\n",
       "    </tr>\n",
       "  </thead>\n",
       "  <tbody>\n",
       "    <tr>\n",
       "      <th>0</th>\n",
       "      <td>german scientist uur ahin the ceo of biontech which codeveloped a coronavirus vaccine with pfizer said hes confident his product can end the pandemic and bash the virus over the head the vaccine is 90 effective based on initial data from a latestage trial i believe that even protection only from...</td>\n",
       "      <td>german scientist uur ahin ceo biontech codeveloped coronavirus vaccine pfizer said confident product end pandemic bash virus head vaccine 90 effective based initial data latestage trial believe even protection symptomatic infection dramatic effect ahin said</td>\n",
       "    </tr>\n",
       "    <tr>\n",
       "      <th>1</th>\n",
       "      <td>serum institute of indias sii ceo adar poonawalla revealed that his father cyrus s poonawalla told him look its your money if you want to blow it up fine as he put 250 million in ramping up covid19 vaccine manufacturing capacity adar told the washington post i decided to go all out his father fo...</td>\n",
       "      <td>serum institute india sii ceo adar poonawalla revealed father cyrus poonawalla told look money want blow fine put 250 million ramping covid19 vaccine manufacturing capacity adar told washington post decided go father founded sii 1966</td>\n",
       "    </tr>\n",
       "  </tbody>\n",
       "</table>\n",
       "</div>"
      ],
      "text/plain": [
       "                                                                                                                                                                                                                                                                                                   basic_clean  \\\n",
       "0  german scientist uur ahin the ceo of biontech which codeveloped a coronavirus vaccine with pfizer said hes confident his product can end the pandemic and bash the virus over the head the vaccine is 90 effective based on initial data from a latestage trial i believe that even protection only from...   \n",
       "1  serum institute of indias sii ceo adar poonawalla revealed that his father cyrus s poonawalla told him look its your money if you want to blow it up fine as he put 250 million in ramping up covid19 vaccine manufacturing capacity adar told the washington post i decided to go all out his father fo...   \n",
       "\n",
       "                                                                                                                                                                                                                                                    clean_lemmatized  \n",
       "0  german scientist uur ahin ceo biontech codeveloped coronavirus vaccine pfizer said confident product end pandemic bash virus head vaccine 90 effective based initial data latestage trial believe even protection symptomatic infection dramatic effect ahin said  \n",
       "1                          serum institute india sii ceo adar poonawalla revealed father cyrus poonawalla told look money want blow fine put 250 million ramping covid19 vaccine manufacturing capacity adar told washington post decided go father founded sii 1966  "
      ]
     },
     "execution_count": 53,
     "metadata": {},
     "output_type": "execute_result"
    }
   ],
   "source": [
    "___"
   ]
  },
  {
   "cell_type": "markdown",
   "metadata": {},
   "source": [
    "#### Prep Article Data Function"
   ]
  },
  {
   "cell_type": "code",
   "execution_count": 54,
   "metadata": {},
   "outputs": [],
   "source": [
    "df = get_news_articles()"
   ]
  },
  {
   "cell_type": "code",
   "execution_count": 55,
   "metadata": {},
   "outputs": [],
   "source": [
    "def prep_article_data(df):\n",
    "    '''\n",
    "    This function takes in the news articles df and\n",
    "    returns the df with original columns plus cleaned\n",
    "    and lemmatized content without stopwords.\n",
    "    '''\n",
    "    # Do basic clean on article content.\n",
    "    df = basic_clean(df, 'content')\n",
    "    \n",
    "    # Tokenize clean article content.\n",
    "    df = tokenize(df, 'basic_clean')\n",
    "    \n",
    "    # Stem cleaned and tokenized article content.\n",
    "    df = stem(df, 'clean_tokens')\n",
    "    \n",
    "    # Remove stopwords from Lemmatized article content.\n",
    "    df = remove_stopwords(df, 'stemmed')\n",
    "    \n",
    "    # Lemmatize cleaned and tokenized article content.\n",
    "    df = lemmatize(df, 'clean_tokens')\n",
    "    \n",
    "    # Remove stopwords from Lemmatized article content.\n",
    "    df = remove_stopwords(df, 'lemmatized')\n",
    "    \n",
    "    return df[['topic', 'title', 'author', 'content', 'clean_stemmed', 'clean_lemmatized']]"
   ]
  },
  {
   "cell_type": "code",
   "execution_count": 56,
   "metadata": {},
   "outputs": [
    {
     "data": {
      "text/html": [
       "<div>\n",
       "<style scoped>\n",
       "    .dataframe tbody tr th:only-of-type {\n",
       "        vertical-align: middle;\n",
       "    }\n",
       "\n",
       "    .dataframe tbody tr th {\n",
       "        vertical-align: top;\n",
       "    }\n",
       "\n",
       "    .dataframe thead th {\n",
       "        text-align: right;\n",
       "    }\n",
       "</style>\n",
       "<table border=\"1\" class=\"dataframe\">\n",
       "  <thead>\n",
       "    <tr style=\"text-align: right;\">\n",
       "      <th></th>\n",
       "      <th>topic</th>\n",
       "      <th>title</th>\n",
       "      <th>author</th>\n",
       "      <th>content</th>\n",
       "      <th>clean_stemmed</th>\n",
       "      <th>clean_lemmatized</th>\n",
       "    </tr>\n",
       "  </thead>\n",
       "  <tbody>\n",
       "    <tr>\n",
       "      <th>0</th>\n",
       "      <td>business</td>\n",
       "      <td>Scientist behind '90% effective' COVID-19 vaccine says it can end the pandemic</td>\n",
       "      <td>Krishna Veera Vanamali</td>\n",
       "      <td>German scientist Uğur Şahin, the CEO of BioNTech which co-developed a coronavirus vaccine with Pfizer, said he's confident his product can end the pandemic and \"bash the virus over the head.\" The vaccine is 90% effective based on initial data from a late-stage trial. \"I believe that even protect...</td>\n",
       "      <td>german scientist uur ahin ceo biontech codevelop coronaviru vaccin pfizer said confid hi product end pandem bash viru head vaccin 90 effect base initi data latestag trial believ even protect onli symptomat infect dramat effect ahin said</td>\n",
       "      <td>german scientist uur ahin ceo biontech codeveloped coronavirus vaccine pfizer said confident product end pandemic bash virus head vaccine 90 effective based initial data latestage trial believe even protection symptomatic infection dramatic effect ahin said</td>\n",
       "    </tr>\n",
       "    <tr>\n",
       "      <th>1</th>\n",
       "      <td>business</td>\n",
       "      <td>Father said 'if you want to blow money up, fine' as I put $250M on vaccine: Adar</td>\n",
       "      <td>Pragya Swastik</td>\n",
       "      <td>Serum Institute of India's (SII) CEO Adar Poonawalla revealed that his father Cyrus S Poonawalla told him, \"Look, it's your money. If you want to blow it up, fine,\" as he put $250 million in ramping up COVID-19 vaccine manufacturing capacity. Adar told The Washington Post, \"I decided to go all o...</td>\n",
       "      <td>serum institut india sii ceo adar poonawalla reveal hi father cyru poonawalla told look money want blow fine put 250 million ramp covid19 vaccin manufactur capac adar told washington post decid go hi father found sii 1966</td>\n",
       "      <td>serum institute india sii ceo adar poonawalla revealed father cyrus poonawalla told look money want blow fine put 250 million ramping covid19 vaccine manufacturing capacity adar told washington post decided go father founded sii 1966</td>\n",
       "    </tr>\n",
       "  </tbody>\n",
       "</table>\n",
       "</div>"
      ],
      "text/plain": [
       "      topic  \\\n",
       "0  business   \n",
       "1  business   \n",
       "\n",
       "                                                                              title  \\\n",
       "0    Scientist behind '90% effective' COVID-19 vaccine says it can end the pandemic   \n",
       "1  Father said 'if you want to blow money up, fine' as I put $250M on vaccine: Adar   \n",
       "\n",
       "                   author  \\\n",
       "0  Krishna Veera Vanamali   \n",
       "1          Pragya Swastik   \n",
       "\n",
       "                                                                                                                                                                                                                                                                                                       content  \\\n",
       "0  German scientist Uğur Şahin, the CEO of BioNTech which co-developed a coronavirus vaccine with Pfizer, said he's confident his product can end the pandemic and \"bash the virus over the head.\" The vaccine is 90% effective based on initial data from a late-stage trial. \"I believe that even protect...   \n",
       "1  Serum Institute of India's (SII) CEO Adar Poonawalla revealed that his father Cyrus S Poonawalla told him, \"Look, it's your money. If you want to blow it up, fine,\" as he put $250 million in ramping up COVID-19 vaccine manufacturing capacity. Adar told The Washington Post, \"I decided to go all o...   \n",
       "\n",
       "                                                                                                                                                                                                                                  clean_stemmed  \\\n",
       "0  german scientist uur ahin ceo biontech codevelop coronaviru vaccin pfizer said confid hi product end pandem bash viru head vaccin 90 effect base initi data latestag trial believ even protect onli symptomat infect dramat effect ahin said   \n",
       "1                 serum institut india sii ceo adar poonawalla reveal hi father cyru poonawalla told look money want blow fine put 250 million ramp covid19 vaccin manufactur capac adar told washington post decid go hi father found sii 1966   \n",
       "\n",
       "                                                                                                                                                                                                                                                    clean_lemmatized  \n",
       "0  german scientist uur ahin ceo biontech codeveloped coronavirus vaccine pfizer said confident product end pandemic bash virus head vaccine 90 effective based initial data latestage trial believe even protection symptomatic infection dramatic effect ahin said  \n",
       "1                          serum institute india sii ceo adar poonawalla revealed father cyrus poonawalla told look money want blow fine put 250 million ramping covid19 vaccine manufacturing capacity adar told washington post decided go father founded sii 1966  "
      ]
     },
     "execution_count": 56,
     "metadata": {},
     "output_type": "execute_result"
    }
   ],
   "source": [
    "df = prep_article_data(df)\n",
    "df.head(2)"
   ]
  },
  {
   "cell_type": "code",
   "execution_count": null,
   "metadata": {},
   "outputs": [],
   "source": []
  }
 ],
 "metadata": {
  "kernelspec": {
   "display_name": "Python 3",
   "language": "python",
   "name": "python3"
  },
  "language_info": {
   "codemirror_mode": {
    "name": "ipython",
    "version": 3
   },
   "file_extension": ".py",
   "mimetype": "text/x-python",
   "name": "python",
   "nbconvert_exporter": "python",
   "pygments_lexer": "ipython3",
   "version": "3.7.4"
  },
  "toc": {
   "base_numbering": 1,
   "nav_menu": {},
   "number_sections": false,
   "sideBar": true,
   "skip_h1_title": true,
   "title_cell": "Table of Contents",
   "title_sidebar": "Contents",
   "toc_cell": false,
   "toc_position": {},
   "toc_section_display": true,
   "toc_window_display": true
  }
 },
 "nbformat": 4,
 "nbformat_minor": 4
}
