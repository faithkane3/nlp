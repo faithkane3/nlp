{
 "cells": [
  {
   "cell_type": "code",
   "execution_count": 44,
   "metadata": {},
   "outputs": [],
   "source": [
    "import pandas as pd\n",
    "import numpy as np\n",
    "\n",
    "from requests import get\n",
    "import re\n",
    "from bs4 import BeautifulSoup\n",
    "import os\n",
    "\n",
    "from nlp_acquire import make_soup"
   ]
  },
  {
   "cell_type": "code",
   "execution_count": 45,
   "metadata": {},
   "outputs": [],
   "source": [
    "base_url = 'https://www.ksat.com/'\n",
    "topic = 'sports'"
   ]
  },
  {
   "cell_type": "code",
   "execution_count": 46,
   "metadata": {},
   "outputs": [],
   "source": [
    "soup = make_soup(base_url + topic)"
   ]
  },
  {
   "cell_type": "code",
   "execution_count": 47,
   "metadata": {},
   "outputs": [
    {
     "data": {
      "text/plain": [
       "<article class=\"storyCard mb-norm\"><div class=\"Box-sc-12ejyki-0 Flex-sc-15e388o-0 Stack___StyledFlex-sc-1mwfg7q-0 cTZqfV StoryCard___StyledStack-sc-1ie4ofg-0 eapWip relative min height_full\"><a class=\"display_block gaevent\" gaaction=\"Marquee\" gacategory=\"Story Card\" galabel=\"/sports/2020/11/16/ncaa-in-talks-with-indianapolis-to-host-all-of-march-madness/\" gavalue=\"0\" href=\"/sports/2020/11/16/ncaa-in-talks-with-indianapolis-to-host-all-of-march-madness/\" target=\"\"><div class=\"image height_full\"><figure class=\"Box-sc-12ejyki-0 kaPImw relative width_full height_full\"><div class=\"Box-sc-12ejyki-0 Image___StyledBox-sc-1pa594k-0 jEuYgY\"><img alt=\"NCAA in talks with Indianapolis to host all of March Madness\" src=\"/pf/resources/images/shared/placeholder.svg?d=222\" style=\"object-fit:cover;position:absolute;top:0;right:0;bottom:0;left:0;width:100%;height:100%\"/></div></figure></div></a><div class=\"Box-sc-12ejyki-0 Flex-sc-15e388o-0 Stack___StyledFlex-sc-1mwfg7q-0 hoFnOk articleMeta width_full\"><a class=\"display_block gaevent\" gaaction=\"Marquee\" gacategory=\"Story Card\" galabel=\"/sports/2020/11/16/ncaa-in-talks-with-indianapolis-to-host-all-of-march-madness/\" gavalue=\"0\" href=\"/sports/2020/11/16/ncaa-in-talks-with-indianapolis-to-host-all-of-march-madness/\" target=\"\"><p class=\"time font_gibson font_semibold color_red uppercase\">1 hour ago</p></a><a class=\"display_block gaevent\" gaaction=\"Marquee\" gacategory=\"Story Card\" galabel=\"/sports/2020/11/16/ncaa-in-talks-with-indianapolis-to-host-all-of-march-madness/\" gavalue=\"0\" href=\"/sports/2020/11/16/ncaa-in-talks-with-indianapolis-to-host-all-of-march-madness/\" target=\"\"><h3 class=\"no-margin\">NCAA in talks with Indianapolis to host all of March Madness</h3></a></div></div></article>"
      ]
     },
     "execution_count": 47,
     "metadata": {},
     "output_type": "execute_result"
    }
   ],
   "source": [
    "# Scrape all info from the article attached to that first story card.\n",
    "\n",
    "article = soup.find('article')\n",
    "article"
   ]
  },
  {
   "cell_type": "code",
   "execution_count": 48,
   "metadata": {},
   "outputs": [
    {
     "data": {
      "text/plain": [
       "'NCAA in talks with Indianapolis to host all of March Madness'"
      ]
     },
     "execution_count": 48,
     "metadata": {},
     "output_type": "execute_result"
    }
   ],
   "source": [
    "# I can grab the title from the story card html.\n",
    "\n",
    "title = article.find('h3').text\n",
    "title"
   ]
  },
  {
   "cell_type": "code",
   "execution_count": 49,
   "metadata": {},
   "outputs": [
    {
     "data": {
      "text/plain": [
       "<a class=\"display_block gaevent\" gaaction=\"Marquee\" gacategory=\"Story Card\" galabel=\"/sports/2020/11/16/ncaa-in-talks-with-indianapolis-to-host-all-of-march-madness/\" gavalue=\"0\" href=\"/sports/2020/11/16/ncaa-in-talks-with-indianapolis-to-host-all-of-march-madness/\" target=\"\"><div class=\"image height_full\"><figure class=\"Box-sc-12ejyki-0 kaPImw relative width_full height_full\"><div class=\"Box-sc-12ejyki-0 Image___StyledBox-sc-1pa594k-0 jEuYgY\"><img alt=\"NCAA in talks with Indianapolis to host all of March Madness\" src=\"/pf/resources/images/shared/placeholder.svg?d=222\" style=\"object-fit:cover;position:absolute;top:0;right:0;bottom:0;left:0;width:100%;height:100%\"/></div></figure></div></a>"
      ]
     },
     "execution_count": 49,
     "metadata": {},
     "output_type": "execute_result"
    }
   ],
   "source": [
    "# Dig down and check out the anchor tag looking for a link to article on my story card.\n",
    "\n",
    "soup.find('article').a"
   ]
  },
  {
   "cell_type": "code",
   "execution_count": 50,
   "metadata": {},
   "outputs": [
    {
     "data": {
      "text/plain": [
       "'/sports/2020/11/16/ncaa-in-talks-with-indianapolis-to-host-all-of-march-madness/'"
      ]
     },
     "execution_count": 50,
     "metadata": {},
     "output_type": "execute_result"
    }
   ],
   "source": [
    "# Get the value from the href attribute which is the relative url to the article.\n",
    "\n",
    "relative_url = soup.find('article').a.get('href')\n",
    "relative_url"
   ]
  },
  {
   "cell_type": "code",
   "execution_count": 51,
   "metadata": {},
   "outputs": [
    {
     "data": {
      "text/plain": [
       "'https://www.ksat.com//sports/2020/11/16/ncaa-in-talks-with-indianapolis-to-host-all-of-march-madness/'"
      ]
     },
     "execution_count": 51,
     "metadata": {},
     "output_type": "execute_result"
    }
   ],
   "source": [
    "# Create the full url using the base and relative that I just scraped.\n",
    "\n",
    "url1 = base_url + relative_url\n",
    "url1"
   ]
  },
  {
   "cell_type": "code",
   "execution_count": 59,
   "metadata": {},
   "outputs": [],
   "source": [
    "# Make new soup for the article\n",
    "\n",
    "soup = make_soup(url1)"
   ]
  },
  {
   "cell_type": "code",
   "execution_count": 61,
   "metadata": {},
   "outputs": [
    {
     "data": {
      "text/plain": [
       "{'class': [], 'data-station': 'ksat'}"
      ]
     },
     "execution_count": 61,
     "metadata": {},
     "output_type": "execute_result"
    }
   ],
   "source": [
    "soup.find('body').attrs"
   ]
  },
  {
   "cell_type": "code",
   "execution_count": 57,
   "metadata": {},
   "outputs": [],
   "source": [
    "soup.find('date')"
   ]
  },
  {
   "cell_type": "code",
   "execution_count": null,
   "metadata": {},
   "outputs": [],
   "source": []
  }
 ],
 "metadata": {
  "kernelspec": {
   "display_name": "Python 3",
   "language": "python",
   "name": "python3"
  },
  "language_info": {
   "codemirror_mode": {
    "name": "ipython",
    "version": 3
   },
   "file_extension": ".py",
   "mimetype": "text/x-python",
   "name": "python",
   "nbconvert_exporter": "python",
   "pygments_lexer": "ipython3",
   "version": "3.7.4"
  }
 },
 "nbformat": 4,
 "nbformat_minor": 4
}
