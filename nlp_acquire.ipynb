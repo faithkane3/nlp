{
 "cells": [
  {
   "cell_type": "code",
   "execution_count": 1,
   "metadata": {},
   "outputs": [],
   "source": [
    "import pandas as pd\n",
    "import numpy as np\n",
    "\n",
    "from requests import get\n",
    "import re\n",
    "from bs4 import BeautifulSoup\n",
    "import os"
   ]
  },
  {
   "cell_type": "markdown",
   "metadata": {},
   "source": [
    "### Codeup Blogs\n",
    "\n",
    "**Goals:** Write a function to scrape urls from main Codeup blog web page and write a function that returns a dictionary of blog titles and text for each blog page. \n",
    "\n",
    "#### Grab Title from Page\n",
    "\n",
    "Here I use the `.find()` method on my soup with the `<h1>` tag. As always, there is no one way to accomplish our task, so I'm demonstrating one way to scrape the headline, not THE way to scrape the headline. "
   ]
  },
  {
   "cell_type": "code",
   "execution_count": 2,
   "metadata": {},
   "outputs": [
    {
     "data": {
      "text/plain": [
       "True"
      ]
     },
     "execution_count": 2,
     "metadata": {},
     "output_type": "execute_result"
    }
   ],
   "source": [
    "url = 'https://codeup.com/codeups-data-science-career-accelerator-is-here/'\n",
    "headers = {'User-Agent': 'Codeup Data Science'} \n",
    "    \n",
    "response = get(url, headers=headers)\n",
    "response.ok"
   ]
  },
  {
   "cell_type": "code",
   "execution_count": 3,
   "metadata": {},
   "outputs": [
    {
     "name": "stdout",
     "output_type": "stream",
     "text": [
      "<class 'str'>\n"
     ]
    }
   ],
   "source": [
    "# Here's our long string of HTML; we'll use response.text to make our soup object.\n",
    "\n",
    "print(type(response.text))"
   ]
  },
  {
   "cell_type": "code",
   "execution_count": 4,
   "metadata": {},
   "outputs": [
    {
     "name": "stdout",
     "output_type": "stream",
     "text": [
      "<class 'bs4.BeautifulSoup'>\n"
     ]
    }
   ],
   "source": [
    "# Create our Soup object by passing our HTML string and choice of parser.\n",
    "\n",
    "soup = BeautifulSoup(response.text, 'html.parser')\n",
    "\n",
    "# Now we have our BeautifulSoup object and can use its built-in methods and attributes.\n",
    "\n",
    "print(type(soup))"
   ]
  },
  {
   "cell_type": "code",
   "execution_count": 5,
   "metadata": {},
   "outputs": [
    {
     "data": {
      "text/plain": [
       "'Codeup’s Data Science Career Accelerator is Here!'"
      ]
     },
     "execution_count": 5,
     "metadata": {},
     "output_type": "execute_result"
    }
   ],
   "source": [
    "# The h1 element holds my title.\n",
    "\n",
    "title = soup.find('h1').text\n",
    "title"
   ]
  },
  {
   "cell_type": "markdown",
   "metadata": {},
   "source": [
    "#### Grab Text from Page"
   ]
  },
  {
   "cell_type": "code",
   "execution_count": 6,
   "metadata": {},
   "outputs": [
    {
     "name": "stdout",
     "output_type": "stream",
     "text": [
      "The rumors are true! The time has arrived. Codeup has officially opened applications to our new Data Science career accelerator, with only 25 seats available! This immersive program is one of a kind in San Antonio, and will help you land a job in Glassdoor’s #1 Best Job in America.\n",
      "Data Science is a method of providing actionable intelligence from data. The data revolution has hit San Antonio, resulting in an explosion in Data Scientist positions across companies like USAA, Accenture, Booz Allen Hamilton, and HEB. We’ve even seen UTSA invest $70 M for a Cybersecurity Center and School of Data Science. We built a program to specifically meet the growing demands of this industry.\n",
      "Our program will be 18 weeks long, full-time, hands-on, and project-based. Our curriculum development and instruction is led by Senior Data Scientist, Maggie Giust, who has worked at HEB, Capital Group, and Rackspace, along with input from dozens of practitioners and hiring partners. Students will work with real data sets, realistic problems, and the entire data science pipeline from collection to deployment. They will receive professional development training in resume writing, interviewing, and continuing education to prepare for a smooth transition to the workforce.\n",
      "We focus on applied data science for immediate impact and ROI in a business, which is how we can back it all up with a 6 month tuition refund guarantee – just like our existing Web Dev program. We’re focusing on Data Science with Python, SQL, and ML, covered in 14 modules: 1) Fundamentals; 2) Applied statistics; 3) SQL; 4) Python; 5) Supervised machine learning – regression; 6) Supervised machine learning – classification; 7) Unsupervised machine learning – clustering; 8) Time series analysis; 9) Anomaly detection; 10) Natural language processing; 11) Distributed machine learning; 12) Advanced topics (deep learning, NoSQL, cloud deployment, etc.); 13) Storytelling with data; and 14) Domain expertise development.\n",
      "Applications are now open for Codeup’s first Data Science cohort, which will start class on February 4, 2019. Hurry – there are only 25 seats available! To further our mission of cultivating inclusive growth, scholarships will be available to women, minorities, LGBTQIA+ individuals, veterans, first responders, and people relocating to San Antonio.\n",
      "If you want to learn about joining our program or hiring our graduates, email datascience@codeup.com!\n",
      "\n",
      "\n"
     ]
    }
   ],
   "source": [
    "content = soup.find('div', class_=\"jupiterx-post-content\").text\n",
    "print(content)"
   ]
  },
  {
   "cell_type": "code",
   "execution_count": 7,
   "metadata": {},
   "outputs": [
    {
     "name": "stdout",
     "output_type": "stream",
     "text": [
      "<class 'str'>\n"
     ]
    }
   ],
   "source": [
    "print(type(content))"
   ]
  },
  {
   "cell_type": "markdown",
   "metadata": {},
   "source": [
    "#### Build Blog Function"
   ]
  },
  {
   "cell_type": "code",
   "execution_count": 8,
   "metadata": {},
   "outputs": [],
   "source": [
    "def get_blog_articles(urls, cached=True):\n",
    "    '''\n",
    "    This function takes in a list of Codeup Blog urls and a parameter\n",
    "    with default cache == False which returns a df from a csv file.\n",
    "    If cache == True, the function scrapes the title and text for each url, \n",
    "    creates a list of dictionaries with the title and text for each blog, \n",
    "    converts list to df, and returns df.\n",
    "    '''\n",
    "    if cached == True:\n",
    "        df = pd.read_json('big_blogs.json')\n",
    "    else:\n",
    "        headers = {'User-Agent': 'Codeup Bayes Data Science'} \n",
    "\n",
    "        # Create an empty list to hold dictionaries\n",
    "        articles = []\n",
    "\n",
    "        # Loop through each url in our list of urls\n",
    "        for url in urls:\n",
    "\n",
    "            # get request to each url saved in response\n",
    "            response = get(url, headers=headers)\n",
    "\n",
    "            # Create soup object from response text and parse\n",
    "            soup = BeautifulSoup(response.text, 'html.parser')\n",
    "\n",
    "            # Save the title of each blog in variable title\n",
    "            title = soup.find('h1').text\n",
    "\n",
    "            # Save the text in each blog to variable text\n",
    "            content = soup.find('div', class_=\"jupiterx-post-content\").text\n",
    "\n",
    "            # Create a dictionary holding the title and content for each blog\n",
    "            article = {'title': title, 'content': content}\n",
    "\n",
    "            # Add each dictionary to the articles list of dictionaries\n",
    "            articles.append(article)\n",
    "            \n",
    "        # convert our list of dictionaries to a df\n",
    "        df = pd.DataFrame(articles)\n",
    "\n",
    "        # Write df to a json file for faster access\n",
    "        df.to_json('big_blogs.json')\n",
    "    \n",
    "    return df"
   ]
  },
  {
   "cell_type": "markdown",
   "metadata": {},
   "source": [
    "#### Test Function"
   ]
  },
  {
   "cell_type": "code",
   "execution_count": 14,
   "metadata": {},
   "outputs": [
    {
     "data": {
      "text/html": [
       "<div>\n",
       "<style scoped>\n",
       "    .dataframe tbody tr th:only-of-type {\n",
       "        vertical-align: middle;\n",
       "    }\n",
       "\n",
       "    .dataframe tbody tr th {\n",
       "        vertical-align: top;\n",
       "    }\n",
       "\n",
       "    .dataframe thead th {\n",
       "        text-align: right;\n",
       "    }\n",
       "</style>\n",
       "<table border=\"1\" class=\"dataframe\">\n",
       "  <thead>\n",
       "    <tr style=\"text-align: right;\">\n",
       "      <th></th>\n",
       "      <th>title</th>\n",
       "      <th>content</th>\n",
       "    </tr>\n",
       "  </thead>\n",
       "  <tbody>\n",
       "    <tr>\n",
       "      <th>0</th>\n",
       "      <td>Codeup’s Data Science Career Accelerator is Here!</td>\n",
       "      <td>The rumors are true! The time has arrived. Cod...</td>\n",
       "    </tr>\n",
       "    <tr>\n",
       "      <th>1</th>\n",
       "      <td>Data Science Myths</td>\n",
       "      <td>By Dimitri Antoniou and Maggie Giust\\nData Sci...</td>\n",
       "    </tr>\n",
       "    <tr>\n",
       "      <th>2</th>\n",
       "      <td>Data Science VS Data Analytics: What’s The Dif...</td>\n",
       "      <td>By Dimitri Antoniou\\nA week ago, Codeup launch...</td>\n",
       "    </tr>\n",
       "    <tr>\n",
       "      <th>3</th>\n",
       "      <td>10 Tips to Crush It at the SA Tech Job Fair</td>\n",
       "      <td>SA Tech Job Fair\\nThe third bi-annual San Anto...</td>\n",
       "    </tr>\n",
       "    <tr>\n",
       "      <th>4</th>\n",
       "      <td>Competitor Bootcamps Are Closing. Is the Model...</td>\n",
       "      <td>Competitor Bootcamps Are Closing. Is the Model...</td>\n",
       "    </tr>\n",
       "  </tbody>\n",
       "</table>\n",
       "</div>"
      ],
      "text/plain": [
       "                                               title  \\\n",
       "0  Codeup’s Data Science Career Accelerator is Here!   \n",
       "1                                 Data Science Myths   \n",
       "2  Data Science VS Data Analytics: What’s The Dif...   \n",
       "3        10 Tips to Crush It at the SA Tech Job Fair   \n",
       "4  Competitor Bootcamps Are Closing. Is the Model...   \n",
       "\n",
       "                                             content  \n",
       "0  The rumors are true! The time has arrived. Cod...  \n",
       "1  By Dimitri Antoniou and Maggie Giust\\nData Sci...  \n",
       "2  By Dimitri Antoniou\\nA week ago, Codeup launch...  \n",
       "3  SA Tech Job Fair\\nThe third bi-annual San Anto...  \n",
       "4  Competitor Bootcamps Are Closing. Is the Model...  "
      ]
     },
     "execution_count": 14,
     "metadata": {},
     "output_type": "execute_result"
    }
   ],
   "source": [
    "# Here cached == False, so the function will do a fresh scrape of the urls and write data to a json file.\n",
    "\n",
    "urls = ['https://codeup.com/codeups-data-science-career-accelerator-is-here/',\n",
    "        'https://codeup.com/data-science-myths/',\n",
    "        'https://codeup.com/data-science-vs-data-analytics-whats-the-difference/',\n",
    "        'https://codeup.com/10-tips-to-crush-it-at-the-sa-tech-job-fair/',\n",
    "        'https://codeup.com/competitor-bootcamps-are-closing-is-the-model-in-danger/']\n",
    "\n",
    "blogs = get_blog_articles(urls=urls, cached=False)\n",
    "blogs"
   ]
  },
  {
   "cell_type": "markdown",
   "metadata": {},
   "source": [
    "#### Bonus URL Scrape"
   ]
  },
  {
   "cell_type": "code",
   "execution_count": 15,
   "metadata": {},
   "outputs": [],
   "source": [
    "# I'm going to hit Codeup's main blog page to scrape the urls\n",
    "\n",
    "url = 'https://codeup.com/resources/#blog'\n",
    "headers = {'User-Agent': 'Codeup Data Science'} \n",
    "\n",
    "# Request the HTML\n",
    "response = get(url, headers=headers)\n",
    "\n",
    "# Create the soup object to parse the HTML\n",
    "soup = BeautifulSoup(response.text, 'html.parser')"
   ]
  },
  {
   "cell_type": "code",
   "execution_count": 29,
   "metadata": {},
   "outputs": [
    {
     "data": {
      "text/plain": [
       "[<a class=\"jet-listing-dynamic-link__link\" href=\"https://codeup.com/introducing-salary-refund-guarantee/\"><span class=\"jet-listing-dynamic-link__label\">Introducing Our Salary Refund Guarantee</span></a>,\n",
       " <a class=\"jet-listing-dynamic-link__link\" href=\"https://codeup.com/introducing-salary-refund-guarantee/\"><span class=\"jet-listing-dynamic-link__label\">Read More</span></a>,\n",
       " <a class=\"jet-listing-dynamic-link__link\" href=\"https://codeup.com/new-scholarship/\"><span class=\"jet-listing-dynamic-link__label\">Announcing: The Annie Easley Scholarship to Support the Black Community in Tech</span></a>,\n",
       " <a class=\"jet-listing-dynamic-link__link\" href=\"https://codeup.com/new-scholarship/\"><span class=\"jet-listing-dynamic-link__label\">Read More</span></a>,\n",
       " <a class=\"jet-listing-dynamic-link__link\" href=\"https://codeup.com/codeup-in-houston/\"><span class=\"jet-listing-dynamic-link__label\">Codeup Launches Houston!</span></a>,\n",
       " <a class=\"jet-listing-dynamic-link__link\" href=\"https://codeup.com/codeup-in-houston/\"><span class=\"jet-listing-dynamic-link__label\">Read More</span></a>,\n",
       " <a class=\"jet-listing-dynamic-link__link\" href=\"https://codeup.com/math-in-data-science/\"><span class=\"jet-listing-dynamic-link__label\">What are the Math and Stats Principles You Need for Data Science?</span></a>,\n",
       " <a class=\"jet-listing-dynamic-link__link\" href=\"https://codeup.com/math-in-data-science/\"><span class=\"jet-listing-dynamic-link__label\">Read More</span></a>,\n",
       " <a class=\"jet-listing-dynamic-link__link\" href=\"https://codeup.com/covid-19-data-challenge/\"><span class=\"jet-listing-dynamic-link__label\">How Codeup Alumni Helped Dallas Youth Fight COVID-19</span></a>,\n",
       " <a class=\"jet-listing-dynamic-link__link\" href=\"https://codeup.com/covid-19-data-challenge/\"><span class=\"jet-listing-dynamic-link__label\">Read More</span></a>,\n",
       " <a class=\"jet-listing-dynamic-link__link\" href=\"https://codeup.com/how-were-celebrating-world-mental-health-day-from-home/\"><span class=\"jet-listing-dynamic-link__label\">How We’re Celebrating World Mental Health Day From Home </span></a>,\n",
       " <a class=\"jet-listing-dynamic-link__link\" href=\"https://codeup.com/how-were-celebrating-world-mental-health-day-from-home/\"><span class=\"jet-listing-dynamic-link__label\">Read More</span></a>,\n",
       " <a class=\"jet-listing-dynamic-link__link\" href=\"https://codeup.com/what-to-expect-at-codeup/\"><span class=\"jet-listing-dynamic-link__label\">What to Expect at Codeup</span></a>,\n",
       " <a class=\"jet-listing-dynamic-link__link\" href=\"https://codeup.com/what-to-expect-at-codeup/\"><span class=\"jet-listing-dynamic-link__label\">Read More</span></a>,\n",
       " <a class=\"jet-listing-dynamic-link__link\" href=\"https://codeup.com/codeups-application-process/\"><span class=\"jet-listing-dynamic-link__label\">What is Codeup's Application Process?</span></a>,\n",
       " <a class=\"jet-listing-dynamic-link__link\" href=\"https://codeup.com/codeups-application-process/\"><span class=\"jet-listing-dynamic-link__label\">Read More</span></a>,\n",
       " <a class=\"jet-listing-dynamic-link__link\" href=\"https://codeup.com/transition-into-data-science/\"><span class=\"jet-listing-dynamic-link__label\">What is the Transition into Data Science Like?</span></a>,\n",
       " <a class=\"jet-listing-dynamic-link__link\" href=\"https://codeup.com/transition-into-data-science/\"><span class=\"jet-listing-dynamic-link__label\">Read More</span></a>,\n",
       " <a class=\"jet-listing-dynamic-link__link\" href=\"https://codeup.com/what-data-science-career-is-for-you/\"><span class=\"jet-listing-dynamic-link__label\">What Data Science Career is For You?</span></a>,\n",
       " <a class=\"jet-listing-dynamic-link__link\" href=\"https://codeup.com/what-data-science-career-is-for-you/\"><span class=\"jet-listing-dynamic-link__label\">Read More</span></a>,\n",
       " <a class=\"jet-listing-dynamic-link__link\" href=\"https://codeup.com/what-is-python/\"><span class=\"jet-listing-dynamic-link__label\">What is Python?</span></a>,\n",
       " <a class=\"jet-listing-dynamic-link__link\" href=\"https://codeup.com/what-is-python/\"><span class=\"jet-listing-dynamic-link__label\">Read More</span></a>,\n",
       " <a class=\"jet-listing-dynamic-link__link\" href=\"https://codeup.com/what-is-machine-learning/\"><span class=\"jet-listing-dynamic-link__label\">What is Machine Learning?</span></a>,\n",
       " <a class=\"jet-listing-dynamic-link__link\" href=\"https://codeup.com/what-is-machine-learning/\"><span class=\"jet-listing-dynamic-link__label\">Read More</span></a>,\n",
       " <a class=\"jet-listing-dynamic-link__link\" href=\"https://codeup.com/education-is-an-investment/\"><span class=\"jet-listing-dynamic-link__label\">Your Education is an Investment</span></a>,\n",
       " <a class=\"jet-listing-dynamic-link__link\" href=\"https://codeup.com/education-is-an-investment/\"><span class=\"jet-listing-dynamic-link__label\">Read More</span></a>,\n",
       " <a class=\"jet-listing-dynamic-link__link\" href=\"https://codeup.com/codeup-inc-5000/\"><span class=\"jet-listing-dynamic-link__label\">Codeup on Inc. 5000 Fastest Growing Private Companies in America!</span></a>,\n",
       " <a class=\"jet-listing-dynamic-link__link\" href=\"https://codeup.com/codeup-inc-5000/\"><span class=\"jet-listing-dynamic-link__label\">Read More</span></a>,\n",
       " <a class=\"jet-listing-dynamic-link__link\" href=\"https://codeup.com/build-your-career-in-tech/\"><span class=\"jet-listing-dynamic-link__label\">Build Your Career in Tech: Advice from Alumni!</span></a>,\n",
       " <a class=\"jet-listing-dynamic-link__link\" href=\"https://codeup.com/build-your-career-in-tech/\"><span class=\"jet-listing-dynamic-link__label\">Read More</span></a>,\n",
       " <a class=\"jet-listing-dynamic-link__link\" href=\"https://codeup.com/codeup-wins-civtech-datathon/\"><span class=\"jet-listing-dynamic-link__label\">Codeup Grads Win CivTech Datathon</span></a>,\n",
       " <a class=\"jet-listing-dynamic-link__link\" href=\"https://codeup.com/codeup-wins-civtech-datathon/\"><span class=\"jet-listing-dynamic-link__label\">Read More</span></a>,\n",
       " <a class=\"jet-listing-dynamic-link__link\" href=\"https://codeup.com/codeup-alumni-make-water/\"><span class=\"jet-listing-dynamic-link__label\">How Codeup Alumni are Helping to Make Water</span></a>,\n",
       " <a class=\"jet-listing-dynamic-link__link\" href=\"https://codeup.com/codeup-alumni-make-water/\"><span class=\"jet-listing-dynamic-link__label\">Read More</span></a>,\n",
       " <a class=\"jet-listing-dynamic-link__link\" href=\"https://codeup.com/journey-into-web-development/\"><span class=\"jet-listing-dynamic-link__label\">Alumni Share their Journey into Web Development</span></a>,\n",
       " <a class=\"jet-listing-dynamic-link__link\" href=\"https://codeup.com/journey-into-web-development/\"><span class=\"jet-listing-dynamic-link__label\">Read More</span></a>,\n",
       " <a class=\"jet-listing-dynamic-link__link\" href=\"https://codeup.com/succeed-in-a-coding-bootcamp/\"><span class=\"jet-listing-dynamic-link__label\">How to Succeed in a Coding Bootcamp</span></a>,\n",
       " <a class=\"jet-listing-dynamic-link__link\" href=\"https://codeup.com/succeed-in-a-coding-bootcamp/\"><span class=\"jet-listing-dynamic-link__label\">Read More</span></a>,\n",
       " <a class=\"jet-listing-dynamic-link__link\" href=\"https://codeup.com/from-slacker-to-data-scientist/\"><span class=\"jet-listing-dynamic-link__label\">From Slacker to Data Scientist: Journey to Data Science Without a Degree</span></a>,\n",
       " <a class=\"jet-listing-dynamic-link__link\" href=\"https://codeup.com/from-slacker-to-data-scientist/\"><span class=\"jet-listing-dynamic-link__label\">Read More</span></a>]"
      ]
     },
     "execution_count": 29,
     "metadata": {},
     "output_type": "execute_result"
    }
   ],
   "source": [
    "# I'm filtering my soup to return a list of all anchor elements from my HTML.\n",
    "\n",
    "urls_list = soup.find_all('a', class_='jet-listing-dynamic-link__link')\n",
    "urls_list"
   ]
  },
  {
   "cell_type": "code",
   "execution_count": 33,
   "metadata": {},
   "outputs": [
    {
     "name": "stdout",
     "output_type": "stream",
     "text": [
      "There are 20 unique links in our urls list.\n",
      "\n"
     ]
    },
    {
     "data": {
      "text/plain": [
       "['https://codeup.com/build-your-career-in-tech/',\n",
       " 'https://codeup.com/introducing-salary-refund-guarantee/',\n",
       " 'https://codeup.com/what-is-machine-learning/',\n",
       " 'https://codeup.com/what-is-python/',\n",
       " 'https://codeup.com/what-to-expect-at-codeup/',\n",
       " 'https://codeup.com/transition-into-data-science/',\n",
       " 'https://codeup.com/education-is-an-investment/',\n",
       " 'https://codeup.com/what-data-science-career-is-for-you/',\n",
       " 'https://codeup.com/codeups-application-process/',\n",
       " 'https://codeup.com/codeup-in-houston/',\n",
       " 'https://codeup.com/succeed-in-a-coding-bootcamp/',\n",
       " 'https://codeup.com/covid-19-data-challenge/',\n",
       " 'https://codeup.com/journey-into-web-development/',\n",
       " 'https://codeup.com/codeup-wins-civtech-datathon/',\n",
       " 'https://codeup.com/how-were-celebrating-world-mental-health-day-from-home/',\n",
       " 'https://codeup.com/codeup-alumni-make-water/',\n",
       " 'https://codeup.com/codeup-inc-5000/',\n",
       " 'https://codeup.com/new-scholarship/',\n",
       " 'https://codeup.com/from-slacker-to-data-scientist/',\n",
       " 'https://codeup.com/math-in-data-science/']"
      ]
     },
     "execution_count": 33,
     "metadata": {},
     "output_type": "execute_result"
    }
   ],
   "source": [
    "# Filter the href attribute value for each anchor element in my list; we scraped 40 urls.\n",
    "\n",
    "# I'm using a set comprehension to return only unique urls because there are two links for each article.\n",
    "urls = {link.get('href') for link in urls_list}\n",
    "\n",
    "# I'm converting my set to a list of urls.\n",
    "urls = list(urls)\n",
    "\n",
    "print(f'There are {len(urls)} unique links in our urls list.')\n",
    "print()\n",
    "urls "
   ]
  },
  {
   "cell_type": "markdown",
   "metadata": {},
   "source": [
    "#### Bonus URL Function"
   ]
  },
  {
   "cell_type": "code",
   "execution_count": 34,
   "metadata": {},
   "outputs": [],
   "source": [
    "def get_all_urls():\n",
    "    '''\n",
    "    This function scrapes all of the Codeup blog urls from\n",
    "    the main Codeup blog page and returns a list of urls.\n",
    "    '''\n",
    "    # The base url for the main Codeup blog page\n",
    "    url = 'https://codeup.com/resources/#blog'\n",
    "    headers = {'User-Agent': 'Codeup Data Science'} \n",
    "    \n",
    "    # Send request to main page and get response.\n",
    "    response = get(url, headers=headers)\n",
    "    \n",
    "    # Create soup object using response.\n",
    "    soup = BeautifulSoup(response.text, 'html.parser')\n",
    "    \n",
    "    # Create a list of the anchor elements that hold the urls.\n",
    "    urls_list = soup.find_all('a', class_='jet-listing-dynamic-link__link')\n",
    "    \n",
    "    # I'm using a set comprehension to return only unique urls because there are two links for each article.\n",
    "    urls = {link.get('href') for link in urls_list}\n",
    "\n",
    "    # I'm converting my set to a list of urls.\n",
    "    urls = list(urls)\n",
    "        \n",
    "    return urls"
   ]
  },
  {
   "cell_type": "code",
   "execution_count": 35,
   "metadata": {},
   "outputs": [],
   "source": [
    "# Now I can use my same function with my new function.\n",
    "# cached == False does a fresh scrape.\n",
    "\n",
    "big_blogs = get_blog_articles(urls=get_all_urls(), cached=False)"
   ]
  },
  {
   "cell_type": "code",
   "execution_count": 36,
   "metadata": {},
   "outputs": [
    {
     "data": {
      "text/html": [
       "<div>\n",
       "<style scoped>\n",
       "    .dataframe tbody tr th:only-of-type {\n",
       "        vertical-align: middle;\n",
       "    }\n",
       "\n",
       "    .dataframe tbody tr th {\n",
       "        vertical-align: top;\n",
       "    }\n",
       "\n",
       "    .dataframe thead th {\n",
       "        text-align: right;\n",
       "    }\n",
       "</style>\n",
       "<table border=\"1\" class=\"dataframe\">\n",
       "  <thead>\n",
       "    <tr style=\"text-align: right;\">\n",
       "      <th></th>\n",
       "      <th>title</th>\n",
       "      <th>content</th>\n",
       "    </tr>\n",
       "  </thead>\n",
       "  <tbody>\n",
       "    <tr>\n",
       "      <th>0</th>\n",
       "      <td>Build Your Career in Tech: Advice from Alumni!</td>\n",
       "      <td>Bryan Walsh, Codeup Web Development alum, and ...</td>\n",
       "    </tr>\n",
       "    <tr>\n",
       "      <th>1</th>\n",
       "      <td>Introducing Our Salary Refund Guarantee</td>\n",
       "      <td>Here at Codeup, we believe it’s time to revolu...</td>\n",
       "    </tr>\n",
       "    <tr>\n",
       "      <th>2</th>\n",
       "      <td>What is Machine Learning?</td>\n",
       "      <td>There’s a lot we can learn about machines, and...</td>\n",
       "    </tr>\n",
       "    <tr>\n",
       "      <th>3</th>\n",
       "      <td>What is Python?</td>\n",
       "      <td>If you’ve been digging around our website or r...</td>\n",
       "    </tr>\n",
       "    <tr>\n",
       "      <th>4</th>\n",
       "      <td>What to Expect at Codeup</td>\n",
       "      <td>Setting Expectations for Life Before, During, ...</td>\n",
       "    </tr>\n",
       "    <tr>\n",
       "      <th>5</th>\n",
       "      <td>What is the Transition into Data Science Like?</td>\n",
       "      <td>Alumni Katy Salts and Brandi Reger joined us a...</td>\n",
       "    </tr>\n",
       "    <tr>\n",
       "      <th>6</th>\n",
       "      <td>Your Education is an Investment</td>\n",
       "      <td>You have many options regarding educational ro...</td>\n",
       "    </tr>\n",
       "    <tr>\n",
       "      <th>7</th>\n",
       "      <td>What Data Science Career is For You?</td>\n",
       "      <td>If you’re struggling to see yourself as a data...</td>\n",
       "    </tr>\n",
       "    <tr>\n",
       "      <th>8</th>\n",
       "      <td>What is Codeup’s Application Process?</td>\n",
       "      <td>Curious about Codeup’s application process? Wo...</td>\n",
       "    </tr>\n",
       "    <tr>\n",
       "      <th>9</th>\n",
       "      <td>Codeup Launches Houston!</td>\n",
       "      <td>Houston, we have a problem: there aren’t enoug...</td>\n",
       "    </tr>\n",
       "  </tbody>\n",
       "</table>\n",
       "</div>"
      ],
      "text/plain": [
       "                                            title  \\\n",
       "0  Build Your Career in Tech: Advice from Alumni!   \n",
       "1         Introducing Our Salary Refund Guarantee   \n",
       "2                       What is Machine Learning?   \n",
       "3                                 What is Python?   \n",
       "4                        What to Expect at Codeup   \n",
       "5  What is the Transition into Data Science Like?   \n",
       "6                 Your Education is an Investment   \n",
       "7            What Data Science Career is For You?   \n",
       "8           What is Codeup’s Application Process?   \n",
       "9                        Codeup Launches Houston!   \n",
       "\n",
       "                                             content  \n",
       "0  Bryan Walsh, Codeup Web Development alum, and ...  \n",
       "1  Here at Codeup, we believe it’s time to revolu...  \n",
       "2  There’s a lot we can learn about machines, and...  \n",
       "3  If you’ve been digging around our website or r...  \n",
       "4  Setting Expectations for Life Before, During, ...  \n",
       "5  Alumni Katy Salts and Brandi Reger joined us a...  \n",
       "6  You have many options regarding educational ro...  \n",
       "7  If you’re struggling to see yourself as a data...  \n",
       "8  Curious about Codeup’s application process? Wo...  \n",
       "9  Houston, we have a problem: there aren’t enoug...  "
      ]
     },
     "execution_count": 36,
     "metadata": {},
     "output_type": "execute_result"
    }
   ],
   "source": [
    "big_blogs.head(10)"
   ]
  },
  {
   "cell_type": "code",
   "execution_count": null,
   "metadata": {},
   "outputs": [],
   "source": [
    "big_blogs.info()"
   ]
  },
  {
   "cell_type": "code",
   "execution_count": 37,
   "metadata": {},
   "outputs": [
    {
     "data": {
      "text/html": [
       "<div>\n",
       "<style scoped>\n",
       "    .dataframe tbody tr th:only-of-type {\n",
       "        vertical-align: middle;\n",
       "    }\n",
       "\n",
       "    .dataframe tbody tr th {\n",
       "        vertical-align: top;\n",
       "    }\n",
       "\n",
       "    .dataframe thead th {\n",
       "        text-align: right;\n",
       "    }\n",
       "</style>\n",
       "<table border=\"1\" class=\"dataframe\">\n",
       "  <thead>\n",
       "    <tr style=\"text-align: right;\">\n",
       "      <th></th>\n",
       "      <th>title</th>\n",
       "      <th>content</th>\n",
       "    </tr>\n",
       "  </thead>\n",
       "  <tbody>\n",
       "    <tr>\n",
       "      <th>0</th>\n",
       "      <td>Build Your Career in Tech: Advice from Alumni!</td>\n",
       "      <td>Bryan Walsh, Codeup Web Development alum, and ...</td>\n",
       "    </tr>\n",
       "    <tr>\n",
       "      <th>1</th>\n",
       "      <td>Introducing Our Salary Refund Guarantee</td>\n",
       "      <td>Here at Codeup, we believe it’s time to revolu...</td>\n",
       "    </tr>\n",
       "    <tr>\n",
       "      <th>2</th>\n",
       "      <td>What is Machine Learning?</td>\n",
       "      <td>There’s a lot we can learn about machines, and...</td>\n",
       "    </tr>\n",
       "    <tr>\n",
       "      <th>3</th>\n",
       "      <td>What is Python?</td>\n",
       "      <td>If you’ve been digging around our website or r...</td>\n",
       "    </tr>\n",
       "    <tr>\n",
       "      <th>4</th>\n",
       "      <td>What to Expect at Codeup</td>\n",
       "      <td>Setting Expectations for Life Before, During, ...</td>\n",
       "    </tr>\n",
       "  </tbody>\n",
       "</table>\n",
       "</div>"
      ],
      "text/plain": [
       "                                            title  \\\n",
       "0  Build Your Career in Tech: Advice from Alumni!   \n",
       "1         Introducing Our Salary Refund Guarantee   \n",
       "2                       What is Machine Learning?   \n",
       "3                                 What is Python?   \n",
       "4                        What to Expect at Codeup   \n",
       "\n",
       "                                             content  \n",
       "0  Bryan Walsh, Codeup Web Development alum, and ...  \n",
       "1  Here at Codeup, we believe it’s time to revolu...  \n",
       "2  There’s a lot we can learn about machines, and...  \n",
       "3  If you’ve been digging around our website or r...  \n",
       "4  Setting Expectations for Life Before, During, ...  "
      ]
     },
     "execution_count": 37,
     "metadata": {},
     "output_type": "execute_result"
    }
   ],
   "source": [
    "# cached == True reads in a df from `big_blogs.json`.\n",
    "\n",
    "big_blogs = get_blog_articles(urls=get_all_urls(), cached=True)\n",
    "big_blogs.head()"
   ]
  },
  {
   "cell_type": "markdown",
   "metadata": {},
   "source": [
    "___"
   ]
  },
  {
   "cell_type": "markdown",
   "metadata": {},
   "source": [
    "### Inshorts News Articles\n",
    "\n",
    "**Goal:**  Write a function that scrapes the news articles for the following topics:\n",
    "\n",
    "- Business\n",
    "\n",
    "\n",
    "- Sports\n",
    "\n",
    "\n",
    "- Technology\n",
    "\n",
    "\n",
    "- Entertainment"
   ]
  },
  {
   "cell_type": "code",
   "execution_count": 39,
   "metadata": {},
   "outputs": [
    {
     "data": {
      "text/plain": [
       "True"
      ]
     },
     "execution_count": 39,
     "metadata": {},
     "output_type": "execute_result"
    }
   ],
   "source": [
    "url = 'https://inshorts.com/en/read/entertainment'\n",
    "\n",
    "response = get(url)\n",
    "response.ok"
   ]
  },
  {
   "cell_type": "code",
   "execution_count": 40,
   "metadata": {},
   "outputs": [],
   "source": [
    "soup = BeautifulSoup(response.text, 'html.parser')"
   ]
  },
  {
   "cell_type": "markdown",
   "metadata": {},
   "source": [
    "#### Scrape News Cards from Main Page"
   ]
  },
  {
   "cell_type": "code",
   "execution_count": 49,
   "metadata": {
    "scrolled": true
   },
   "outputs": [
    {
     "name": "stdout",
     "output_type": "stream",
     "text": [
      "There are 25 news cards on this page.\n",
      "\n"
     ]
    },
    {
     "data": {
      "text/plain": [
       "<div class=\"news-card z-depth-1\" itemscope=\"\" itemtype=\"http://schema.org/NewsArticle\">\n",
       "<span content=\"\" itemid=\"https://inshorts.com/en/news/sushant-singh-rajputs-cousin-neeraj-leading-from-chhatapur-in-bihar-polls-1605013190280\" itemprop=\"mainEntityOfPage\" itemscope=\"\" itemtype=\"https://schema.org/WebPage\"></span>\n",
       "<span itemprop=\"author\" itemscope=\"itemscope\" itemtype=\"https://schema.org/Person\">\n",
       "<span content=\"Arshiya Chopra\" itemprop=\"name\"></span>\n",
       "</span>\n",
       "<span content=\"Sushant Singh Rajput's cousin Neeraj leading from Chhatapur in Bihar polls\" itemprop=\"description\"></span>\n",
       "<span itemprop=\"image\" itemscope=\"\" itemtype=\"https://schema.org/ImageObject\">\n",
       "<meta content=\"https://static.inshorts.com/inshorts/images/v1/variants/jpg/m/2020/11_nov/10_tue/img_1605011797271_95.jpg?\" itemprop=\"url\"/>\n",
       "<meta content=\"864\" itemprop=\"width\"/>\n",
       "<meta content=\"483\" itemprop=\"height\"/>\n",
       "</span>\n",
       "<span itemprop=\"publisher\" itemscope=\"itemscope\" itemtype=\"https://schema.org/Organization\">\n",
       "<span content=\"https://inshorts.com/\" itemprop=\"url\"></span>\n",
       "<span content=\"Inshorts\" itemprop=\"name\"></span>\n",
       "<span itemprop=\"logo\" itemscope=\"\" itemtype=\"https://schema.org/ImageObject\">\n",
       "<span content=\"https://assets.inshorts.com/inshorts/images/v1/variants/jpg/m/2018/11_nov/21_wed/img_1542823931298_497.jpg\" itemprop=\"url\"></span>\n",
       "<meta content=\"400\" itemprop=\"width\"/>\n",
       "<meta content=\"60\" itemprop=\"height\"/>\n",
       "</span>\n",
       "</span>\n",
       "<div class=\"news-card-image\" style=\"background-image: url('https://static.inshorts.com/inshorts/images/v1/variants/jpg/m/2020/11_nov/10_tue/img_1605011797271_95.jpg?')\">\n",
       "</div>\n",
       "<div class=\"news-card-title news-right-box\">\n",
       "<a class=\"clickable\" href=\"/en/news/sushant-singh-rajputs-cousin-neeraj-leading-from-chhatapur-in-bihar-polls-1605013190280\" onclick=\"ga('send', {'hitType': 'event', 'eventCategory': 'TitleOfNews', 'eventAction': 'clicked', 'eventLabel': 'Sushant%20Singh%20Rajput's%20cousin%20Neeraj%20leading%20from%20Chhatapur%20in%20Bihar%20polls)' });\" style=\"color:#44444d!important\">\n",
       "<span itemprop=\"headline\">Sushant Singh Rajput's cousin Neeraj leading from Chhatapur in Bihar polls</span>\n",
       "</a>\n",
       "<div class=\"news-card-author-time news-card-author-time-in-title\">\n",
       "<a href=\"/prev/en/news/sushant-singh-rajputs-cousin-neeraj-leading-from-chhatapur-in-bihar-polls-1605013190280\"><span class=\"short\">short</span></a> by <span class=\"author\">Arshiya Chopra</span> / \n",
       "      <span class=\"time\" content=\"2020-11-10T12:59:50.000Z\" itemprop=\"datePublished\">06:29 pm</span> on <span clas=\"date\">10 Nov 2020,Tuesday</span>\n",
       "</div>\n",
       "</div>\n",
       "<div class=\"news-card-content news-right-box\">\n",
       "<div itemprop=\"articleBody\">Late actor Sushant Singh Rajput's cousin and BJP leader Neeraj Kumar Singh is leading from Chhatapur seat in Bihar Assembly elections. He is ahead with a margin of over 22,000 votes against Rashtriya Janata Dal (RJD) candidate Vipin Kumar Singh. Neeraj had won from the seat in the last Assembly election on the BJP ticket.</div>\n",
       "<div class=\"news-card-author-time news-card-author-time-in-content\">\n",
       "<a href=\"/prev/en/news/sushant-singh-rajputs-cousin-neeraj-leading-from-chhatapur-in-bihar-polls-1605013190280\"><span class=\"short\">short</span></a> by <span class=\"author\">Arshiya Chopra</span> / \n",
       "      <span class=\"time\" content=\"2020-11-10T12:59:50.000Z\" itemprop=\"dateModified\">06:29 pm</span> on <span class=\"date\">10 Nov</span>\n",
       "</div>\n",
       "</div>\n",
       "<div class=\"news-card-footer news-right-box\">\n",
       "<div class=\"read-more\">read more at <a class=\"source\" href=\"https://results.eci.gov.in/ACTRENDS2020/statewiseS047.htm?utm_campaign=fullarticle&amp;utm_medium=referral&amp;utm_source=inshorts \" onclick=\"ga('send', {'hitType': 'event', 'eventCategory': 'ReadMore', 'eventAction': 'clicked', 'eventLabel': 'ECI' });\" target=\"_blank\">ECI</a></div>\n",
       "</div>\n",
       "</div>"
      ]
     },
     "execution_count": 49,
     "metadata": {},
     "output_type": "execute_result"
    }
   ],
   "source": [
    "# Scrape a ResultSet of all the news cards on the page and inspect the elements on the first card.\n",
    "\n",
    "cards = soup.find_all('div', class_='news-card')\n",
    "\n",
    "print(f'There are {len(cards)} news cards on this page.')\n",
    "print()\n",
    "cards[0]"
   ]
  },
  {
   "cell_type": "markdown",
   "metadata": {},
   "source": [
    "#### Scrape the Title from Each News Card"
   ]
  },
  {
   "cell_type": "code",
   "execution_count": 51,
   "metadata": {},
   "outputs": [
    {
     "data": {
      "text/plain": [
       "[\"Sushant Singh Rajput's cousin Neeraj leading from Chhatapur in Bihar polls\",\n",
       " \"I'm out of 'Prison Break', done with playing straight characters: Miller\",\n",
       " \"Deepika Padukone participates in FrontRow's $3.2 mn fundraise\",\n",
       " \"Anushka shares pic of Kohli cleaning his 'muddy spikes' ahead of Australia tour\",\n",
       " 'Ranveer climbs onto the roof of his car, gestures fans to keep sanitising hands']"
      ]
     },
     "execution_count": 51,
     "metadata": {},
     "output_type": "execute_result"
    }
   ],
   "source": [
    "# Create a list of titles using the span element and itemprop attribute with text method.\n",
    "\n",
    "titles = [card.find('span', itemprop='headline').text for card in cards]\n",
    "titles[:5]"
   ]
  },
  {
   "cell_type": "markdown",
   "metadata": {},
   "source": [
    "#### Scrape Author from News Cards"
   ]
  },
  {
   "cell_type": "code",
   "execution_count": 52,
   "metadata": {},
   "outputs": [
    {
     "data": {
      "text/plain": [
       "['Arshiya Chopra',\n",
       " 'Pragya Swastik',\n",
       " 'Rishabh Bhatnagar',\n",
       " 'Anmol Sharma',\n",
       " 'Pragya Swastik']"
      ]
     },
     "execution_count": 52,
     "metadata": {},
     "output_type": "execute_result"
    }
   ],
   "source": [
    "# Create a list of authors using the span element and class attribute with text method.\n",
    "\n",
    "authors = [card.find('span', class_='author').text for card in cards]\n",
    "authors[:5]"
   ]
  },
  {
   "cell_type": "markdown",
   "metadata": {},
   "source": [
    "#### Scrape Text from News Cards"
   ]
  },
  {
   "cell_type": "code",
   "execution_count": 53,
   "metadata": {},
   "outputs": [
    {
     "data": {
      "text/plain": [
       "[\"Late actor Sushant Singh Rajput's cousin and BJP leader Neeraj Kumar Singh is leading from Chhatapur seat in Bihar Assembly elections. He is ahead with a margin of over 22,000 votes against Rashtriya Janata Dal (RJD) candidate Vipin Kumar Singh. Neeraj had won from the seat in the last Assembly election on the BJP ticket.\",\n",
       " 'Actor Wentworth Miller, who played Michael Scofield in the series \\'Prison Break\\', wrote on Instagram, \"I\\'m out. Of PB. Officially.\" Miller, who came out as gay in 2013, added, \"I don\\'t want to play straight characters. Their stories have been told.\" He also said, \"If you were a fan of the show, hoping for additional seasons...I understand this is disappointing.\"',\n",
       " 'Creative arts and sports-focused learning platform FrontRow has raised $3.2 million in seed funding led by Lightspeed and Elevation Capital (formerly SAIF Partners), along with Deepika Padukone’s family office. Founded earlier this year by Mikhil Raj, Shubhadit Sharma and Ishaan Preet Singh, the startup provides classes taught by celebrities in their field, paired with a community platform.',\n",
       " 'Anushka Sharma took to Instagram Stories to share a picture of her husband, India captain Virat Kohli cleaning his spikes. \"Caught the husband diligently cleaning his muddy spikes before the tour,\" Anushka wrote. Kohli will return to India from the tour on paternity leave after the first Test in Adelaide, scheduled to take place from December 17 to 21.',\n",
       " \"A video has surfaced that shows actor Ranveer Singh climbing onto the roof of his car to social distance from a large group of his fans. The actor accepted his fans' greetings from the top of his car and gestured them to keep sanitising their hands amid the ongoing COVID-19 pandemic. Ranveer will next be seen in the film '83'.\"]"
      ]
     },
     "execution_count": 53,
     "metadata": {},
     "output_type": "execute_result"
    }
   ],
   "source": [
    "# Create a list of content strings using the div element and itemprop attribute with text method.\n",
    "\n",
    "content = [card.find('div', itemprop='articleBody').text for card in cards]\n",
    "content[:5]"
   ]
  },
  {
   "cell_type": "code",
   "execution_count": 54,
   "metadata": {},
   "outputs": [],
   "source": [
    "# Create an empty list, articles, to hold the dictionaries for each article.\n",
    "articles = []\n",
    "\n",
    "# Loop through each news card on the page and get what we want\n",
    "for card in cards:\n",
    "    title = card.find('span', itemprop='headline' ).text\n",
    "    author = card.find('span', class_='author').text\n",
    "    content = card.find('div', itemprop='articleBody').text\n",
    "    \n",
    "    # Create a dictionary, article, for each news card\n",
    "    article = {'title': title, 'author': author, 'content': content}\n",
    "    \n",
    "    # Add the dictionary, article, to our list of dictionaries, articles.\n",
    "    articles.append(article)"
   ]
  },
  {
   "cell_type": "code",
   "execution_count": 56,
   "metadata": {},
   "outputs": [
    {
     "name": "stdout",
     "output_type": "stream",
     "text": [
      "25\n"
     ]
    },
    {
     "data": {
      "text/plain": [
       "{'title': \"Sushant Singh Rajput's cousin Neeraj leading from Chhatapur in Bihar polls\",\n",
       " 'author': 'Arshiya Chopra',\n",
       " 'content': \"Late actor Sushant Singh Rajput's cousin and BJP leader Neeraj Kumar Singh is leading from Chhatapur seat in Bihar Assembly elections. He is ahead with a margin of over 22,000 votes against Rashtriya Janata Dal (RJD) candidate Vipin Kumar Singh. Neeraj had won from the seat in the last Assembly election on the BJP ticket.\"}"
      ]
     },
     "execution_count": 56,
     "metadata": {},
     "output_type": "execute_result"
    }
   ],
   "source": [
    "# Here we see our list contains 24-25 dictionaries for news cards\n",
    "\n",
    "print(len(articles))\n",
    "articles[0]"
   ]
  },
  {
   "cell_type": "markdown",
   "metadata": {},
   "source": [
    "#### Build Article Function"
   ]
  },
  {
   "cell_type": "code",
   "execution_count": 57,
   "metadata": {},
   "outputs": [],
   "source": [
    "def get_news_articles(cached=False):\n",
    "    '''\n",
    "    This function uses a cache parameter with default cache == False to give the option of \n",
    "    returning in a df of inshorts topics and info by reading a csv file or\n",
    "    of doing a fresh scrape of inshort pages with topics business, sports, technology,\n",
    "    and entertainment and writing the returned df to a csv file.\n",
    "    '''\n",
    "    # option to read in a json file instead of scrape for df\n",
    "    if cached == True:\n",
    "        df = pd.read_json('articles.json')\n",
    "        \n",
    "    # cached == True completes a fresh scrape for df    \n",
    "    else:\n",
    "    \n",
    "        # Set base_url and headers that will be used in get request\n",
    "\n",
    "        base_url = 'https://inshorts.com/en/read/'\n",
    "        headers = {'User-Agent': 'Codeup Data Science'}\n",
    "        \n",
    "        # List of topics to scrape\n",
    "        topics = ['business', 'sports', 'technology', 'entertainment']\n",
    "\n",
    "        # Create an empty list, articles, to hold our dictionaries\n",
    "        articles = []\n",
    "\n",
    "        for topic in topics:\n",
    "\n",
    "            # Get a response object from the main inshorts page\n",
    "            response = get(base_url + topic, headers=headers)\n",
    "\n",
    "            # Create soup object using response from inshort\n",
    "            soup = BeautifulSoup(response.text, 'html.parser')\n",
    "\n",
    "            # Scrape a ResultSet of all the news cards on the page\n",
    "            cards = soup.find_all('div', class_='news-card')\n",
    "\n",
    "            # Loop through each news card on the page and get what we want\n",
    "            for card in cards:\n",
    "                title = card.find('span', itemprop='headline' ).text\n",
    "                author = card.find('span', class_='author').text\n",
    "                content = card.find('div', itemprop='articleBody').text\n",
    "\n",
    "                # Create a dictionary, article, for each news card\n",
    "                article = ({'topic': topic, \n",
    "                            'title': title, \n",
    "                            'author': author, \n",
    "                            'content': content})\n",
    "\n",
    "                # Add the dictionary, article, to our list of dictionaries, articles.\n",
    "                articles.append(article)\n",
    "            \n",
    "        # Create a DataFrame from list of dictionaries\n",
    "        df = pd.DataFrame(articles)\n",
    "        \n",
    "        # Write df to csv for future use\n",
    "        df.to_json('articles.json')\n",
    "    \n",
    "    return df"
   ]
  },
  {
   "cell_type": "code",
   "execution_count": 58,
   "metadata": {},
   "outputs": [
    {
     "data": {
      "text/html": [
       "<div>\n",
       "<style scoped>\n",
       "    .dataframe tbody tr th:only-of-type {\n",
       "        vertical-align: middle;\n",
       "    }\n",
       "\n",
       "    .dataframe tbody tr th {\n",
       "        vertical-align: top;\n",
       "    }\n",
       "\n",
       "    .dataframe thead th {\n",
       "        text-align: right;\n",
       "    }\n",
       "</style>\n",
       "<table border=\"1\" class=\"dataframe\">\n",
       "  <thead>\n",
       "    <tr style=\"text-align: right;\">\n",
       "      <th></th>\n",
       "      <th>topic</th>\n",
       "      <th>title</th>\n",
       "      <th>author</th>\n",
       "      <th>content</th>\n",
       "    </tr>\n",
       "  </thead>\n",
       "  <tbody>\n",
       "    <tr>\n",
       "      <th>0</th>\n",
       "      <td>business</td>\n",
       "      <td>Sensex ends at record high of 42,597, Nifty en...</td>\n",
       "      <td>Pragya Swastik</td>\n",
       "      <td>Sensex and Nifty ended at record highs on Mond...</td>\n",
       "    </tr>\n",
       "    <tr>\n",
       "      <th>1</th>\n",
       "      <td>business</td>\n",
       "      <td>China COVID-19 vaccine trial halted in Brazil ...</td>\n",
       "      <td>Ankush Verma</td>\n",
       "      <td>The final-stage trial of China's Sinovac COVID...</td>\n",
       "    </tr>\n",
       "    <tr>\n",
       "      <th>2</th>\n",
       "      <td>business</td>\n",
       "      <td>Likely the most significant medical advance in...</td>\n",
       "      <td>Krishna Veera Vanamali</td>\n",
       "      <td>After Pfizer announced its experimental COVID-...</td>\n",
       "    </tr>\n",
       "    <tr>\n",
       "      <th>3</th>\n",
       "      <td>business</td>\n",
       "      <td>Gold prices fall below ₹50,000 per 10g on Pfiz...</td>\n",
       "      <td>Krishna Veera Vanamali</td>\n",
       "      <td>Gold prices in India fell by ₹2,502 to ₹49,665...</td>\n",
       "    </tr>\n",
       "    <tr>\n",
       "      <th>4</th>\n",
       "      <td>business</td>\n",
       "      <td>Pfizer's coronavirus vaccine needs to be store...</td>\n",
       "      <td>Krishna Veera Vanamali</td>\n",
       "      <td>Pfizer's COVID-19 vaccine, which used syntheti...</td>\n",
       "    </tr>\n",
       "  </tbody>\n",
       "</table>\n",
       "</div>"
      ],
      "text/plain": [
       "      topic                                              title  \\\n",
       "0  business  Sensex ends at record high of 42,597, Nifty en...   \n",
       "1  business  China COVID-19 vaccine trial halted in Brazil ...   \n",
       "2  business  Likely the most significant medical advance in...   \n",
       "3  business  Gold prices fall below ₹50,000 per 10g on Pfiz...   \n",
       "4  business  Pfizer's coronavirus vaccine needs to be store...   \n",
       "\n",
       "                   author                                            content  \n",
       "0          Pragya Swastik  Sensex and Nifty ended at record highs on Mond...  \n",
       "1            Ankush Verma  The final-stage trial of China's Sinovac COVID...  \n",
       "2  Krishna Veera Vanamali  After Pfizer announced its experimental COVID-...  \n",
       "3  Krishna Veera Vanamali  Gold prices in India fell by ₹2,502 to ₹49,665...  \n",
       "4  Krishna Veera Vanamali  Pfizer's COVID-19 vaccine, which used syntheti...  "
      ]
     },
     "execution_count": 58,
     "metadata": {},
     "output_type": "execute_result"
    }
   ],
   "source": [
    "# Test our function with cached == False to do a freash scrape and create `articles.json` file.\n",
    "\n",
    "df = get_news_articles(cached=False)\n",
    "df.head()"
   ]
  },
  {
   "cell_type": "code",
   "execution_count": 59,
   "metadata": {},
   "outputs": [
    {
     "data": {
      "text/plain": [
       "technology       25\n",
       "sports           25\n",
       "entertainment    25\n",
       "business         24\n",
       "Name: topic, dtype: int64"
      ]
     },
     "execution_count": 59,
     "metadata": {},
     "output_type": "execute_result"
    }
   ],
   "source": [
    "df.topic.value_counts()"
   ]
  },
  {
   "cell_type": "code",
   "execution_count": 60,
   "metadata": {},
   "outputs": [
    {
     "name": "stdout",
     "output_type": "stream",
     "text": [
      "<class 'pandas.core.frame.DataFrame'>\n",
      "RangeIndex: 99 entries, 0 to 98\n",
      "Data columns (total 4 columns):\n",
      " #   Column   Non-Null Count  Dtype \n",
      "---  ------   --------------  ----- \n",
      " 0   topic    99 non-null     object\n",
      " 1   title    99 non-null     object\n",
      " 2   author   99 non-null     object\n",
      " 3   content  99 non-null     object\n",
      "dtypes: object(4)\n",
      "memory usage: 3.2+ KB\n"
     ]
    }
   ],
   "source": [
    "df.info()"
   ]
  },
  {
   "cell_type": "code",
   "execution_count": null,
   "metadata": {},
   "outputs": [],
   "source": [
    "# Test our function to read in the df from `articles.csv`\n",
    "\n",
    "df = get_news_articles(cached=True)\n",
    "df.head()"
   ]
  },
  {
   "cell_type": "code",
   "execution_count": null,
   "metadata": {},
   "outputs": [],
   "source": [
    "df.info()"
   ]
  }
 ],
 "metadata": {
  "kernelspec": {
   "display_name": "Python 3",
   "language": "python",
   "name": "python3"
  },
  "language_info": {
   "codemirror_mode": {
    "name": "ipython",
    "version": 3
   },
   "file_extension": ".py",
   "mimetype": "text/x-python",
   "name": "python",
   "nbconvert_exporter": "python",
   "pygments_lexer": "ipython3",
   "version": "3.7.4"
  },
  "toc": {
   "base_numbering": 1,
   "nav_menu": {},
   "number_sections": false,
   "sideBar": true,
   "skip_h1_title": true,
   "title_cell": "Table of Contents",
   "title_sidebar": "Contents",
   "toc_cell": false,
   "toc_position": {
    "height": "calc(100% - 180px)",
    "left": "10px",
    "top": "150px",
    "width": "200px"
   },
   "toc_section_display": true,
   "toc_window_display": true
  }
 },
 "nbformat": 4,
 "nbformat_minor": 4
}
