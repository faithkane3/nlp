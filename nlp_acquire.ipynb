{
 "cells": [
  {
   "cell_type": "code",
   "execution_count": 2,
   "metadata": {},
   "outputs": [],
   "source": [
    "import pandas as pd\n",
    "import numpy as np\n",
    "\n",
    "from requests import get\n",
    "import re\n",
    "from bs4 import BeautifulSoup\n",
    "import os"
   ]
  },
  {
   "cell_type": "markdown",
   "metadata": {},
   "source": [
    "### Codeup Blogs\n",
    "\n",
    "**Goals:** Write a function to scrape urls from main Codeup blog web page and write a function that returns a dictionary of blog titles and text for each blog page. \n",
    "\n",
    "#### Grab Title from Page\n",
    "\n",
    "Here I use the `.find()` method on my soup with the `<h1>` tag. As always, there is no one way to accomplish our task, so I'm demonstrating one way to scrape the headline, not THE way to scrape the headline. "
   ]
  },
  {
   "cell_type": "code",
   "execution_count": 3,
   "metadata": {},
   "outputs": [
    {
     "data": {
      "text/plain": [
       "True"
      ]
     },
     "execution_count": 3,
     "metadata": {},
     "output_type": "execute_result"
    }
   ],
   "source": [
    "url = 'https://codeup.com/codeups-data-science-career-accelerator-is-here/'\n",
    "headers = {'User-Agent': 'Codeup Data Science'} \n",
    "    \n",
    "response = get(url, headers=headers)\n",
    "response.ok"
   ]
  },
  {
   "cell_type": "code",
   "execution_count": 4,
   "metadata": {},
   "outputs": [
    {
     "name": "stdout",
     "output_type": "stream",
     "text": [
      "<class 'str'>\n"
     ]
    }
   ],
   "source": [
    "# Here's our long string of HTML; we'll use response.text to make our soup object.\n",
    "\n",
    "print(type(response.text))"
   ]
  },
  {
   "cell_type": "code",
   "execution_count": 5,
   "metadata": {},
   "outputs": [
    {
     "name": "stdout",
     "output_type": "stream",
     "text": [
      "<class 'bs4.BeautifulSoup'>\n"
     ]
    }
   ],
   "source": [
    "# Create our Soup object by passing our HTML string and choice of parser.\n",
    "\n",
    "soup = BeautifulSoup(response.text, 'html.parser')\n",
    "\n",
    "# Now we have our BeautifulSoup object and can use its built-in methods and attributes.\n",
    "\n",
    "print(type(soup))"
   ]
  },
  {
   "cell_type": "code",
   "execution_count": 6,
   "metadata": {},
   "outputs": [
    {
     "data": {
      "text/plain": [
       "'Codeup’s Data Science Career Accelerator is Here!'"
      ]
     },
     "execution_count": 6,
     "metadata": {},
     "output_type": "execute_result"
    }
   ],
   "source": [
    "# The h1 element holds my title.\n",
    "\n",
    "title = soup.find('h1').text\n",
    "title"
   ]
  },
  {
   "cell_type": "markdown",
   "metadata": {},
   "source": [
    "#### Grab Text from Page"
   ]
  },
  {
   "cell_type": "code",
   "execution_count": 7,
   "metadata": {},
   "outputs": [
    {
     "name": "stdout",
     "output_type": "stream",
     "text": [
      "The rumors are true! The time has arrived. Codeup has officially opened applications to our new Data Science career accelerator, with only 25 seats available! This immersive program is one of a kind in San Antonio, and will help you land a job in Glassdoor’s #1 Best Job in America.\n",
      "Data Science is a method of providing actionable intelligence from data. The data revolution has hit San Antonio, resulting in an explosion in Data Scientist positions across companies like USAA, Accenture, Booz Allen Hamilton, and HEB. We’ve even seen UTSA invest $70 M for a Cybersecurity Center and School of Data Science. We built a program to specifically meet the growing demands of this industry.\n",
      "Our program will be 18 weeks long, full-time, hands-on, and project-based. Our curriculum development and instruction is led by Senior Data Scientist, Maggie Giust, who has worked at HEB, Capital Group, and Rackspace, along with input from dozens of practitioners and hiring partners. Students will work with real data sets, realistic problems, and the entire data science pipeline from collection to deployment. They will receive professional development training in resume writing, interviewing, and continuing education to prepare for a smooth transition to the workforce.\n",
      "We focus on applied data science for immediate impact and ROI in a business, which is how we can back it all up with a 6 month tuition refund guarantee – just like our existing Web Dev program. We’re focusing on Data Science with Python, SQL, and ML, covered in 14 modules: 1) Fundamentals; 2) Applied statistics; 3) SQL; 4) Python; 5) Supervised machine learning – regression; 6) Supervised machine learning – classification; 7) Unsupervised machine learning – clustering; 8) Time series analysis; 9) Anomaly detection; 10) Natural language processing; 11) Distributed machine learning; 12) Advanced topics (deep learning, NoSQL, cloud deployment, etc.); 13) Storytelling with data; and 14) Domain expertise development.\n",
      "Applications are now open for Codeup’s first Data Science cohort, which will start class on February 4, 2019. Hurry – there are only 25 seats available! To further our mission of cultivating inclusive growth, scholarships will be available to women, minorities, LGBTQIA+ individuals, veterans, first responders, and people relocating to San Antonio.\n",
      "If you want to learn about joining our program or hiring our graduates, email datascience@codeup.com!\n",
      "\n",
      "\n"
     ]
    }
   ],
   "source": [
    "content = soup.find('div', class_=\"jupiterx-post-content\").text\n",
    "print(content)"
   ]
  },
  {
   "cell_type": "code",
   "execution_count": 8,
   "metadata": {},
   "outputs": [
    {
     "name": "stdout",
     "output_type": "stream",
     "text": [
      "<class 'str'>\n"
     ]
    }
   ],
   "source": [
    "print(type(content))"
   ]
  },
  {
   "cell_type": "markdown",
   "metadata": {},
   "source": [
    "#### Build Blog Function"
   ]
  },
  {
   "cell_type": "code",
   "execution_count": 9,
   "metadata": {},
   "outputs": [],
   "source": [
    "# Create a helper function that requests and parses HTML returning a soup object.\n",
    "\n",
    "def make_soup(url):\n",
    "    '''\n",
    "    This helper function takes in a url and requests and parses HTML\n",
    "    returning a soup object.\n",
    "    '''\n",
    "    headers = {'User-Agent': 'Codeup Data Science'} \n",
    "    response = get(url, headers=headers)\n",
    "    soup = BeautifulSoup(response.text, 'html.parser')\n",
    "    return soup"
   ]
  },
  {
   "cell_type": "code",
   "execution_count": 10,
   "metadata": {},
   "outputs": [],
   "source": [
    "def get_blog_articles(urls, cached=False):\n",
    "    '''\n",
    "    This function takes in a list of Codeup Blog urls and a parameter\n",
    "    with default cached == False which scrapes the title and text for each url, \n",
    "    creates a list of dictionaries with the title and text for each blog, \n",
    "    converts list to df, and returns df.\n",
    "    If cached == True, the function returns a df from a json file.\n",
    "    '''\n",
    "    if cached == True:\n",
    "        df = pd.read_json('big_blogs.json')\n",
    "        \n",
    "    # cached == False completes a fresh scrape for df     \n",
    "    else:\n",
    "\n",
    "        # Create an empty list to hold dictionaries\n",
    "        articles = []\n",
    "\n",
    "        # Loop through each url in our list of urls\n",
    "        for url in urls:\n",
    "\n",
    "            # Make request and soup object using helper\n",
    "            soup = make_soup(url)\n",
    "\n",
    "            # Save the title of each blog in variable title\n",
    "            title = soup.find('h1').text\n",
    "\n",
    "            # Save the text in each blog to variable text\n",
    "            content = soup.find('div', class_=\"jupiterx-post-content\").text\n",
    "\n",
    "            # Create a dictionary holding the title and content for each blog\n",
    "            article = {'title': title, 'content': content}\n",
    "\n",
    "            # Add each dictionary to the articles list of dictionaries\n",
    "            articles.append(article)\n",
    "            \n",
    "        # convert our list of dictionaries to a df\n",
    "        df = pd.DataFrame(articles)\n",
    "\n",
    "        # Write df to a json file for faster access\n",
    "        df.to_json('big_blogs.json')\n",
    "    \n",
    "    return df"
   ]
  },
  {
   "cell_type": "markdown",
   "metadata": {},
   "source": [
    "#### Test Function"
   ]
  },
  {
   "cell_type": "code",
   "execution_count": 11,
   "metadata": {},
   "outputs": [
    {
     "data": {
      "text/html": [
       "<div>\n",
       "<style scoped>\n",
       "    .dataframe tbody tr th:only-of-type {\n",
       "        vertical-align: middle;\n",
       "    }\n",
       "\n",
       "    .dataframe tbody tr th {\n",
       "        vertical-align: top;\n",
       "    }\n",
       "\n",
       "    .dataframe thead th {\n",
       "        text-align: right;\n",
       "    }\n",
       "</style>\n",
       "<table border=\"1\" class=\"dataframe\">\n",
       "  <thead>\n",
       "    <tr style=\"text-align: right;\">\n",
       "      <th></th>\n",
       "      <th>title</th>\n",
       "      <th>content</th>\n",
       "    </tr>\n",
       "  </thead>\n",
       "  <tbody>\n",
       "    <tr>\n",
       "      <th>0</th>\n",
       "      <td>Codeup’s Data Science Career Accelerator is Here!</td>\n",
       "      <td>The rumors are true! The time has arrived. Cod...</td>\n",
       "    </tr>\n",
       "    <tr>\n",
       "      <th>1</th>\n",
       "      <td>Data Science Myths</td>\n",
       "      <td>By Dimitri Antoniou and Maggie Giust\\nData Sci...</td>\n",
       "    </tr>\n",
       "    <tr>\n",
       "      <th>2</th>\n",
       "      <td>Data Science VS Data Analytics: What’s The Dif...</td>\n",
       "      <td>By Dimitri Antoniou\\nA week ago, Codeup launch...</td>\n",
       "    </tr>\n",
       "    <tr>\n",
       "      <th>3</th>\n",
       "      <td>10 Tips to Crush It at the SA Tech Job Fair</td>\n",
       "      <td>SA Tech Job Fair\\nThe third bi-annual San Anto...</td>\n",
       "    </tr>\n",
       "    <tr>\n",
       "      <th>4</th>\n",
       "      <td>Competitor Bootcamps Are Closing. Is the Model...</td>\n",
       "      <td>Competitor Bootcamps Are Closing. Is the Model...</td>\n",
       "    </tr>\n",
       "  </tbody>\n",
       "</table>\n",
       "</div>"
      ],
      "text/plain": [
       "                                               title  \\\n",
       "0  Codeup’s Data Science Career Accelerator is Here!   \n",
       "1                                 Data Science Myths   \n",
       "2  Data Science VS Data Analytics: What’s The Dif...   \n",
       "3        10 Tips to Crush It at the SA Tech Job Fair   \n",
       "4  Competitor Bootcamps Are Closing. Is the Model...   \n",
       "\n",
       "                                             content  \n",
       "0  The rumors are true! The time has arrived. Cod...  \n",
       "1  By Dimitri Antoniou and Maggie Giust\\nData Sci...  \n",
       "2  By Dimitri Antoniou\\nA week ago, Codeup launch...  \n",
       "3  SA Tech Job Fair\\nThe third bi-annual San Anto...  \n",
       "4  Competitor Bootcamps Are Closing. Is the Model...  "
      ]
     },
     "execution_count": 11,
     "metadata": {},
     "output_type": "execute_result"
    }
   ],
   "source": [
    "# Here cached == False, so the function will do a fresh scrape of the urls and write data to a json file.\n",
    "\n",
    "urls = ['https://codeup.com/codeups-data-science-career-accelerator-is-here/',\n",
    "        'https://codeup.com/data-science-myths/',\n",
    "        'https://codeup.com/data-science-vs-data-analytics-whats-the-difference/',\n",
    "        'https://codeup.com/10-tips-to-crush-it-at-the-sa-tech-job-fair/',\n",
    "        'https://codeup.com/competitor-bootcamps-are-closing-is-the-model-in-danger/']\n",
    "\n",
    "blogs = get_blog_articles(urls=urls, cached=False)\n",
    "blogs"
   ]
  },
  {
   "cell_type": "markdown",
   "metadata": {},
   "source": [
    "#### Bonus URL Scrape"
   ]
  },
  {
   "cell_type": "code",
   "execution_count": 12,
   "metadata": {},
   "outputs": [],
   "source": [
    "# I'm going to hit Codeup's main blog page to scrape the urls and use my new function.\n",
    "\n",
    "url = 'https://codeup.com/resources/#blog'\n",
    "soup = make_soup(url)"
   ]
  },
  {
   "cell_type": "code",
   "execution_count": 13,
   "metadata": {},
   "outputs": [
    {
     "data": {
      "text/plain": [
       "[<a class=\"jet-listing-dynamic-link__link\" href=\"https://codeup.com/introducing-salary-refund-guarantee/\"><span class=\"jet-listing-dynamic-link__label\">Introducing Our Salary Refund Guarantee</span></a>,\n",
       " <a class=\"jet-listing-dynamic-link__link\" href=\"https://codeup.com/introducing-salary-refund-guarantee/\"><span class=\"jet-listing-dynamic-link__label\">Read More</span></a>]"
      ]
     },
     "execution_count": 13,
     "metadata": {},
     "output_type": "execute_result"
    }
   ],
   "source": [
    "# I'm filtering my soup to return a list of all anchor elements from my HTML. (view first 2)\n",
    "\n",
    "urls_list = soup.find_all('a', class_='jet-listing-dynamic-link__link')\n",
    "urls_list[:2]"
   ]
  },
  {
   "cell_type": "code",
   "execution_count": 14,
   "metadata": {},
   "outputs": [
    {
     "name": "stdout",
     "output_type": "stream",
     "text": [
      "There are 20 unique links in our urls list.\n",
      "\n"
     ]
    },
    {
     "data": {
      "text/plain": [
       "['https://codeup.com/education-is-an-investment/',\n",
       " 'https://codeup.com/what-is-machine-learning/',\n",
       " 'https://codeup.com/math-in-data-science/',\n",
       " 'https://codeup.com/how-were-celebrating-world-mental-health-day-from-home/',\n",
       " 'https://codeup.com/codeups-application-process/',\n",
       " 'https://codeup.com/codeup-alumni-make-water/',\n",
       " 'https://codeup.com/codeup-wins-civtech-datathon/',\n",
       " 'https://codeup.com/codeup-inc-5000/',\n",
       " 'https://codeup.com/codeup-in-houston/',\n",
       " 'https://codeup.com/build-your-career-in-tech/',\n",
       " 'https://codeup.com/covid-19-data-challenge/',\n",
       " 'https://codeup.com/what-to-expect-at-codeup/',\n",
       " 'https://codeup.com/succeed-in-a-coding-bootcamp/',\n",
       " 'https://codeup.com/introducing-salary-refund-guarantee/',\n",
       " 'https://codeup.com/transition-into-data-science/',\n",
       " 'https://codeup.com/new-scholarship/',\n",
       " 'https://codeup.com/what-data-science-career-is-for-you/',\n",
       " 'https://codeup.com/journey-into-web-development/',\n",
       " 'https://codeup.com/from-slacker-to-data-scientist/',\n",
       " 'https://codeup.com/what-is-python/']"
      ]
     },
     "execution_count": 14,
     "metadata": {},
     "output_type": "execute_result"
    }
   ],
   "source": [
    "# Filter the href attribute value for each anchor element in my list; we scraped 40 urls.\n",
    "\n",
    "# I'm using a set comprehension to return only unique urls because there are two links for each article.\n",
    "urls = {link.get('href') for link in urls_list}\n",
    "\n",
    "# I'm converting my set to a list of urls.\n",
    "urls = list(urls)\n",
    "\n",
    "print(f'There are {len(urls)} unique links in our urls list.')\n",
    "print()\n",
    "urls "
   ]
  },
  {
   "cell_type": "markdown",
   "metadata": {},
   "source": [
    "#### Bonus URL Function"
   ]
  },
  {
   "cell_type": "code",
   "execution_count": 15,
   "metadata": {},
   "outputs": [],
   "source": [
    "def get_all_urls():\n",
    "    '''\n",
    "    This function scrapes all of the Codeup blog urls from\n",
    "    the main Codeup blog page and returns a list of urls.\n",
    "    '''\n",
    "    # The base url for the main Codeup blog page\n",
    "    url = 'https://codeup.com/resources/#blog' \n",
    "    \n",
    "    # Make request and soup object using helper\n",
    "    soup = make_soup(url)\n",
    "    \n",
    "    # Create a list of the anchor elements that hold the urls.\n",
    "    urls_list = soup.find_all('a', class_='jet-listing-dynamic-link__link')\n",
    "    \n",
    "    # I'm using a set comprehension to return only unique urls because list contains duplicate urls.\n",
    "    urls = {link.get('href') for link in urls_list}\n",
    "\n",
    "    # I'm converting my set to a list of urls.\n",
    "    urls = list(urls)\n",
    "        \n",
    "    return urls"
   ]
  },
  {
   "cell_type": "code",
   "execution_count": 16,
   "metadata": {},
   "outputs": [],
   "source": [
    "# Now I can use my same function with my new function.\n",
    "# cached == False does a fresh scrape.\n",
    "\n",
    "big_blogs = get_blog_articles(urls=get_all_urls(), cached=False)"
   ]
  },
  {
   "cell_type": "code",
   "execution_count": 17,
   "metadata": {},
   "outputs": [
    {
     "data": {
      "text/html": [
       "<div>\n",
       "<style scoped>\n",
       "    .dataframe tbody tr th:only-of-type {\n",
       "        vertical-align: middle;\n",
       "    }\n",
       "\n",
       "    .dataframe tbody tr th {\n",
       "        vertical-align: top;\n",
       "    }\n",
       "\n",
       "    .dataframe thead th {\n",
       "        text-align: right;\n",
       "    }\n",
       "</style>\n",
       "<table border=\"1\" class=\"dataframe\">\n",
       "  <thead>\n",
       "    <tr style=\"text-align: right;\">\n",
       "      <th></th>\n",
       "      <th>title</th>\n",
       "      <th>content</th>\n",
       "    </tr>\n",
       "  </thead>\n",
       "  <tbody>\n",
       "    <tr>\n",
       "      <th>0</th>\n",
       "      <td>Your Education is an Investment</td>\n",
       "      <td>You have many options regarding educational ro...</td>\n",
       "    </tr>\n",
       "    <tr>\n",
       "      <th>1</th>\n",
       "      <td>What is Machine Learning?</td>\n",
       "      <td>There’s a lot we can learn about machines, and...</td>\n",
       "    </tr>\n",
       "    <tr>\n",
       "      <th>2</th>\n",
       "      <td>What are the Math and Stats Principles You Nee...</td>\n",
       "      <td>Coming into our Data Science program, you will...</td>\n",
       "    </tr>\n",
       "    <tr>\n",
       "      <th>3</th>\n",
       "      <td>How We’re Celebrating World Mental Health Day ...</td>\n",
       "      <td>World Mental Health Day is on October 10th. Al...</td>\n",
       "    </tr>\n",
       "    <tr>\n",
       "      <th>4</th>\n",
       "      <td>What is Codeup’s Application Process?</td>\n",
       "      <td>Curious about Codeup’s application process? Wo...</td>\n",
       "    </tr>\n",
       "    <tr>\n",
       "      <th>5</th>\n",
       "      <td>How Codeup Alumni are Helping to Make Water</td>\n",
       "      <td>Imagine having a kit mailed to you with all th...</td>\n",
       "    </tr>\n",
       "    <tr>\n",
       "      <th>6</th>\n",
       "      <td>Codeup Grads Win CivTech Datathon</td>\n",
       "      <td>Many Codeup alumni enjoy competing in hackatho...</td>\n",
       "    </tr>\n",
       "    <tr>\n",
       "      <th>7</th>\n",
       "      <td>Codeup on Inc. 5000 Fastest Growing Private Co...</td>\n",
       "      <td>We’re excited to announce a huge Codeup achiev...</td>\n",
       "    </tr>\n",
       "    <tr>\n",
       "      <th>8</th>\n",
       "      <td>Codeup Launches Houston!</td>\n",
       "      <td>Houston, we have a problem: there aren’t enoug...</td>\n",
       "    </tr>\n",
       "    <tr>\n",
       "      <th>9</th>\n",
       "      <td>Build Your Career in Tech: Advice from Alumni!</td>\n",
       "      <td>Bryan Walsh, Codeup Web Development alum, and ...</td>\n",
       "    </tr>\n",
       "  </tbody>\n",
       "</table>\n",
       "</div>"
      ],
      "text/plain": [
       "                                               title  \\\n",
       "0                    Your Education is an Investment   \n",
       "1                          What is Machine Learning?   \n",
       "2  What are the Math and Stats Principles You Nee...   \n",
       "3  How We’re Celebrating World Mental Health Day ...   \n",
       "4              What is Codeup’s Application Process?   \n",
       "5        How Codeup Alumni are Helping to Make Water   \n",
       "6                  Codeup Grads Win CivTech Datathon   \n",
       "7  Codeup on Inc. 5000 Fastest Growing Private Co...   \n",
       "8                           Codeup Launches Houston!   \n",
       "9     Build Your Career in Tech: Advice from Alumni!   \n",
       "\n",
       "                                             content  \n",
       "0  You have many options regarding educational ro...  \n",
       "1  There’s a lot we can learn about machines, and...  \n",
       "2  Coming into our Data Science program, you will...  \n",
       "3  World Mental Health Day is on October 10th. Al...  \n",
       "4  Curious about Codeup’s application process? Wo...  \n",
       "5  Imagine having a kit mailed to you with all th...  \n",
       "6  Many Codeup alumni enjoy competing in hackatho...  \n",
       "7  We’re excited to announce a huge Codeup achiev...  \n",
       "8  Houston, we have a problem: there aren’t enoug...  \n",
       "9  Bryan Walsh, Codeup Web Development alum, and ...  "
      ]
     },
     "execution_count": 17,
     "metadata": {},
     "output_type": "execute_result"
    }
   ],
   "source": [
    "big_blogs.head(10)"
   ]
  },
  {
   "cell_type": "code",
   "execution_count": 18,
   "metadata": {},
   "outputs": [
    {
     "name": "stdout",
     "output_type": "stream",
     "text": [
      "<class 'pandas.core.frame.DataFrame'>\n",
      "RangeIndex: 20 entries, 0 to 19\n",
      "Data columns (total 2 columns):\n",
      " #   Column   Non-Null Count  Dtype \n",
      "---  ------   --------------  ----- \n",
      " 0   title    20 non-null     object\n",
      " 1   content  20 non-null     object\n",
      "dtypes: object(2)\n",
      "memory usage: 448.0+ bytes\n"
     ]
    }
   ],
   "source": [
    "big_blogs.info()"
   ]
  },
  {
   "cell_type": "code",
   "execution_count": 19,
   "metadata": {},
   "outputs": [
    {
     "data": {
      "text/html": [
       "<div>\n",
       "<style scoped>\n",
       "    .dataframe tbody tr th:only-of-type {\n",
       "        vertical-align: middle;\n",
       "    }\n",
       "\n",
       "    .dataframe tbody tr th {\n",
       "        vertical-align: top;\n",
       "    }\n",
       "\n",
       "    .dataframe thead th {\n",
       "        text-align: right;\n",
       "    }\n",
       "</style>\n",
       "<table border=\"1\" class=\"dataframe\">\n",
       "  <thead>\n",
       "    <tr style=\"text-align: right;\">\n",
       "      <th></th>\n",
       "      <th>title</th>\n",
       "      <th>content</th>\n",
       "    </tr>\n",
       "  </thead>\n",
       "  <tbody>\n",
       "    <tr>\n",
       "      <th>0</th>\n",
       "      <td>Your Education is an Investment</td>\n",
       "      <td>You have many options regarding educational ro...</td>\n",
       "    </tr>\n",
       "    <tr>\n",
       "      <th>1</th>\n",
       "      <td>What is Machine Learning?</td>\n",
       "      <td>There’s a lot we can learn about machines, and...</td>\n",
       "    </tr>\n",
       "    <tr>\n",
       "      <th>2</th>\n",
       "      <td>What are the Math and Stats Principles You Nee...</td>\n",
       "      <td>Coming into our Data Science program, you will...</td>\n",
       "    </tr>\n",
       "    <tr>\n",
       "      <th>3</th>\n",
       "      <td>How We’re Celebrating World Mental Health Day ...</td>\n",
       "      <td>World Mental Health Day is on October 10th. Al...</td>\n",
       "    </tr>\n",
       "    <tr>\n",
       "      <th>4</th>\n",
       "      <td>What is Codeup’s Application Process?</td>\n",
       "      <td>Curious about Codeup’s application process? Wo...</td>\n",
       "    </tr>\n",
       "  </tbody>\n",
       "</table>\n",
       "</div>"
      ],
      "text/plain": [
       "                                               title  \\\n",
       "0                    Your Education is an Investment   \n",
       "1                          What is Machine Learning?   \n",
       "2  What are the Math and Stats Principles You Nee...   \n",
       "3  How We’re Celebrating World Mental Health Day ...   \n",
       "4              What is Codeup’s Application Process?   \n",
       "\n",
       "                                             content  \n",
       "0  You have many options regarding educational ro...  \n",
       "1  There’s a lot we can learn about machines, and...  \n",
       "2  Coming into our Data Science program, you will...  \n",
       "3  World Mental Health Day is on October 10th. Al...  \n",
       "4  Curious about Codeup’s application process? Wo...  "
      ]
     },
     "execution_count": 19,
     "metadata": {},
     "output_type": "execute_result"
    }
   ],
   "source": [
    "# cached == True reads in a df from `big_blogs.json`.\n",
    "\n",
    "big_blogs = get_blog_articles(urls=get_all_urls(), cached=True)\n",
    "big_blogs.head()"
   ]
  },
  {
   "cell_type": "markdown",
   "metadata": {},
   "source": [
    "___"
   ]
  },
  {
   "cell_type": "markdown",
   "metadata": {},
   "source": [
    "### Inshorts News Articles\n",
    "\n",
    "**Goal:**  Write a function that scrapes the news articles for the following topics:\n",
    "\n",
    "- Business\n",
    "\n",
    "\n",
    "- Sports\n",
    "\n",
    "\n",
    "- Technology\n",
    "\n",
    "\n",
    "- Entertainment"
   ]
  },
  {
   "cell_type": "code",
   "execution_count": 20,
   "metadata": {},
   "outputs": [],
   "source": [
    "# Make the soup object using my function.\n",
    "\n",
    "url = 'https://inshorts.com/en/read/entertainment'\n",
    "soup = make_soup(url)"
   ]
  },
  {
   "cell_type": "markdown",
   "metadata": {},
   "source": [
    "#### Scrape News Cards from Main Page"
   ]
  },
  {
   "cell_type": "code",
   "execution_count": 21,
   "metadata": {
    "scrolled": true
   },
   "outputs": [
    {
     "name": "stdout",
     "output_type": "stream",
     "text": [
      "There are 25 news cards on this page.\n",
      "\n"
     ]
    },
    {
     "data": {
      "text/plain": [
       "<div class=\"news-card z-depth-1\" itemscope=\"\" itemtype=\"http://schema.org/NewsArticle\">\n",
       "<span content=\"\" itemid=\"https://inshorts.com/en/news/53yrold-actor-asif-basra-found-hanging-at-a-private-complex-in-himachal-1605179736432\" itemprop=\"mainEntityOfPage\" itemscope=\"\" itemtype=\"https://schema.org/WebPage\"></span>\n",
       "<span itemprop=\"author\" itemscope=\"itemscope\" itemtype=\"https://schema.org/Person\">\n",
       "<span content=\"Pragya Swastik\" itemprop=\"name\"></span>\n",
       "</span>\n",
       "<span content=\"53-yr-old actor Asif Basra found hanging at a private complex in Himachal\" itemprop=\"description\"></span>\n",
       "<span itemprop=\"image\" itemscope=\"\" itemtype=\"https://schema.org/ImageObject\">\n",
       "<meta content=\"https://static.inshorts.com/inshorts/images/v1/variants/jpg/m/2020/11_nov/12_thu/img_1605179566538_924.jpg?\" itemprop=\"url\"/>\n",
       "<meta content=\"864\" itemprop=\"width\"/>\n",
       "<meta content=\"483\" itemprop=\"height\"/>\n",
       "</span>\n",
       "<span itemprop=\"publisher\" itemscope=\"itemscope\" itemtype=\"https://schema.org/Organization\">\n",
       "<span content=\"https://inshorts.com/\" itemprop=\"url\"></span>\n",
       "<span content=\"Inshorts\" itemprop=\"name\"></span>\n",
       "<span itemprop=\"logo\" itemscope=\"\" itemtype=\"https://schema.org/ImageObject\">\n",
       "<span content=\"https://assets.inshorts.com/inshorts/images/v1/variants/jpg/m/2018/11_nov/21_wed/img_1542823931298_497.jpg\" itemprop=\"url\"></span>\n",
       "<meta content=\"400\" itemprop=\"width\"/>\n",
       "<meta content=\"60\" itemprop=\"height\"/>\n",
       "</span>\n",
       "</span>\n",
       "<div class=\"news-card-image\" style=\"background-image: url('https://static.inshorts.com/inshorts/images/v1/variants/jpg/m/2020/11_nov/12_thu/img_1605179566538_924.jpg?')\">\n",
       "</div>\n",
       "<div class=\"news-card-title news-right-box\">\n",
       "<a class=\"clickable\" href=\"/en/news/53yrold-actor-asif-basra-found-hanging-at-a-private-complex-in-himachal-1605179736432\" onclick=\"ga('send', {'hitType': 'event', 'eventCategory': 'TitleOfNews', 'eventAction': 'clicked', 'eventLabel': '53-yr-old%20actor%20Asif%20Basra%20found%20hanging%20at%20a%20private%20complex%20in%20Himachal)' });\" style=\"color:#44444d!important\">\n",
       "<span itemprop=\"headline\">53-yr-old actor Asif Basra found hanging at a private complex in Himachal</span>\n",
       "</a>\n",
       "<div class=\"news-card-author-time news-card-author-time-in-title\">\n",
       "<a href=\"/prev/en/news/53yrold-actor-asif-basra-found-hanging-at-a-private-complex-in-himachal-1605179736432\"><span class=\"short\">short</span></a> by <span class=\"author\">Pragya Swastik</span> / \n",
       "      <span class=\"time\" content=\"2020-11-12T11:15:36.000Z\" itemprop=\"datePublished\">04:45 pm</span> on <span clas=\"date\">12 Nov 2020,Thursday</span>\n",
       "</div>\n",
       "</div>\n",
       "<div class=\"news-card-content news-right-box\">\n",
       "<div itemprop=\"articleBody\">Actor Asif Basra was found hanging in a private complex in Himachal Pradesh's Dharamshala, ANI reported on Thursday quoting Kangra Police official Vimukt Ranjan. \"Forensic team is at the spot and police is investigating the matter,\" the police official said. The 53-year-old actor acted in several Bollywood films including 'Kai Po Che!', 'Black Friday' and 'Hichki'.</div>\n",
       "<div class=\"news-card-author-time news-card-author-time-in-content\">\n",
       "<a href=\"/prev/en/news/53yrold-actor-asif-basra-found-hanging-at-a-private-complex-in-himachal-1605179736432\"><span class=\"short\">short</span></a> by <span class=\"author\">Pragya Swastik</span> / \n",
       "      <span class=\"time\" content=\"2020-11-12T11:15:36.000Z\" itemprop=\"dateModified\">04:45 pm</span> on <span class=\"date\">12 Nov</span>\n",
       "</div>\n",
       "</div>\n",
       "<div class=\"news-card-footer news-right-box\">\n",
       "<div class=\"read-more\">read more at <a class=\"source\" href=\"https://www.timesnownews.com/amp/india/article/actor-asif-basra-found-dead-at-private-complex-in-dharamshala/681115?utm_campaign=fullarticle&amp;utm_medium=referral&amp;utm_source=inshorts \" onclick=\"ga('send', {'hitType': 'event', 'eventCategory': 'ReadMore', 'eventAction': 'clicked', 'eventLabel': 'Times%20Now' });\" target=\"_blank\">Times Now</a></div>\n",
       "</div>\n",
       "</div>"
      ]
     },
     "execution_count": 21,
     "metadata": {},
     "output_type": "execute_result"
    }
   ],
   "source": [
    "# Scrape a ResultSet of all the news cards on the page and inspect the elements on the first card.\n",
    "\n",
    "cards = soup.find_all('div', class_='news-card')\n",
    "\n",
    "print(f'There are {len(cards)} news cards on this page.')\n",
    "print()\n",
    "cards[0]"
   ]
  },
  {
   "cell_type": "markdown",
   "metadata": {},
   "source": [
    "#### Scrape the Title from Each News Card"
   ]
  },
  {
   "cell_type": "code",
   "execution_count": 22,
   "metadata": {},
   "outputs": [
    {
     "data": {
      "text/plain": [
       "['53-yr-old actor Asif Basra found hanging at a private complex in Himachal',\n",
       " 'Balika Vadhu actress Avika Gor confirms relationship with ex-Roadies contestant',\n",
       " 'I cast Asif Basra in Jab We Met as I wanted an intelligent actor: Imtiaz Ali',\n",
       " \"American singer sings 'Om Jai Jagdish Hare' for Diwali, releases video\",\n",
       " \"Kangana's brother Aksht gets married in Udaipur, actress shares 1st pics\"]"
      ]
     },
     "execution_count": 22,
     "metadata": {},
     "output_type": "execute_result"
    }
   ],
   "source": [
    "# Create a list of titles using the span element and itemprop attribute with text method.\n",
    "\n",
    "titles = [card.find('span', itemprop='headline').text for card in cards]\n",
    "titles[:5]"
   ]
  },
  {
   "cell_type": "markdown",
   "metadata": {},
   "source": [
    "#### Scrape Author from News Cards"
   ]
  },
  {
   "cell_type": "code",
   "execution_count": 23,
   "metadata": {},
   "outputs": [
    {
     "data": {
      "text/plain": [
       "['Pragya Swastik', 'Daisy Mowke', 'Anmol Sharma', 'Daisy Mowke', 'Daisy Mowke']"
      ]
     },
     "execution_count": 23,
     "metadata": {},
     "output_type": "execute_result"
    }
   ],
   "source": [
    "# Create a list of authors using the span element and class attribute with text method.\n",
    "\n",
    "authors = [card.find('span', class_='author').text for card in cards]\n",
    "authors[:5]"
   ]
  },
  {
   "cell_type": "markdown",
   "metadata": {},
   "source": [
    "#### Scrape Text from News Cards"
   ]
  },
  {
   "cell_type": "code",
   "execution_count": 24,
   "metadata": {},
   "outputs": [
    {
     "data": {
      "text/plain": [
       "['Actor Asif Basra was found hanging in a private complex in Himachal Pradesh\\'s Dharamshala, ANI reported on Thursday quoting Kangra Police official Vimukt Ranjan. \"Forensic team is at the spot and police is investigating the matter,\" the police official said. The 53-year-old actor acted in several Bollywood films including \\'Kai Po Che!\\', \\'Black Friday\\' and \\'Hichki\\'.',\n",
       " '\\'Balika Vadhu\\' fame actress Avika Gor took to Instagram on Wednesday to confirm her relationship with Milind Chandwani, who participated in Roadies Real Heroes 2019. \"This kind human is mine. And I\\'m his forever,\" she wrote while sharing a collage. \"We all deserve a partner that understands us, believes in us, inspires us...& truly cares for us,\" Avika added.',\n",
       " 'Following the demise of Asif Basra, director Imtiaz Ali said, \"The news of his demise is very shocking and disturbing.\" He added that he cast Asif in \\'Jab We Met\\' as he wanted an intelligent actor who could convey what he was trying to say. Imtiaz further said, \"Asif was an engaging actor. I will miss him in the movies.\"',\n",
       " 'American singer Mary Millben on Wednesday released a rendition of \\'Om Jai Jagdish Hare\\' as her Diwali greetings to people across the globe, particularly in India and the US, celebrating the festival of lights. \"\\'Om Jai Jagdish Hare\\', a beautiful Hindi hymn...is a song of worship and celebration. This hymn continues to...stir my passion for Indian culture,\" said Millben.',\n",
       " 'Actress Kangana Ranaut took to social media to share pictures from her brother Aksht\\'s wedding in Udaipur. \"Welcome to our family Ritu,\" she wrote. \"Dear friends, bless my brother Aksht and his new bride Ritu, hope they find great companionship in this new phase of their lives,\" the actress wrote in another tweet.']"
      ]
     },
     "execution_count": 24,
     "metadata": {},
     "output_type": "execute_result"
    }
   ],
   "source": [
    "# Create a list of content strings using the div element and itemprop attribute with text method.\n",
    "\n",
    "content = [card.find('div', itemprop='articleBody').text for card in cards]\n",
    "content[:5]"
   ]
  },
  {
   "cell_type": "code",
   "execution_count": 25,
   "metadata": {},
   "outputs": [],
   "source": [
    "# Create an empty list, articles, to hold the dictionaries for each article.\n",
    "articles = []\n",
    "\n",
    "# Loop through each news card on the page and get what we want\n",
    "for card in cards:\n",
    "    title = card.find('span', itemprop='headline' ).text\n",
    "    author = card.find('span', class_='author').text\n",
    "    content = card.find('div', itemprop='articleBody').text\n",
    "    \n",
    "    # Create a dictionary, article, for each news card\n",
    "    article = {'title': title, 'author': author, 'content': content}\n",
    "    \n",
    "    # Add the dictionary, article, to our list of dictionaries, articles.\n",
    "    articles.append(article)"
   ]
  },
  {
   "cell_type": "code",
   "execution_count": 26,
   "metadata": {},
   "outputs": [
    {
     "name": "stdout",
     "output_type": "stream",
     "text": [
      "25\n"
     ]
    },
    {
     "data": {
      "text/plain": [
       "{'title': '53-yr-old actor Asif Basra found hanging at a private complex in Himachal',\n",
       " 'author': 'Pragya Swastik',\n",
       " 'content': 'Actor Asif Basra was found hanging in a private complex in Himachal Pradesh\\'s Dharamshala, ANI reported on Thursday quoting Kangra Police official Vimukt Ranjan. \"Forensic team is at the spot and police is investigating the matter,\" the police official said. The 53-year-old actor acted in several Bollywood films including \\'Kai Po Che!\\', \\'Black Friday\\' and \\'Hichki\\'.'}"
      ]
     },
     "execution_count": 26,
     "metadata": {},
     "output_type": "execute_result"
    }
   ],
   "source": [
    "# Here we see our list contains 24-25 dictionaries for news cards\n",
    "\n",
    "print(len(articles))\n",
    "articles[0]"
   ]
  },
  {
   "cell_type": "markdown",
   "metadata": {},
   "source": [
    "#### Build Article Function"
   ]
  },
  {
   "cell_type": "code",
   "execution_count": 27,
   "metadata": {},
   "outputs": [],
   "source": [
    "def get_news_articles(cached=False):\n",
    "    '''\n",
    "    This function with default cached == False does a fresh scrape of inshort pages with topics \n",
    "    business, sports, technology, and entertainment and writes the returned df to a json file.\n",
    "    cached == True returns a df read in from a json file.\n",
    "    '''\n",
    "    # option to read in a json file instead of scrape for df\n",
    "    if cached == True:\n",
    "        df = pd.read_json('articles.json')\n",
    "        \n",
    "    # cached == False completes a fresh scrape for df    \n",
    "    else:\n",
    "    \n",
    "        # Set base_url that will be used in get request\n",
    "        base_url = 'https://inshorts.com/en/read/'\n",
    "        \n",
    "        # List of topics to scrape\n",
    "        topics = ['business', 'sports', 'technology', 'entertainment']\n",
    "        \n",
    "        # Create an empty list, articles, to hold our dictionaries\n",
    "        articles = []\n",
    "\n",
    "        for topic in topics:\n",
    "            \n",
    "            # Create url with topic endpoint\n",
    "            topic_url = base_url + topic\n",
    "            \n",
    "            # Make request and soup object using helper\n",
    "            soup = make_soup(topic_url)\n",
    "\n",
    "            # Scrape a ResultSet of all the news cards on the page\n",
    "            cards = soup.find_all('div', class_='news-card')\n",
    "\n",
    "            # Loop through each news card on the page and get what we want\n",
    "            for card in cards:\n",
    "                title = card.find('span', itemprop='headline' ).text\n",
    "                author = card.find('span', class_='author').text\n",
    "                content = card.find('div', itemprop='articleBody').text\n",
    "\n",
    "                # Create a dictionary, article, for each news card\n",
    "                article = ({'topic': topic, \n",
    "                            'title': title, \n",
    "                            'author': author, \n",
    "                            'content': content})\n",
    "\n",
    "                # Add the dictionary, article, to our list of dictionaries, articles.\n",
    "                articles.append(article)\n",
    "            \n",
    "        # Create a DataFrame from list of dictionaries\n",
    "        df = pd.DataFrame(articles)\n",
    "        \n",
    "        # Write df to json file for future use\n",
    "        df.to_json('articles.json')\n",
    "    \n",
    "    return df"
   ]
  },
  {
   "cell_type": "code",
   "execution_count": 28,
   "metadata": {},
   "outputs": [
    {
     "data": {
      "text/html": [
       "<div>\n",
       "<style scoped>\n",
       "    .dataframe tbody tr th:only-of-type {\n",
       "        vertical-align: middle;\n",
       "    }\n",
       "\n",
       "    .dataframe tbody tr th {\n",
       "        vertical-align: top;\n",
       "    }\n",
       "\n",
       "    .dataframe thead th {\n",
       "        text-align: right;\n",
       "    }\n",
       "</style>\n",
       "<table border=\"1\" class=\"dataframe\">\n",
       "  <thead>\n",
       "    <tr style=\"text-align: right;\">\n",
       "      <th></th>\n",
       "      <th>topic</th>\n",
       "      <th>title</th>\n",
       "      <th>author</th>\n",
       "      <th>content</th>\n",
       "    </tr>\n",
       "  </thead>\n",
       "  <tbody>\n",
       "    <tr>\n",
       "      <th>0</th>\n",
       "      <td>business</td>\n",
       "      <td>Father said 'if you want to blow money up, fin...</td>\n",
       "      <td>Pragya Swastik</td>\n",
       "      <td>Serum Institute of India's (SII) CEO Adar Poon...</td>\n",
       "    </tr>\n",
       "    <tr>\n",
       "      <th>1</th>\n",
       "      <td>business</td>\n",
       "      <td>Ambani's RIL to invest up to $50 mn in Bill Ga...</td>\n",
       "      <td>Pragya Swastik</td>\n",
       "      <td>India's richest man Mukesh Ambani's RIL has an...</td>\n",
       "    </tr>\n",
       "    <tr>\n",
       "      <th>2</th>\n",
       "      <td>business</td>\n",
       "      <td>Special Indian version of PUBG Mobile to be la...</td>\n",
       "      <td>Krishna Veera Vanamali</td>\n",
       "      <td>South Korea's PUBG Corporation on Thursday ann...</td>\n",
       "    </tr>\n",
       "    <tr>\n",
       "      <th>3</th>\n",
       "      <td>business</td>\n",
       "      <td>China's Alibaba records $74 billion sales in 1...</td>\n",
       "      <td>Pragya Swastik</td>\n",
       "      <td>Chinese billionaire Jack Ma's Alibaba on Thurs...</td>\n",
       "    </tr>\n",
       "    <tr>\n",
       "      <th>4</th>\n",
       "      <td>business</td>\n",
       "      <td>Retail inflation in October rises to 7.61%, hi...</td>\n",
       "      <td>Pragya Swastik</td>\n",
       "      <td>The country's retail inflation, measured by th...</td>\n",
       "    </tr>\n",
       "  </tbody>\n",
       "</table>\n",
       "</div>"
      ],
      "text/plain": [
       "      topic                                              title  \\\n",
       "0  business  Father said 'if you want to blow money up, fin...   \n",
       "1  business  Ambani's RIL to invest up to $50 mn in Bill Ga...   \n",
       "2  business  Special Indian version of PUBG Mobile to be la...   \n",
       "3  business  China's Alibaba records $74 billion sales in 1...   \n",
       "4  business  Retail inflation in October rises to 7.61%, hi...   \n",
       "\n",
       "                   author                                            content  \n",
       "0          Pragya Swastik  Serum Institute of India's (SII) CEO Adar Poon...  \n",
       "1          Pragya Swastik  India's richest man Mukesh Ambani's RIL has an...  \n",
       "2  Krishna Veera Vanamali  South Korea's PUBG Corporation on Thursday ann...  \n",
       "3          Pragya Swastik  Chinese billionaire Jack Ma's Alibaba on Thurs...  \n",
       "4          Pragya Swastik  The country's retail inflation, measured by th...  "
      ]
     },
     "execution_count": 28,
     "metadata": {},
     "output_type": "execute_result"
    }
   ],
   "source": [
    "# Test our function with cached == False to do a freash scrape and create `articles.json` file.\n",
    "\n",
    "df = get_news_articles(cached=False)\n",
    "df.head()"
   ]
  },
  {
   "cell_type": "code",
   "execution_count": 29,
   "metadata": {},
   "outputs": [
    {
     "data": {
      "text/plain": [
       "sports           25\n",
       "entertainment    25\n",
       "technology       24\n",
       "business         24\n",
       "Name: topic, dtype: int64"
      ]
     },
     "execution_count": 29,
     "metadata": {},
     "output_type": "execute_result"
    }
   ],
   "source": [
    "df.topic.value_counts()"
   ]
  },
  {
   "cell_type": "code",
   "execution_count": 30,
   "metadata": {},
   "outputs": [
    {
     "name": "stdout",
     "output_type": "stream",
     "text": [
      "<class 'pandas.core.frame.DataFrame'>\n",
      "RangeIndex: 98 entries, 0 to 97\n",
      "Data columns (total 4 columns):\n",
      " #   Column   Non-Null Count  Dtype \n",
      "---  ------   --------------  ----- \n",
      " 0   topic    98 non-null     object\n",
      " 1   title    98 non-null     object\n",
      " 2   author   98 non-null     object\n",
      " 3   content  98 non-null     object\n",
      "dtypes: object(4)\n",
      "memory usage: 3.2+ KB\n"
     ]
    }
   ],
   "source": [
    "df.info()"
   ]
  },
  {
   "cell_type": "code",
   "execution_count": 31,
   "metadata": {},
   "outputs": [
    {
     "data": {
      "text/html": [
       "<div>\n",
       "<style scoped>\n",
       "    .dataframe tbody tr th:only-of-type {\n",
       "        vertical-align: middle;\n",
       "    }\n",
       "\n",
       "    .dataframe tbody tr th {\n",
       "        vertical-align: top;\n",
       "    }\n",
       "\n",
       "    .dataframe thead th {\n",
       "        text-align: right;\n",
       "    }\n",
       "</style>\n",
       "<table border=\"1\" class=\"dataframe\">\n",
       "  <thead>\n",
       "    <tr style=\"text-align: right;\">\n",
       "      <th></th>\n",
       "      <th>topic</th>\n",
       "      <th>title</th>\n",
       "      <th>author</th>\n",
       "      <th>content</th>\n",
       "    </tr>\n",
       "  </thead>\n",
       "  <tbody>\n",
       "    <tr>\n",
       "      <th>0</th>\n",
       "      <td>business</td>\n",
       "      <td>Father said 'if you want to blow money up, fin...</td>\n",
       "      <td>Pragya Swastik</td>\n",
       "      <td>Serum Institute of India's (SII) CEO Adar Poon...</td>\n",
       "    </tr>\n",
       "    <tr>\n",
       "      <th>1</th>\n",
       "      <td>business</td>\n",
       "      <td>Ambani's RIL to invest up to $50 mn in Bill Ga...</td>\n",
       "      <td>Pragya Swastik</td>\n",
       "      <td>India's richest man Mukesh Ambani's RIL has an...</td>\n",
       "    </tr>\n",
       "    <tr>\n",
       "      <th>2</th>\n",
       "      <td>business</td>\n",
       "      <td>Special Indian version of PUBG Mobile to be la...</td>\n",
       "      <td>Krishna Veera Vanamali</td>\n",
       "      <td>South Korea's PUBG Corporation on Thursday ann...</td>\n",
       "    </tr>\n",
       "    <tr>\n",
       "      <th>3</th>\n",
       "      <td>business</td>\n",
       "      <td>China's Alibaba records $74 billion sales in 1...</td>\n",
       "      <td>Pragya Swastik</td>\n",
       "      <td>Chinese billionaire Jack Ma's Alibaba on Thurs...</td>\n",
       "    </tr>\n",
       "    <tr>\n",
       "      <th>4</th>\n",
       "      <td>business</td>\n",
       "      <td>Retail inflation in October rises to 7.61%, hi...</td>\n",
       "      <td>Pragya Swastik</td>\n",
       "      <td>The country's retail inflation, measured by th...</td>\n",
       "    </tr>\n",
       "  </tbody>\n",
       "</table>\n",
       "</div>"
      ],
      "text/plain": [
       "      topic                                              title  \\\n",
       "0  business  Father said 'if you want to blow money up, fin...   \n",
       "1  business  Ambani's RIL to invest up to $50 mn in Bill Ga...   \n",
       "2  business  Special Indian version of PUBG Mobile to be la...   \n",
       "3  business  China's Alibaba records $74 billion sales in 1...   \n",
       "4  business  Retail inflation in October rises to 7.61%, hi...   \n",
       "\n",
       "                   author                                            content  \n",
       "0          Pragya Swastik  Serum Institute of India's (SII) CEO Adar Poon...  \n",
       "1          Pragya Swastik  India's richest man Mukesh Ambani's RIL has an...  \n",
       "2  Krishna Veera Vanamali  South Korea's PUBG Corporation on Thursday ann...  \n",
       "3          Pragya Swastik  Chinese billionaire Jack Ma's Alibaba on Thurs...  \n",
       "4          Pragya Swastik  The country's retail inflation, measured by th...  "
      ]
     },
     "execution_count": 31,
     "metadata": {},
     "output_type": "execute_result"
    }
   ],
   "source": [
    "# Test our function to read in the df from `articles.csv`\n",
    "\n",
    "df = get_news_articles(cached=True)\n",
    "df.head()"
   ]
  },
  {
   "cell_type": "code",
   "execution_count": 32,
   "metadata": {},
   "outputs": [
    {
     "name": "stdout",
     "output_type": "stream",
     "text": [
      "<class 'pandas.core.frame.DataFrame'>\n",
      "Int64Index: 98 entries, 0 to 97\n",
      "Data columns (total 4 columns):\n",
      " #   Column   Non-Null Count  Dtype \n",
      "---  ------   --------------  ----- \n",
      " 0   topic    98 non-null     object\n",
      " 1   title    98 non-null     object\n",
      " 2   author   98 non-null     object\n",
      " 3   content  98 non-null     object\n",
      "dtypes: object(4)\n",
      "memory usage: 3.8+ KB\n"
     ]
    }
   ],
   "source": [
    "df.info()"
   ]
  }
 ],
 "metadata": {
  "kernelspec": {
   "display_name": "Python 3",
   "language": "python",
   "name": "python3"
  },
  "language_info": {
   "codemirror_mode": {
    "name": "ipython",
    "version": 3
   },
   "file_extension": ".py",
   "mimetype": "text/x-python",
   "name": "python",
   "nbconvert_exporter": "python",
   "pygments_lexer": "ipython3",
   "version": "3.7.4"
  },
  "toc": {
   "base_numbering": 1,
   "nav_menu": {},
   "number_sections": false,
   "sideBar": true,
   "skip_h1_title": true,
   "title_cell": "Table of Contents",
   "title_sidebar": "Contents",
   "toc_cell": false,
   "toc_position": {
    "height": "calc(100% - 180px)",
    "left": "10px",
    "top": "150px",
    "width": "200px"
   },
   "toc_section_display": true,
   "toc_window_display": true
  }
 },
 "nbformat": 4,
 "nbformat_minor": 4
}
