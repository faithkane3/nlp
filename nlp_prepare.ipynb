{
 "cells": [
  {
   "cell_type": "markdown",
   "metadata": {
    "toc": true
   },
   "source": [
    "<h1>Table of Contents<span class=\"tocSkip\"></span></h1>\n",
    "<div class=\"toc\"><ul class=\"toc-item\"><li><span><a href=\"#Natural-Language-Processing\" data-toc-modified-id=\"Natural-Language-Processing-1\"><span class=\"toc-item-num\">1&nbsp;&nbsp;</span>Natural Language Processing</a></span><ul class=\"toc-item\"><li><span><a href=\"#What-is-Natural-Language-Processing?\" data-toc-modified-id=\"What-is-Natural-Language-Processing?-1.1\"><span class=\"toc-item-num\">1.1&nbsp;&nbsp;</span><strong><font color=\"red\">What is Natural Language Processing?</font></strong></a></span></li><li><span><a href=\"#So-What?\" data-toc-modified-id=\"So-What?-1.2\"><span class=\"toc-item-num\">1.2&nbsp;&nbsp;</span><strong><font color=\"orange\">So What?</font></strong></a></span></li><li><span><a href=\"#Normalization\" data-toc-modified-id=\"Normalization-1.3\"><span class=\"toc-item-num\">1.3&nbsp;&nbsp;</span>Normalization</a></span></li><li><span><a href=\"#Now-What?\" data-toc-modified-id=\"Now-What?-1.4\"><span class=\"toc-item-num\">1.4&nbsp;&nbsp;</span><strong><font color=\"green\">Now What?</font></strong></a></span><ul class=\"toc-item\"><li><span><a href=\"#Lowercase-Using-df.col.str.lower()\" data-toc-modified-id=\"Lowercase-Using-df.col.str.lower()-1.4.1\"><span class=\"toc-item-num\">1.4.1&nbsp;&nbsp;</span>Lowercase Using <code>df.col.str.lower()</code></a></span></li><li><span><a href=\"#Normalize-Unicode-Characters\" data-toc-modified-id=\"Normalize-Unicode-Characters-1.4.2\"><span class=\"toc-item-num\">1.4.2&nbsp;&nbsp;</span>Normalize Unicode Characters</a></span></li><li><span><a href=\"#Remove-Special-Characters-Using-Regex\" data-toc-modified-id=\"Remove-Special-Characters-Using-Regex-1.4.3\"><span class=\"toc-item-num\">1.4.3&nbsp;&nbsp;</span>Remove Special Characters Using Regex</a></span></li><li><span><a href=\"#Basic-Clean-Function\" data-toc-modified-id=\"Basic-Clean-Function-1.4.4\"><span class=\"toc-item-num\">1.4.4&nbsp;&nbsp;</span>Basic Clean Function</a></span></li></ul></li><li><span><a href=\"#So-What?\" data-toc-modified-id=\"So-What?-1.5\"><span class=\"toc-item-num\">1.5&nbsp;&nbsp;</span><strong><font color=\"orange\">So What?</font></strong></a></span></li><li><span><a href=\"#Tokenization\" data-toc-modified-id=\"Tokenization-1.6\"><span class=\"toc-item-num\">1.6&nbsp;&nbsp;</span>Tokenization</a></span></li><li><span><a href=\"#Now-What?\" data-toc-modified-id=\"Now-What?-1.7\"><span class=\"toc-item-num\">1.7&nbsp;&nbsp;</span><strong><font color=\"green\">Now What?</font></strong></a></span><ul class=\"toc-item\"><li><span><a href=\"#Using-.split()\" data-toc-modified-id=\"Using-.split()-1.7.1\"><span class=\"toc-item-num\">1.7.1&nbsp;&nbsp;</span>Using <code>.split()</code></a></span></li><li><span><a href=\"#Using-Regex\" data-toc-modified-id=\"Using-Regex-1.7.2\"><span class=\"toc-item-num\">1.7.2&nbsp;&nbsp;</span>Using Regex</a></span></li><li><span><a href=\"#Using-NLTK-Tokenization\" data-toc-modified-id=\"Using-NLTK-Tokenization-1.7.3\"><span class=\"toc-item-num\">1.7.3&nbsp;&nbsp;</span>Using NLTK Tokenization</a></span></li><li><span><a href=\"#Tokenize-Function\" data-toc-modified-id=\"Tokenize-Function-1.7.4\"><span class=\"toc-item-num\">1.7.4&nbsp;&nbsp;</span>Tokenize Function</a></span></li></ul></li><li><span><a href=\"#So-What?\" data-toc-modified-id=\"So-What?-1.8\"><span class=\"toc-item-num\">1.8&nbsp;&nbsp;</span><strong><font color=\"orange\">So What?</font></strong></a></span></li><li><span><a href=\"#Stemming\" data-toc-modified-id=\"Stemming-1.9\"><span class=\"toc-item-num\">1.9&nbsp;&nbsp;</span>Stemming</a></span></li><li><span><a href=\"#Now-What?\" data-toc-modified-id=\"Now-What?-1.10\"><span class=\"toc-item-num\">1.10&nbsp;&nbsp;</span><strong><font color=\"green\">Now What?</font></strong></a></span><ul class=\"toc-item\"><li><span><a href=\"#Using-NLTK-PorterStemmer\" data-toc-modified-id=\"Using-NLTK-PorterStemmer-1.10.1\"><span class=\"toc-item-num\">1.10.1&nbsp;&nbsp;</span>Using NLTK PorterStemmer</a></span></li><li><span><a href=\"#Stem-Function\" data-toc-modified-id=\"Stem-Function-1.10.2\"><span class=\"toc-item-num\">1.10.2&nbsp;&nbsp;</span>Stem Function</a></span></li></ul></li><li><span><a href=\"#So-What?\" data-toc-modified-id=\"So-What?-1.11\"><span class=\"toc-item-num\">1.11&nbsp;&nbsp;</span><strong><font color=\"orange\">So What?</font></strong></a></span></li><li><span><a href=\"#Lemmatization\" data-toc-modified-id=\"Lemmatization-1.12\"><span class=\"toc-item-num\">1.12&nbsp;&nbsp;</span>Lemmatization</a></span></li><li><span><a href=\"#Now-What?\" data-toc-modified-id=\"Now-What?-1.13\"><span class=\"toc-item-num\">1.13&nbsp;&nbsp;</span><strong><font color=\"green\">Now What?</font></strong></a></span><ul class=\"toc-item\"><li><span><a href=\"#Using-NLTK-WordNetLemmatizer\" data-toc-modified-id=\"Using-NLTK-WordNetLemmatizer-1.13.1\"><span class=\"toc-item-num\">1.13.1&nbsp;&nbsp;</span>Using NLTK WordNetLemmatizer</a></span></li><li><span><a href=\"#Lemmatize-Function\" data-toc-modified-id=\"Lemmatize-Function-1.13.2\"><span class=\"toc-item-num\">1.13.2&nbsp;&nbsp;</span>Lemmatize Function</a></span></li></ul></li><li><span><a href=\"#So-What?\" data-toc-modified-id=\"So-What?-1.14\"><span class=\"toc-item-num\">1.14&nbsp;&nbsp;</span><strong><font color=\"orange\">So What?</font></strong></a></span></li><li><span><a href=\"#Stopwords\" data-toc-modified-id=\"Stopwords-1.15\"><span class=\"toc-item-num\">1.15&nbsp;&nbsp;</span>Stopwords</a></span></li><li><span><a href=\"#Now-What?\" data-toc-modified-id=\"Now-What?-1.16\"><span class=\"toc-item-num\">1.16&nbsp;&nbsp;</span><strong><font color=\"green\">Now What?</font></strong></a></span><ul class=\"toc-item\"><li><span><a href=\"#Using-NLTK-Stopwords\" data-toc-modified-id=\"Using-NLTK-Stopwords-1.16.1\"><span class=\"toc-item-num\">1.16.1&nbsp;&nbsp;</span>Using NLTK Stopwords</a></span></li><li><span><a href=\"#Stopwords-Function\" data-toc-modified-id=\"Stopwords-Function-1.16.2\"><span class=\"toc-item-num\">1.16.2&nbsp;&nbsp;</span>Stopwords Function</a></span></li></ul></li><li><span><a href=\"#Now-What?\" data-toc-modified-id=\"Now-What?-1.17\"><span class=\"toc-item-num\">1.17&nbsp;&nbsp;</span><strong><font color=\"green\">Now What?</font></strong></a></span></li><li><span><a href=\"#Prep-Article-Function\" data-toc-modified-id=\"Prep-Article-Function-1.18\"><span class=\"toc-item-num\">1.18&nbsp;&nbsp;</span>Prep Article Function</a></span></li></ul></li></ul></div>"
   ]
  },
  {
   "cell_type": "code",
   "execution_count": 1,
   "metadata": {},
   "outputs": [],
   "source": [
    "import pandas as pd\n",
    "import numpy as np\n",
    "\n",
    "import os\n",
    "import unicodedata\n",
    "import re\n",
    "import json\n",
    "\n",
    "import nltk\n",
    "from nltk.tokenize.toktok import ToktokTokenizer\n",
    "from nltk.corpus import stopwords\n",
    "\n",
    "from acquire_walkthrough import get_news_articles"
   ]
  },
  {
   "cell_type": "markdown",
   "metadata": {},
   "source": [
    "### Natural Language Processing\n",
    "\n",
    "#### **<font color=red>What is Natural Language Processing?</font>**\n",
    "\n",
    "Natural Language Processing allows you to use techniques in Python libraries like NLTK (Natural Language Tool Kit) and Spacy to create machine-useable structure out of natural language text. In other words, you can manipulate natural language in such a way that renders it useful in machine learning. Machines can't read words, but they can recognize numbers, so we have to process the text we want to use in a way that retains the original meaning while representing the text with numbers.\n",
    "\n",
    "#### **<font color=orange>So What?</font>**\n",
    "\n",
    "We need to know some basic terminology to get started:"
   ]
  },
  {
   "cell_type": "markdown",
   "metadata": {},
   "source": [
    "#### Normalization\n",
    "\n",
    "**Normalization** - is when you perform a series of tasks like making all text lowercase, removing punctuation, expanding contractions, removing anything that's not an ASCII character, etc.\n",
    "\n",
    "#### **<font color=green>Now What?</font>**\n",
    "\n",
    "##### Lowercase Using `df.col.str.lower()`"
   ]
  },
  {
   "cell_type": "code",
   "execution_count": 2,
   "metadata": {},
   "outputs": [
    {
     "data": {
      "text/html": [
       "<div>\n",
       "<style scoped>\n",
       "    .dataframe tbody tr th:only-of-type {\n",
       "        vertical-align: middle;\n",
       "    }\n",
       "\n",
       "    .dataframe tbody tr th {\n",
       "        vertical-align: top;\n",
       "    }\n",
       "\n",
       "    .dataframe thead th {\n",
       "        text-align: right;\n",
       "    }\n",
       "</style>\n",
       "<table border=\"1\" class=\"dataframe\">\n",
       "  <thead>\n",
       "    <tr style=\"text-align: right;\">\n",
       "      <th></th>\n",
       "      <th>topic</th>\n",
       "      <th>title</th>\n",
       "      <th>author</th>\n",
       "      <th>content</th>\n",
       "    </tr>\n",
       "  </thead>\n",
       "  <tbody>\n",
       "    <tr>\n",
       "      <th>0</th>\n",
       "      <td>business</td>\n",
       "      <td>US firm buys Serum Institute parent's Czech un...</td>\n",
       "      <td>Krishna Veera Vanamali</td>\n",
       "      <td>US biotech firm Novavax has announced it's buy...</td>\n",
       "    </tr>\n",
       "    <tr>\n",
       "      <th>1</th>\n",
       "      <td>business</td>\n",
       "      <td>Twitter CEO donates $10M to project giving $1,...</td>\n",
       "      <td>Pragya Swastik</td>\n",
       "      <td>Twitter's billionaire CEO Jack Dorsey has dona...</td>\n",
       "    </tr>\n",
       "    <tr>\n",
       "      <th>2</th>\n",
       "      <td>business</td>\n",
       "      <td>Google in talks to buy 5% stake in Vodafone Id...</td>\n",
       "      <td>Krishna Veera Vanamali</td>\n",
       "      <td>Google is exploring an investment in Vodafone ...</td>\n",
       "    </tr>\n",
       "    <tr>\n",
       "      <th>3</th>\n",
       "      <td>business</td>\n",
       "      <td>Microsoft in talks to buy 2.5% stake in Jio fo...</td>\n",
       "      <td>Anushka Dixit</td>\n",
       "      <td>Microsoft is in talks with Mukesh Ambani-led R...</td>\n",
       "    </tr>\n",
       "    <tr>\n",
       "      <th>4</th>\n",
       "      <td>business</td>\n",
       "      <td>25-year-old Anant Ambani joins $65 billion Jio...</td>\n",
       "      <td>Krishna Veera Vanamali</td>\n",
       "      <td>Asia's richest person Mukesh Ambani's 25-year-...</td>\n",
       "    </tr>\n",
       "  </tbody>\n",
       "</table>\n",
       "</div>"
      ],
      "text/plain": [
       "      topic                                              title  \\\n",
       "0  business  US firm buys Serum Institute parent's Czech un...   \n",
       "1  business  Twitter CEO donates $10M to project giving $1,...   \n",
       "2  business  Google in talks to buy 5% stake in Vodafone Id...   \n",
       "3  business  Microsoft in talks to buy 2.5% stake in Jio fo...   \n",
       "4  business  25-year-old Anant Ambani joins $65 billion Jio...   \n",
       "\n",
       "                   author                                            content  \n",
       "0  Krishna Veera Vanamali  US biotech firm Novavax has announced it's buy...  \n",
       "1          Pragya Swastik  Twitter's billionaire CEO Jack Dorsey has dona...  \n",
       "2  Krishna Veera Vanamali  Google is exploring an investment in Vodafone ...  \n",
       "3           Anushka Dixit  Microsoft is in talks with Mukesh Ambani-led R...  \n",
       "4  Krishna Veera Vanamali  Asia's richest person Mukesh Ambani's 25-year-...  "
      ]
     },
     "execution_count": 2,
     "metadata": {},
     "output_type": "execute_result"
    }
   ],
   "source": [
    "df = get_news_articles()\n",
    "df.head()"
   ]
  },
  {
   "cell_type": "code",
   "execution_count": 3,
   "metadata": {},
   "outputs": [
    {
     "data": {
      "text/plain": [
       "0     us biotech firm novavax has announced it's buy...\n",
       "1     twitter's billionaire ceo jack dorsey has dona...\n",
       "2     google is exploring an investment in vodafone ...\n",
       "3     microsoft is in talks with mukesh ambani-led r...\n",
       "4     asia's richest person mukesh ambani's 25-year-...\n",
       "                            ...                        \n",
       "95    shah rukh khan's ipl team kolkata knight rider...\n",
       "96    director milap zaveri has said john abraham is...\n",
       "97    actor chirag patil has said he thoroughly enjo...\n",
       "98    british actor henry cavill is reportedly in ta...\n",
       "99    oscar-winning actress helen mirren has said th...\n",
       "Name: content, Length: 100, dtype: object"
      ]
     },
     "execution_count": 3,
     "metadata": {},
     "output_type": "execute_result"
    }
   ],
   "source": [
    "# Note I have not reassigned this or changed the inplace argument to True yet; just a look.\n",
    "\n",
    "df.content.str.lower()"
   ]
  },
  {
   "cell_type": "markdown",
   "metadata": {},
   "source": [
    "##### Normalize Unicode Characters\n",
    "\n",
    "[Here](https://pandas.pydata.org/pandas-docs/stable/reference/api/pandas.Series.str.normalize.html) is the documentation for using `unicodedata.normalize()` as a str method on a Pandas Series.\n",
    "\n",
    "```python\n",
    "df.col.str.normalize(form, unistr)\n",
    "```\n",
    "\n",
    "```python\n",
    "df.col.str.encode('ascii', 'ignore')\n",
    "```\n",
    "\n",
    "```python\n",
    "df.col.str.decode('utf-8', 'ignore')\n",
    "```\n",
    "\n",
    "```python\n",
    "df.col.str.replace(r'[^\\w\\s]', '', regex=True)\n",
    "```"
   ]
  },
  {
   "cell_type": "code",
   "execution_count": 4,
   "metadata": {},
   "outputs": [
    {
     "data": {
      "text/plain": [
       "0     US biotech firm Novavax has announced it's buy...\n",
       "1     Twitter's billionaire CEO Jack Dorsey has dona...\n",
       "2     Google is exploring an investment in Vodafone ...\n",
       "3     Microsoft is in talks with Mukesh Ambani-led R...\n",
       "4     Asia's richest person Mukesh Ambani's 25-year-...\n",
       "                            ...                        \n",
       "95    Shah Rukh Khan's IPL team Kolkata Knight Rider...\n",
       "96    Director Milap Zaveri has said John Abraham is...\n",
       "97    Actor Chirag Patil has said he thoroughly enjo...\n",
       "98    British actor Henry Cavill is reportedly in ta...\n",
       "99    Oscar-winning actress Helen Mirren has said th...\n",
       "Name: content, Length: 100, dtype: object"
      ]
     },
     "execution_count": 4,
     "metadata": {},
     "output_type": "execute_result"
    }
   ],
   "source": [
    "# Again, this is a look because it has not been reassigned or changed in place.\n",
    "\n",
    "df.content.str.normalize('NFKC').str.encode('ascii', 'ignore').str.decode('utf-8', 'ignore')"
   ]
  },
  {
   "cell_type": "markdown",
   "metadata": {},
   "source": [
    "##### Remove Special Characters Using Regex\n",
    "\n",
    "I found [this article](https://kanoki.org/2019/11/12/how-to-use-regex-in-pandas/) very helpful when using Regex with Pandas!"
   ]
  },
  {
   "cell_type": "code",
   "execution_count": 5,
   "metadata": {},
   "outputs": [
    {
     "data": {
      "text/plain": [
       "'if we want to know if our regex is replacing these or  or   these'"
      ]
     },
     "execution_count": 5,
     "metadata": {},
     "output_type": "execute_result"
    }
   ],
   "source": [
    "# Test our regex on a string first. We will use `.replace()` when we use it on our Series\n",
    "\n",
    "string = 'If we want to know if our regex is replacing [these] or \"\" or ! - these.'\n",
    "\n",
    "string = re.sub(r'[^\\w\\s]', '', string).lower()\n",
    "string"
   ]
  },
  {
   "cell_type": "code",
   "execution_count": 6,
   "metadata": {},
   "outputs": [
    {
     "data": {
      "text/plain": [
       "0     US biotech firm Novavax has announced its buyi...\n",
       "1     Twitters billionaire CEO Jack Dorsey has donat...\n",
       "2     Google is exploring an investment in Vodafone ...\n",
       "3     Microsoft is in talks with Mukesh Ambaniled Re...\n",
       "4     Asias richest person Mukesh Ambanis 25yearold ...\n",
       "                            ...                        \n",
       "95    Shah Rukh Khans IPL team Kolkata Knight Riders...\n",
       "96    Director Milap Zaveri has said John Abraham is...\n",
       "97    Actor Chirag Patil has said he thoroughly enjo...\n",
       "98    British actor Henry Cavill is reportedly in ta...\n",
       "99    Oscarwinning actress Helen Mirren has said tha...\n",
       "Name: content, Length: 100, dtype: object"
      ]
     },
     "execution_count": 6,
     "metadata": {},
     "output_type": "execute_result"
    }
   ],
   "source": [
    "# I just want to keep alphanumeric characters and spaces here.\n",
    "# Again, this is a look because it has not been reassigned or changed in place.\n",
    "\n",
    "df.content.replace(r'[^\\w\\s]', '', regex=True)"
   ]
  },
  {
   "cell_type": "code",
   "execution_count": 7,
   "metadata": {},
   "outputs": [],
   "source": [
    "# Now, I can chain these together and assign to my df as a new columm, 'basic_clean'\n",
    "\n",
    "df['basic_clean'] = df.content.str.lower()\\\n",
    "                    .replace(r'[^\\w\\s]', '', regex=True)\\\n",
    "                    .str.normalize('NFKC')\\\n",
    "                    .str.encode('ascii', 'ignore')\\\n",
    "                    .str.decode('utf-8', 'ignore')"
   ]
  },
  {
   "cell_type": "code",
   "execution_count": 8,
   "metadata": {},
   "outputs": [
    {
     "data": {
      "text/html": [
       "<div>\n",
       "<style scoped>\n",
       "    .dataframe tbody tr th:only-of-type {\n",
       "        vertical-align: middle;\n",
       "    }\n",
       "\n",
       "    .dataframe tbody tr th {\n",
       "        vertical-align: top;\n",
       "    }\n",
       "\n",
       "    .dataframe thead th {\n",
       "        text-align: right;\n",
       "    }\n",
       "</style>\n",
       "<table border=\"1\" class=\"dataframe\">\n",
       "  <thead>\n",
       "    <tr style=\"text-align: right;\">\n",
       "      <th></th>\n",
       "      <th>topic</th>\n",
       "      <th>title</th>\n",
       "      <th>author</th>\n",
       "      <th>content</th>\n",
       "      <th>basic_clean</th>\n",
       "    </tr>\n",
       "  </thead>\n",
       "  <tbody>\n",
       "    <tr>\n",
       "      <th>0</th>\n",
       "      <td>business</td>\n",
       "      <td>US firm buys Serum Institute parent's Czech un...</td>\n",
       "      <td>Krishna Veera Vanamali</td>\n",
       "      <td>US biotech firm Novavax has announced it's buy...</td>\n",
       "      <td>us biotech firm novavax has announced its buyi...</td>\n",
       "    </tr>\n",
       "    <tr>\n",
       "      <th>1</th>\n",
       "      <td>business</td>\n",
       "      <td>Twitter CEO donates $10M to project giving $1,...</td>\n",
       "      <td>Pragya Swastik</td>\n",
       "      <td>Twitter's billionaire CEO Jack Dorsey has dona...</td>\n",
       "      <td>twitters billionaire ceo jack dorsey has donat...</td>\n",
       "    </tr>\n",
       "    <tr>\n",
       "      <th>2</th>\n",
       "      <td>business</td>\n",
       "      <td>Google in talks to buy 5% stake in Vodafone Id...</td>\n",
       "      <td>Krishna Veera Vanamali</td>\n",
       "      <td>Google is exploring an investment in Vodafone ...</td>\n",
       "      <td>google is exploring an investment in vodafone ...</td>\n",
       "    </tr>\n",
       "    <tr>\n",
       "      <th>3</th>\n",
       "      <td>business</td>\n",
       "      <td>Microsoft in talks to buy 2.5% stake in Jio fo...</td>\n",
       "      <td>Anushka Dixit</td>\n",
       "      <td>Microsoft is in talks with Mukesh Ambani-led R...</td>\n",
       "      <td>microsoft is in talks with mukesh ambaniled re...</td>\n",
       "    </tr>\n",
       "    <tr>\n",
       "      <th>4</th>\n",
       "      <td>business</td>\n",
       "      <td>25-year-old Anant Ambani joins $65 billion Jio...</td>\n",
       "      <td>Krishna Veera Vanamali</td>\n",
       "      <td>Asia's richest person Mukesh Ambani's 25-year-...</td>\n",
       "      <td>asias richest person mukesh ambanis 25yearold ...</td>\n",
       "    </tr>\n",
       "  </tbody>\n",
       "</table>\n",
       "</div>"
      ],
      "text/plain": [
       "      topic                                              title  \\\n",
       "0  business  US firm buys Serum Institute parent's Czech un...   \n",
       "1  business  Twitter CEO donates $10M to project giving $1,...   \n",
       "2  business  Google in talks to buy 5% stake in Vodafone Id...   \n",
       "3  business  Microsoft in talks to buy 2.5% stake in Jio fo...   \n",
       "4  business  25-year-old Anant Ambani joins $65 billion Jio...   \n",
       "\n",
       "                   author                                            content  \\\n",
       "0  Krishna Veera Vanamali  US biotech firm Novavax has announced it's buy...   \n",
       "1          Pragya Swastik  Twitter's billionaire CEO Jack Dorsey has dona...   \n",
       "2  Krishna Veera Vanamali  Google is exploring an investment in Vodafone ...   \n",
       "3           Anushka Dixit  Microsoft is in talks with Mukesh Ambani-led R...   \n",
       "4  Krishna Veera Vanamali  Asia's richest person Mukesh Ambani's 25-year-...   \n",
       "\n",
       "                                         basic_clean  \n",
       "0  us biotech firm novavax has announced its buyi...  \n",
       "1  twitters billionaire ceo jack dorsey has donat...  \n",
       "2  google is exploring an investment in vodafone ...  \n",
       "3  microsoft is in talks with mukesh ambaniled re...  \n",
       "4  asias richest person mukesh ambanis 25yearold ...  "
      ]
     },
     "execution_count": 8,
     "metadata": {},
     "output_type": "execute_result"
    }
   ],
   "source": [
    "df.head()"
   ]
  },
  {
   "cell_type": "markdown",
   "metadata": {},
   "source": [
    "##### Basic Clean Function"
   ]
  },
  {
   "cell_type": "code",
   "execution_count": 9,
   "metadata": {},
   "outputs": [],
   "source": [
    "def basic_clean(df, col):\n",
    "    '''\n",
    "    This function takes in a df and a string for a column and\n",
    "    returns the df with a new column named 'basic_clean' with the\n",
    "    passed column text normalized.\n",
    "    '''\n",
    "    df['basic_clean'] = df[col].str.lower()\\\n",
    "                    .replace(r'[^\\w\\s]', '', regex=True)\\\n",
    "                    .str.normalize('NFKC')\\\n",
    "                    .str.encode('ascii', 'ignore')\\\n",
    "                    .str.decode('utf-8', 'ignore')\n",
    "    return df"
   ]
  },
  {
   "cell_type": "code",
   "execution_count": 10,
   "metadata": {},
   "outputs": [
    {
     "data": {
      "text/html": [
       "<div>\n",
       "<style scoped>\n",
       "    .dataframe tbody tr th:only-of-type {\n",
       "        vertical-align: middle;\n",
       "    }\n",
       "\n",
       "    .dataframe tbody tr th {\n",
       "        vertical-align: top;\n",
       "    }\n",
       "\n",
       "    .dataframe thead th {\n",
       "        text-align: right;\n",
       "    }\n",
       "</style>\n",
       "<table border=\"1\" class=\"dataframe\">\n",
       "  <thead>\n",
       "    <tr style=\"text-align: right;\">\n",
       "      <th></th>\n",
       "      <th>topic</th>\n",
       "      <th>title</th>\n",
       "      <th>author</th>\n",
       "      <th>content</th>\n",
       "      <th>basic_clean</th>\n",
       "    </tr>\n",
       "  </thead>\n",
       "  <tbody>\n",
       "    <tr>\n",
       "      <th>0</th>\n",
       "      <td>business</td>\n",
       "      <td>US firm buys Serum Institute parent's Czech un...</td>\n",
       "      <td>Krishna Veera Vanamali</td>\n",
       "      <td>US biotech firm Novavax has announced it's buy...</td>\n",
       "      <td>us biotech firm novavax has announced its buyi...</td>\n",
       "    </tr>\n",
       "    <tr>\n",
       "      <th>1</th>\n",
       "      <td>business</td>\n",
       "      <td>Twitter CEO donates $10M to project giving $1,...</td>\n",
       "      <td>Pragya Swastik</td>\n",
       "      <td>Twitter's billionaire CEO Jack Dorsey has dona...</td>\n",
       "      <td>twitters billionaire ceo jack dorsey has donat...</td>\n",
       "    </tr>\n",
       "  </tbody>\n",
       "</table>\n",
       "</div>"
      ],
      "text/plain": [
       "      topic                                              title  \\\n",
       "0  business  US firm buys Serum Institute parent's Czech un...   \n",
       "1  business  Twitter CEO donates $10M to project giving $1,...   \n",
       "\n",
       "                   author                                            content  \\\n",
       "0  Krishna Veera Vanamali  US biotech firm Novavax has announced it's buy...   \n",
       "1          Pragya Swastik  Twitter's billionaire CEO Jack Dorsey has dona...   \n",
       "\n",
       "                                         basic_clean  \n",
       "0  us biotech firm novavax has announced its buyi...  \n",
       "1  twitters billionaire ceo jack dorsey has donat...  "
      ]
     },
     "execution_count": 10,
     "metadata": {},
     "output_type": "execute_result"
    }
   ],
   "source": [
    "df = basic_clean(df, 'content')\n",
    "df.head(2)"
   ]
  },
  {
   "cell_type": "markdown",
   "metadata": {},
   "source": [
    "#### **<font color=orange>So What?</font>**\n",
    "\n",
    "#### Tokenization\n",
    "\n",
    "**Tokenization** - is when you split larger strings of text into smaller pieces or tokens by setting a boundary. You might chunk a sentence into words using a space as a boundary or a paragraph into sentences using punctuation as a boundary.\n",
    "\n",
    "#### **<font color=green>Now What?</font>**\n",
    "\n",
    "##### Using `.split()`\n",
    "\n",
    "Tokenizing using `.split()` is simple but also limited to one delimiter."
   ]
  },
  {
   "cell_type": "code",
   "execution_count": 11,
   "metadata": {},
   "outputs": [],
   "source": [
    "text = 'Knowledge is the compound interest of curiosity. - James Clear'"
   ]
  },
  {
   "cell_type": "code",
   "execution_count": 12,
   "metadata": {},
   "outputs": [
    {
     "data": {
      "text/plain": [
       "['Knowledge',\n",
       " 'is',\n",
       " 'the',\n",
       " 'compound',\n",
       " 'interest',\n",
       " 'of',\n",
       " 'curiosity.',\n",
       " '-',\n",
       " 'James',\n",
       " 'Clear']"
      ]
     },
     "execution_count": 12,
     "metadata": {},
     "output_type": "execute_result"
    }
   ],
   "source": [
    "text.split()"
   ]
  },
  {
   "cell_type": "code",
   "execution_count": 13,
   "metadata": {},
   "outputs": [],
   "source": [
    "text = \"There's the kind of person who is always the victim in any story they tell. Always on the receiving end of some injustice. There's the kind of person who is always the kind of hero of every story they tell. There's the smart person; they delivered the clever put down there.\""
   ]
  },
  {
   "cell_type": "code",
   "execution_count": 14,
   "metadata": {},
   "outputs": [
    {
     "data": {
      "text/plain": [
       "[\"There's the kind of person who is always the victim in any story they tell\",\n",
       " ' Always on the receiving end of some injustice',\n",
       " \" There's the kind of person who is always the kind of hero of every story they tell\",\n",
       " \" There's the smart person; they delivered the clever put down there\",\n",
       " '']"
      ]
     },
     "execution_count": 14,
     "metadata": {},
     "output_type": "execute_result"
    }
   ],
   "source": [
    "text.split('.')"
   ]
  },
  {
   "cell_type": "markdown",
   "metadata": {},
   "source": [
    "##### Using Regex\n",
    "\n",
    "Python Regex Cheatsheet [here](https://www.debuggex.com/cheatsheet/regex/python)."
   ]
  },
  {
   "cell_type": "code",
   "execution_count": 15,
   "metadata": {
    "scrolled": true
   },
   "outputs": [
    {
     "data": {
      "text/plain": [
       "['Knowledge',\n",
       " 'is',\n",
       " 'the',\n",
       " 'compound',\n",
       " 'interest',\n",
       " 'of',\n",
       " 'curiosity',\n",
       " 'James',\n",
       " 'Clear']"
      ]
     },
     "execution_count": 15,
     "metadata": {},
     "output_type": "execute_result"
    }
   ],
   "source": [
    "# Split your text using a regex pattern in .findall()\n",
    "\n",
    "pattern = r'[\\w]+'\n",
    "text = 'Knowledge is the compound interest of curiosity. - James Clear'\n",
    "\n",
    "tokens = re.findall(pattern, text)\n",
    "tokens"
   ]
  },
  {
   "cell_type": "code",
   "execution_count": 16,
   "metadata": {},
   "outputs": [
    {
     "data": {
      "text/plain": [
       "[\"There's the kind of person who is always the victim in any story they tell\",\n",
       " ' Always on the receiving end of some injustice',\n",
       " \" There's the kind of person who is always the kind of hero of every story they tell\",\n",
       " \" There's the smart person\",\n",
       " ' they delivered the clever put down there',\n",
       " '']"
      ]
     },
     "execution_count": 16,
     "metadata": {},
     "output_type": "execute_result"
    }
   ],
   "source": [
    "# Use `.compile()` with .split(text) to split your text on more than one delimiter\n",
    "\n",
    "pattern = re.compile(r'[.;!?]')\n",
    "text = \"There's the kind of person who is always the victim in any story they tell. Always on the receiving end of some injustice. There's the kind of person who is always the kind of hero of every story they tell. There's the smart person; they delivered the clever put down there.\"\n",
    "\n",
    "pattern.split(text)"
   ]
  },
  {
   "cell_type": "markdown",
   "metadata": {},
   "source": [
    "##### Using NLTK Tokenization\n",
    "\n",
    "```python\n",
    "tokenizer = nltk.tokenize.ToktokTokenizer()\n",
    "\n",
    "```\n",
    "\n",
    "```python\n",
    "df[tokenized] = df.col.apply(tokenizer.tokenize)\n",
    "```\n",
    "**<font color=red>I am not going to join the words in my lists back into sentences because this form will be helpful in my next functions.</font>**"
   ]
  },
  {
   "cell_type": "code",
   "execution_count": 17,
   "metadata": {},
   "outputs": [],
   "source": [
    "tokenizer = nltk.tokenize.ToktokTokenizer()"
   ]
  },
  {
   "cell_type": "code",
   "execution_count": 18,
   "metadata": {
    "scrolled": true
   },
   "outputs": [
    {
     "data": {
      "text/plain": [
       "0    [us, biotech, firm, novavax, has, announced, i...\n",
       "1    [twitters, billionaire, ceo, jack, dorsey, has...\n",
       "Name: basic_clean, dtype: object"
      ]
     },
     "execution_count": 18,
     "metadata": {},
     "output_type": "execute_result"
    }
   ],
   "source": [
    "df.basic_clean.apply(tokenizer.tokenize)[:2]"
   ]
  },
  {
   "cell_type": "code",
   "execution_count": 19,
   "metadata": {},
   "outputs": [],
   "source": [
    "# Here we apply nltk's tokenizer to each row, or text, in our basic_clean Series\n",
    "\n",
    "df['clean_tokes'] = df.basic_clean.apply(tokenizer.tokenize)"
   ]
  },
  {
   "cell_type": "code",
   "execution_count": 20,
   "metadata": {},
   "outputs": [
    {
     "data": {
      "text/html": [
       "<div>\n",
       "<style scoped>\n",
       "    .dataframe tbody tr th:only-of-type {\n",
       "        vertical-align: middle;\n",
       "    }\n",
       "\n",
       "    .dataframe tbody tr th {\n",
       "        vertical-align: top;\n",
       "    }\n",
       "\n",
       "    .dataframe thead th {\n",
       "        text-align: right;\n",
       "    }\n",
       "</style>\n",
       "<table border=\"1\" class=\"dataframe\">\n",
       "  <thead>\n",
       "    <tr style=\"text-align: right;\">\n",
       "      <th></th>\n",
       "      <th>basic_clean</th>\n",
       "      <th>clean_tokes</th>\n",
       "    </tr>\n",
       "  </thead>\n",
       "  <tbody>\n",
       "    <tr>\n",
       "      <th>0</th>\n",
       "      <td>us biotech firm novavax has announced its buyi...</td>\n",
       "      <td>[us, biotech, firm, novavax, has, announced, i...</td>\n",
       "    </tr>\n",
       "    <tr>\n",
       "      <th>1</th>\n",
       "      <td>twitters billionaire ceo jack dorsey has donat...</td>\n",
       "      <td>[twitters, billionaire, ceo, jack, dorsey, has...</td>\n",
       "    </tr>\n",
       "  </tbody>\n",
       "</table>\n",
       "</div>"
      ],
      "text/plain": [
       "                                         basic_clean  \\\n",
       "0  us biotech firm novavax has announced its buyi...   \n",
       "1  twitters billionaire ceo jack dorsey has donat...   \n",
       "\n",
       "                                         clean_tokes  \n",
       "0  [us, biotech, firm, novavax, has, announced, i...  \n",
       "1  [twitters, billionaire, ceo, jack, dorsey, has...  "
      ]
     },
     "execution_count": 20,
     "metadata": {},
     "output_type": "execute_result"
    }
   ],
   "source": [
    "df[['basic_clean', 'clean_tokes']].head(2)"
   ]
  },
  {
   "cell_type": "markdown",
   "metadata": {},
   "source": [
    "**<font color=green>Now What?</font>**\n",
    "\n",
    "##### Tokenize Function"
   ]
  },
  {
   "cell_type": "code",
   "execution_count": 21,
   "metadata": {},
   "outputs": [],
   "source": [
    "def tokenize(df, col):\n",
    "    '''\n",
    "    This function takes in a df and a string for a column and\n",
    "    returns a df with a new column named 'clean_tokes' with the\n",
    "    passed column text tokenized and in a list.\n",
    "    '''\n",
    "    tokenizer = nltk.tokenize.ToktokTokenizer()\n",
    "    df['clean_tokes'] = df[col].apply(tokenizer.tokenize)\n",
    "    return df"
   ]
  },
  {
   "cell_type": "code",
   "execution_count": 22,
   "metadata": {},
   "outputs": [
    {
     "data": {
      "text/html": [
       "<div>\n",
       "<style scoped>\n",
       "    .dataframe tbody tr th:only-of-type {\n",
       "        vertical-align: middle;\n",
       "    }\n",
       "\n",
       "    .dataframe tbody tr th {\n",
       "        vertical-align: top;\n",
       "    }\n",
       "\n",
       "    .dataframe thead th {\n",
       "        text-align: right;\n",
       "    }\n",
       "</style>\n",
       "<table border=\"1\" class=\"dataframe\">\n",
       "  <thead>\n",
       "    <tr style=\"text-align: right;\">\n",
       "      <th></th>\n",
       "      <th>basic_clean</th>\n",
       "      <th>clean_tokes</th>\n",
       "    </tr>\n",
       "  </thead>\n",
       "  <tbody>\n",
       "    <tr>\n",
       "      <th>0</th>\n",
       "      <td>us biotech firm novavax has announced its buyi...</td>\n",
       "      <td>[us, biotech, firm, novavax, has, announced, i...</td>\n",
       "    </tr>\n",
       "    <tr>\n",
       "      <th>1</th>\n",
       "      <td>twitters billionaire ceo jack dorsey has donat...</td>\n",
       "      <td>[twitters, billionaire, ceo, jack, dorsey, has...</td>\n",
       "    </tr>\n",
       "  </tbody>\n",
       "</table>\n",
       "</div>"
      ],
      "text/plain": [
       "                                         basic_clean  \\\n",
       "0  us biotech firm novavax has announced its buyi...   \n",
       "1  twitters billionaire ceo jack dorsey has donat...   \n",
       "\n",
       "                                         clean_tokes  \n",
       "0  [us, biotech, firm, novavax, has, announced, i...  \n",
       "1  [twitters, billionaire, ceo, jack, dorsey, has...  "
      ]
     },
     "execution_count": 22,
     "metadata": {},
     "output_type": "execute_result"
    }
   ],
   "source": [
    "df = tokenize(df, 'basic_clean')\n",
    "df[['basic_clean', 'clean_tokes']].head(2)"
   ]
  },
  {
   "cell_type": "markdown",
   "metadata": {},
   "source": [
    "#### **<font color=orange>So What?</font>**\n",
    "\n",
    "#### Stemming\n",
    "\n",
    "**Stemming** - is when you reduce related words in your text to their common stem. It can make it easier when you are searching for a particular word in your text to search for their common stem rather than every form of the word. Stemmers aren't that sophisticated in the way they chop off word endings at their common stems; Spacy, another python NLP library, doesn't even include a stemmer in their library. Spacy only offers the more sophisticated lemmatizer, which we will look at in NLTK next.\n",
    "\n",
    "#### **<font color=green>Now What?</font>**\n",
    "\n",
    "##### Using NLTK PorterStemmer\n",
    "\n",
    "```python\n",
    "ps = nltk.porter.PorterStemmer()\n",
    "```\n",
    "\n",
    "```python\n",
    "stems = df.tokenized_col.apply(lambda row: [ps.stem(word) for word in row])\n",
    "```\n",
    "\n",
    "```python\n",
    "df['stemmed'] = stems.str.join(' ')\n",
    "```"
   ]
  },
  {
   "cell_type": "code",
   "execution_count": 23,
   "metadata": {},
   "outputs": [],
   "source": [
    "# Create porter stemmer\n",
    "\n",
    "ps = nltk.porter.PorterStemmer()"
   ]
  },
  {
   "cell_type": "code",
   "execution_count": 24,
   "metadata": {},
   "outputs": [
    {
     "data": {
      "text/plain": [
       "0    [us, biotech, firm, novavax, ha, announc, it, ...\n",
       "1    [twitter, billionair, ceo, jack, dorsey, ha, d...\n",
       "Name: clean_tokes, dtype: object"
      ]
     },
     "execution_count": 24,
     "metadata": {},
     "output_type": "execute_result"
    }
   ],
   "source": [
    "# Stem each token from our clean_tokes Series of lists\n",
    "\n",
    "stems = df.clean_tokes.apply(lambda row: [ps.stem(word) for word in row])\n",
    "stems.head(2)"
   ]
  },
  {
   "cell_type": "code",
   "execution_count": 25,
   "metadata": {},
   "outputs": [],
   "source": [
    "# Join our cleaned, stemmed lists of words back into sentences\n",
    "\n",
    "df['stemmed'] = stems.str.join(' ')"
   ]
  },
  {
   "cell_type": "code",
   "execution_count": 26,
   "metadata": {},
   "outputs": [
    {
     "data": {
      "text/html": [
       "<div>\n",
       "<style scoped>\n",
       "    .dataframe tbody tr th:only-of-type {\n",
       "        vertical-align: middle;\n",
       "    }\n",
       "\n",
       "    .dataframe tbody tr th {\n",
       "        vertical-align: top;\n",
       "    }\n",
       "\n",
       "    .dataframe thead th {\n",
       "        text-align: right;\n",
       "    }\n",
       "</style>\n",
       "<table border=\"1\" class=\"dataframe\">\n",
       "  <thead>\n",
       "    <tr style=\"text-align: right;\">\n",
       "      <th></th>\n",
       "      <th>basic_clean</th>\n",
       "      <th>stemmed</th>\n",
       "    </tr>\n",
       "  </thead>\n",
       "  <tbody>\n",
       "    <tr>\n",
       "      <th>0</th>\n",
       "      <td>us biotech firm novavax has announced its buying czech republicbased praha vaccines a unit of cyrus poonawalla group which also owns serum institute of india for 1270 crore the facility is expected to provide an annual capacity of over 1 billion doses of antigen starting in 2021 for novavaxs cov...</td>\n",
       "      <td>us biotech firm novavax ha announc it buy czech republicbas praha vaccin a unit of cyru poonawalla group which also own serum institut of india for 1270 crore the facil is expect to provid an annual capac of over 1 billion dose of antigen start in 2021 for novavax covid19 vaccin candid novavax c...</td>\n",
       "    </tr>\n",
       "    <tr>\n",
       "      <th>1</th>\n",
       "      <td>twitters billionaire ceo jack dorsey has donated 10 million to project 100 which will give 1000 in cash to american families who have been affected by the covid19 pandemic other donors to project 100 include alphabet and google ceo sundar pichai microsoft cofounder bill gates and others dorsey a...</td>\n",
       "      <td>twitter billionair ceo jack dorsey ha donat 10 million to project 100 which will give 1000 in cash to american famili who have been affect by the covid19 pandem other donor to project 100 includ alphabet and googl ceo sundar pichai microsoft cofound bill gate and other dorsey also donat 10 milli...</td>\n",
       "    </tr>\n",
       "  </tbody>\n",
       "</table>\n",
       "</div>"
      ],
      "text/plain": [
       "                                                                                                                                                                                                                                                                                                   basic_clean  \\\n",
       "0  us biotech firm novavax has announced its buying czech republicbased praha vaccines a unit of cyrus poonawalla group which also owns serum institute of india for 1270 crore the facility is expected to provide an annual capacity of over 1 billion doses of antigen starting in 2021 for novavaxs cov...   \n",
       "1  twitters billionaire ceo jack dorsey has donated 10 million to project 100 which will give 1000 in cash to american families who have been affected by the covid19 pandemic other donors to project 100 include alphabet and google ceo sundar pichai microsoft cofounder bill gates and others dorsey a...   \n",
       "\n",
       "                                                                                                                                                                                                                                                                                                       stemmed  \n",
       "0  us biotech firm novavax ha announc it buy czech republicbas praha vaccin a unit of cyru poonawalla group which also own serum institut of india for 1270 crore the facil is expect to provid an annual capac of over 1 billion dose of antigen start in 2021 for novavax covid19 vaccin candid novavax c...  \n",
       "1  twitter billionair ceo jack dorsey ha donat 10 million to project 100 which will give 1000 in cash to american famili who have been affect by the covid19 pandem other donor to project 100 includ alphabet and googl ceo sundar pichai microsoft cofound bill gate and other dorsey also donat 10 milli...  "
      ]
     },
     "execution_count": 26,
     "metadata": {},
     "output_type": "execute_result"
    }
   ],
   "source": [
    "# We can do a quick visual check that our stemmer is working.\n",
    "\n",
    "pd.options.display.max_colwidth = 300\n",
    "df[['basic_clean', 'stemmed']].head(2)"
   ]
  },
  {
   "cell_type": "markdown",
   "metadata": {},
   "source": [
    "**<font color=green>Now What?</font>**\n",
    "\n",
    "##### Stem Function"
   ]
  },
  {
   "cell_type": "code",
   "execution_count": 27,
   "metadata": {},
   "outputs": [],
   "source": [
    "def stem(df, col):\n",
    "    '''\n",
    "    This function takes in a df and a string for a column name and\n",
    "    returns a df with a new column named 'stemmed'.\n",
    "    '''\n",
    "    # Create porter stemmer\n",
    "    ps = nltk.porter.PorterStemmer()\n",
    "    \n",
    "    # Stem each token from our clean_tokes Series of lists\n",
    "    stems = df[col].apply(lambda row: [ps.stem(word) for word in row])\n",
    "    \n",
    "    # Join our cleaned, stemmed lists of words back into sentences\n",
    "    df['stemmed'] = stems.str.join(' ')\n",
    "    \n",
    "    return df"
   ]
  },
  {
   "cell_type": "code",
   "execution_count": 28,
   "metadata": {},
   "outputs": [
    {
     "data": {
      "text/html": [
       "<div>\n",
       "<style scoped>\n",
       "    .dataframe tbody tr th:only-of-type {\n",
       "        vertical-align: middle;\n",
       "    }\n",
       "\n",
       "    .dataframe tbody tr th {\n",
       "        vertical-align: top;\n",
       "    }\n",
       "\n",
       "    .dataframe thead th {\n",
       "        text-align: right;\n",
       "    }\n",
       "</style>\n",
       "<table border=\"1\" class=\"dataframe\">\n",
       "  <thead>\n",
       "    <tr style=\"text-align: right;\">\n",
       "      <th></th>\n",
       "      <th>basic_clean</th>\n",
       "      <th>stemmed</th>\n",
       "    </tr>\n",
       "  </thead>\n",
       "  <tbody>\n",
       "    <tr>\n",
       "      <th>98</th>\n",
       "      <td>british actor henry cavill is reportedly in talks to reprise the role of supermanclark kent for an upcoming dc movie the actor will play a cameo in one of dcs upcoming films which include aquaman 2 the suicide squad and the batman reports added cavill has previously played superman in man of ste...</td>\n",
       "      <td>british actor henri cavil is reportedli in talk to repris the role of supermanclark kent for an upcom dc movi the actor will play a cameo in one of dc upcom film which includ aquaman 2 the suicid squad and the batman report ad cavil ha previous play superman in man of steel batman v superman and...</td>\n",
       "    </tr>\n",
       "    <tr>\n",
       "      <th>99</th>\n",
       "      <td>oscarwinning actress helen mirren has said that she doesnt agree when she is called a sex symbol the great thing about getting older is that you get over all that you tend to think sex symbol what the fk does that mean she added there are so many other interesting things to be driven by helen fu...</td>\n",
       "      <td>oscarwin actress helen mirren ha said that she doesnt agre when she is call a sex symbol the great thing about get older is that you get over all that you tend to think sex symbol what the fk doe that mean she ad there are so mani other interest thing to be driven by helen further said</td>\n",
       "    </tr>\n",
       "  </tbody>\n",
       "</table>\n",
       "</div>"
      ],
      "text/plain": [
       "                                                                                                                                                                                                                                                                                                    basic_clean  \\\n",
       "98  british actor henry cavill is reportedly in talks to reprise the role of supermanclark kent for an upcoming dc movie the actor will play a cameo in one of dcs upcoming films which include aquaman 2 the suicide squad and the batman reports added cavill has previously played superman in man of ste...   \n",
       "99  oscarwinning actress helen mirren has said that she doesnt agree when she is called a sex symbol the great thing about getting older is that you get over all that you tend to think sex symbol what the fk does that mean she added there are so many other interesting things to be driven by helen fu...   \n",
       "\n",
       "                                                                                                                                                                                                                                                                                                        stemmed  \n",
       "98  british actor henri cavil is reportedli in talk to repris the role of supermanclark kent for an upcom dc movi the actor will play a cameo in one of dc upcom film which includ aquaman 2 the suicid squad and the batman report ad cavil ha previous play superman in man of steel batman v superman and...  \n",
       "99               oscarwin actress helen mirren ha said that she doesnt agre when she is call a sex symbol the great thing about get older is that you get over all that you tend to think sex symbol what the fk doe that mean she ad there are so mani other interest thing to be driven by helen further said  "
      ]
     },
     "execution_count": 28,
     "metadata": {},
     "output_type": "execute_result"
    }
   ],
   "source": [
    "df = stem(df, 'clean_tokes')\n",
    "df[['basic_clean', 'stemmed']].tail(2)"
   ]
  },
  {
   "cell_type": "markdown",
   "metadata": {},
   "source": [
    "#### **<font color=orange>So What?</font>**\n",
    "\n",
    "#### Lemmatization\n",
    "\n",
    "**Lemmatization** - is when you reduce related words in your text to their lemma or word base by applying a morphological analysis to your text. Like stemming, this is done to reduce the number of forms you have of the same word, so they can be analyzed as a single item. However, with stemming, you might end up with tokens that are not actually words anymore after they have been chopped off at their base, but with lemmatization you will end up with real words. A drawback of lemmatization is that it takes longer than stemming; you can try both to see which gives you better results as you analyze a given text.\n",
    "\n",
    "#### **<font color=green>Now What?</font>**\n",
    "\n",
    "##### Using NLTK WordNetLemmatizer\n",
    "\n",
    "```python\n",
    "nltk.download('wordnet')\n",
    "```\n",
    "\n",
    "```python\n",
    "wnl = nltk.stem.WordNetLemmatizer()\n",
    "```\n",
    "\n",
    "```python\n",
    "lemmas = df.tokenized_col.apply(lambda row: [wnl.lemmatize(word) for word in row])\n",
    "```\n",
    "\n",
    "```python\n",
    "df['lemmatized'] = lemmas.str.join(' ')\n",
    "```"
   ]
  },
  {
   "cell_type": "code",
   "execution_count": 29,
   "metadata": {},
   "outputs": [],
   "source": [
    "# Create the Lemmatizer\n",
    "\n",
    "wnl = nltk.stem.WordNetLemmatizer()"
   ]
  },
  {
   "cell_type": "code",
   "execution_count": 30,
   "metadata": {},
   "outputs": [
    {
     "data": {
      "text/plain": [
       "0    [u, biotech, firm, novavax, ha, announced, it, buying, czech, republicbased, praha, vaccine, a, unit, of, cyrus, poonawalla, group, which, also, owns, serum, institute, of, india, for, 1270, crore, the, facility, is, expected, to, provide, an, annual, capacity, of, over, 1, billion, dos, of, ant...\n",
       "1    [twitter, billionaire, ceo, jack, dorsey, ha, donated, 10, million, to, project, 100, which, will, give, 1000, in, cash, to, american, family, who, have, been, affected, by, the, covid19, pandemic, other, donor, to, project, 100, include, alphabet, and, google, ceo, sundar, pichai, microsoft, co...\n",
       "Name: clean_tokes, dtype: object"
      ]
     },
     "execution_count": 30,
     "metadata": {},
     "output_type": "execute_result"
    }
   ],
   "source": [
    "# Lemmatize each token from our clean_tokes Series of lists\n",
    "\n",
    "lemmas = df.clean_tokes.apply(lambda row: [wnl.lemmatize(word) for word in row])\n",
    "lemmas.head(2)"
   ]
  },
  {
   "cell_type": "code",
   "execution_count": 31,
   "metadata": {},
   "outputs": [],
   "source": [
    "# Join our cleaned, lemmatized lists of words back into sentences\n",
    "\n",
    "df['lemmatized'] = lemmas.str.join(' ')"
   ]
  },
  {
   "cell_type": "code",
   "execution_count": 32,
   "metadata": {},
   "outputs": [
    {
     "data": {
      "text/html": [
       "<div>\n",
       "<style scoped>\n",
       "    .dataframe tbody tr th:only-of-type {\n",
       "        vertical-align: middle;\n",
       "    }\n",
       "\n",
       "    .dataframe tbody tr th {\n",
       "        vertical-align: top;\n",
       "    }\n",
       "\n",
       "    .dataframe thead th {\n",
       "        text-align: right;\n",
       "    }\n",
       "</style>\n",
       "<table border=\"1\" class=\"dataframe\">\n",
       "  <thead>\n",
       "    <tr style=\"text-align: right;\">\n",
       "      <th></th>\n",
       "      <th>basic_clean</th>\n",
       "      <th>lemmatized</th>\n",
       "    </tr>\n",
       "  </thead>\n",
       "  <tbody>\n",
       "    <tr>\n",
       "      <th>0</th>\n",
       "      <td>us biotech firm novavax has announced its buying czech republicbased praha vaccines a unit of cyrus poonawalla group which also owns serum institute of india for 1270 crore the facility is expected to provide an annual capacity of over 1 billion doses of antigen starting in 2021 for novavaxs cov...</td>\n",
       "      <td>u biotech firm novavax ha announced it buying czech republicbased praha vaccine a unit of cyrus poonawalla group which also owns serum institute of india for 1270 crore the facility is expected to provide an annual capacity of over 1 billion dos of antigen starting in 2021 for novavaxs covid19 v...</td>\n",
       "    </tr>\n",
       "    <tr>\n",
       "      <th>1</th>\n",
       "      <td>twitters billionaire ceo jack dorsey has donated 10 million to project 100 which will give 1000 in cash to american families who have been affected by the covid19 pandemic other donors to project 100 include alphabet and google ceo sundar pichai microsoft cofounder bill gates and others dorsey a...</td>\n",
       "      <td>twitter billionaire ceo jack dorsey ha donated 10 million to project 100 which will give 1000 in cash to american family who have been affected by the covid19 pandemic other donor to project 100 include alphabet and google ceo sundar pichai microsoft cofounder bill gate and others dorsey also do...</td>\n",
       "    </tr>\n",
       "  </tbody>\n",
       "</table>\n",
       "</div>"
      ],
      "text/plain": [
       "                                                                                                                                                                                                                                                                                                   basic_clean  \\\n",
       "0  us biotech firm novavax has announced its buying czech republicbased praha vaccines a unit of cyrus poonawalla group which also owns serum institute of india for 1270 crore the facility is expected to provide an annual capacity of over 1 billion doses of antigen starting in 2021 for novavaxs cov...   \n",
       "1  twitters billionaire ceo jack dorsey has donated 10 million to project 100 which will give 1000 in cash to american families who have been affected by the covid19 pandemic other donors to project 100 include alphabet and google ceo sundar pichai microsoft cofounder bill gates and others dorsey a...   \n",
       "\n",
       "                                                                                                                                                                                                                                                                                                    lemmatized  \n",
       "0  u biotech firm novavax ha announced it buying czech republicbased praha vaccine a unit of cyrus poonawalla group which also owns serum institute of india for 1270 crore the facility is expected to provide an annual capacity of over 1 billion dos of antigen starting in 2021 for novavaxs covid19 v...  \n",
       "1  twitter billionaire ceo jack dorsey ha donated 10 million to project 100 which will give 1000 in cash to american family who have been affected by the covid19 pandemic other donor to project 100 include alphabet and google ceo sundar pichai microsoft cofounder bill gate and others dorsey also do...  "
      ]
     },
     "execution_count": 32,
     "metadata": {},
     "output_type": "execute_result"
    }
   ],
   "source": [
    "df[['basic_clean', 'lemmatized']].head(2)"
   ]
  },
  {
   "cell_type": "code",
   "execution_count": 33,
   "metadata": {},
   "outputs": [
    {
     "data": {
      "text/plain": [
       "False"
      ]
     },
     "execution_count": 33,
     "metadata": {},
     "output_type": "execute_result"
    }
   ],
   "source": [
    "# Just a quick sanity check that these are actually changing something...\n",
    "\n",
    "df.stemmed.iloc[98] == df.lemmatized.iloc[98]"
   ]
  },
  {
   "cell_type": "markdown",
   "metadata": {},
   "source": [
    "**<font color=green>Now What?</font>**\n",
    "\n",
    "##### Lemmatize Function"
   ]
  },
  {
   "cell_type": "code",
   "execution_count": 34,
   "metadata": {},
   "outputs": [],
   "source": [
    "def lemmatize(df, col):\n",
    "    '''\n",
    "    This function takes in a df and a string for column name and\n",
    "    returns the original df with a new column called 'lemmatized'.\n",
    "    '''\n",
    "    # Create the lemmatizer\n",
    "    wnl = nltk.stem.WordNetLemmatizer()\n",
    "    \n",
    "    # Lemmatize each token from our clean_tokes Series of lists\n",
    "    lemmas = df[col].apply(lambda row: [wnl.lemmatize(word) for word in row])\n",
    "    \n",
    "    # Join the cleaned and lemmatized tokens back into sentences\n",
    "    df['lemmatized'] = lemmas.str.join(' ')\n",
    "    return df"
   ]
  },
  {
   "cell_type": "code",
   "execution_count": 35,
   "metadata": {},
   "outputs": [
    {
     "data": {
      "text/html": [
       "<div>\n",
       "<style scoped>\n",
       "    .dataframe tbody tr th:only-of-type {\n",
       "        vertical-align: middle;\n",
       "    }\n",
       "\n",
       "    .dataframe tbody tr th {\n",
       "        vertical-align: top;\n",
       "    }\n",
       "\n",
       "    .dataframe thead th {\n",
       "        text-align: right;\n",
       "    }\n",
       "</style>\n",
       "<table border=\"1\" class=\"dataframe\">\n",
       "  <thead>\n",
       "    <tr style=\"text-align: right;\">\n",
       "      <th></th>\n",
       "      <th>basic_clean</th>\n",
       "      <th>lemmatized</th>\n",
       "    </tr>\n",
       "  </thead>\n",
       "  <tbody>\n",
       "    <tr>\n",
       "      <th>0</th>\n",
       "      <td>us biotech firm novavax has announced its buying czech republicbased praha vaccines a unit of cyrus poonawalla group which also owns serum institute of india for 1270 crore the facility is expected to provide an annual capacity of over 1 billion doses of antigen starting in 2021 for novavaxs cov...</td>\n",
       "      <td>u biotech firm novavax ha announced it buying czech republicbased praha vaccine a unit of cyrus poonawalla group which also owns serum institute of india for 1270 crore the facility is expected to provide an annual capacity of over 1 billion dos of antigen starting in 2021 for novavaxs covid19 v...</td>\n",
       "    </tr>\n",
       "    <tr>\n",
       "      <th>1</th>\n",
       "      <td>twitters billionaire ceo jack dorsey has donated 10 million to project 100 which will give 1000 in cash to american families who have been affected by the covid19 pandemic other donors to project 100 include alphabet and google ceo sundar pichai microsoft cofounder bill gates and others dorsey a...</td>\n",
       "      <td>twitter billionaire ceo jack dorsey ha donated 10 million to project 100 which will give 1000 in cash to american family who have been affected by the covid19 pandemic other donor to project 100 include alphabet and google ceo sundar pichai microsoft cofounder bill gate and others dorsey also do...</td>\n",
       "    </tr>\n",
       "  </tbody>\n",
       "</table>\n",
       "</div>"
      ],
      "text/plain": [
       "                                                                                                                                                                                                                                                                                                   basic_clean  \\\n",
       "0  us biotech firm novavax has announced its buying czech republicbased praha vaccines a unit of cyrus poonawalla group which also owns serum institute of india for 1270 crore the facility is expected to provide an annual capacity of over 1 billion doses of antigen starting in 2021 for novavaxs cov...   \n",
       "1  twitters billionaire ceo jack dorsey has donated 10 million to project 100 which will give 1000 in cash to american families who have been affected by the covid19 pandemic other donors to project 100 include alphabet and google ceo sundar pichai microsoft cofounder bill gates and others dorsey a...   \n",
       "\n",
       "                                                                                                                                                                                                                                                                                                    lemmatized  \n",
       "0  u biotech firm novavax ha announced it buying czech republicbased praha vaccine a unit of cyrus poonawalla group which also owns serum institute of india for 1270 crore the facility is expected to provide an annual capacity of over 1 billion dos of antigen starting in 2021 for novavaxs covid19 v...  \n",
       "1  twitter billionaire ceo jack dorsey ha donated 10 million to project 100 which will give 1000 in cash to american family who have been affected by the covid19 pandemic other donor to project 100 include alphabet and google ceo sundar pichai microsoft cofounder bill gate and others dorsey also do...  "
      ]
     },
     "execution_count": 35,
     "metadata": {},
     "output_type": "execute_result"
    }
   ],
   "source": [
    "df = lemmatize(df, 'clean_tokes')\n",
    "df[['basic_clean', 'lemmatized']].head(2)"
   ]
  },
  {
   "cell_type": "markdown",
   "metadata": {},
   "source": [
    "#### **<font color=orange>So What?</font>**\n",
    "\n",
    "#### Stopwords\n",
    "\n",
    "**Stopwords** - are words which are filtered out during the preparation of your text for analyzation and modeling. Stopwords are those that offer little to the meaning of your text and are basically just adding noise to your analysis. Or, as Ryan Orsinger would say, \"Stopwords aren't the real story of the document.\" Words such as 'the', 'and', 'a', and the like can be removed, so you can better focus on the good stuff. \n",
    "\n",
    "#### **<font color=green>Now What?</font>**\n",
    "\n",
    "##### Using NLTK Stopwords\n",
    "\n",
    "```python\n",
    "import nltk; nltk.download('stopwords')\n",
    "```\n",
    "\n",
    "```python\n",
    "stopword_list = stopwords.words('english')\n",
    "```\n",
    "\n",
    "```python\n",
    "words = df.col.str.split()\n",
    "```\n",
    "\n",
    "```python\n",
    "filtered_words = words.apply(lambda row: [word for word in row if word not in stopword_list])\n",
    "```\n",
    "\n",
    "```python\n",
    "df['clean_words'] = filtered_words.str.join(' ')\n",
    "```"
   ]
  },
  {
   "cell_type": "code",
   "execution_count": 36,
   "metadata": {},
   "outputs": [],
   "source": [
    "# Create the list of stopwords\n",
    "\n",
    "stopword_list = stopwords.words('english')"
   ]
  },
  {
   "cell_type": "code",
   "execution_count": 37,
   "metadata": {},
   "outputs": [],
   "source": [
    "# Split words in lemmatized column\n",
    "\n",
    "words = df.lemmatized.str.split()\n",
    "\n",
    "# Check each word in each row of the column against stopword_list and return only those that are not in list\n",
    "\n",
    "filtered_words = words.apply(lambda row: [word for word in row if word not in stopword_list])\n",
    "df['clean_lemmatized'] = filtered_words.str.join(' ')"
   ]
  },
  {
   "cell_type": "code",
   "execution_count": 38,
   "metadata": {},
   "outputs": [
    {
     "data": {
      "text/html": [
       "<div>\n",
       "<style scoped>\n",
       "    .dataframe tbody tr th:only-of-type {\n",
       "        vertical-align: middle;\n",
       "    }\n",
       "\n",
       "    .dataframe tbody tr th {\n",
       "        vertical-align: top;\n",
       "    }\n",
       "\n",
       "    .dataframe thead th {\n",
       "        text-align: right;\n",
       "    }\n",
       "</style>\n",
       "<table border=\"1\" class=\"dataframe\">\n",
       "  <thead>\n",
       "    <tr style=\"text-align: right;\">\n",
       "      <th></th>\n",
       "      <th>basic_clean</th>\n",
       "      <th>clean_lemmatized</th>\n",
       "    </tr>\n",
       "  </thead>\n",
       "  <tbody>\n",
       "    <tr>\n",
       "      <th>0</th>\n",
       "      <td>us biotech firm novavax has announced its buying czech republicbased praha vaccines a unit of cyrus poonawalla group which also owns serum institute of india for 1270 crore the facility is expected to provide an annual capacity of over 1 billion doses of antigen starting in 2021 for novavaxs cov...</td>\n",
       "      <td>u biotech firm novavax ha announced buying czech republicbased praha vaccine unit cyrus poonawalla group also owns serum institute india 1270 crore facility expected provide annual capacity 1 billion dos antigen starting 2021 novavaxs covid19 vaccine candidate novavax currently ha product market</td>\n",
       "    </tr>\n",
       "    <tr>\n",
       "      <th>1</th>\n",
       "      <td>twitters billionaire ceo jack dorsey has donated 10 million to project 100 which will give 1000 in cash to american families who have been affected by the covid19 pandemic other donors to project 100 include alphabet and google ceo sundar pichai microsoft cofounder bill gates and others dorsey a...</td>\n",
       "      <td>twitter billionaire ceo jack dorsey ha donated 10 million project 100 give 1000 cash american family affected covid19 pandemic donor project 100 include alphabet google ceo sundar pichai microsoft cofounder bill gate others dorsey also donated 10 million month help u prison fight covid19</td>\n",
       "    </tr>\n",
       "  </tbody>\n",
       "</table>\n",
       "</div>"
      ],
      "text/plain": [
       "                                                                                                                                                                                                                                                                                                   basic_clean  \\\n",
       "0  us biotech firm novavax has announced its buying czech republicbased praha vaccines a unit of cyrus poonawalla group which also owns serum institute of india for 1270 crore the facility is expected to provide an annual capacity of over 1 billion doses of antigen starting in 2021 for novavaxs cov...   \n",
       "1  twitters billionaire ceo jack dorsey has donated 10 million to project 100 which will give 1000 in cash to american families who have been affected by the covid19 pandemic other donors to project 100 include alphabet and google ceo sundar pichai microsoft cofounder bill gates and others dorsey a...   \n",
       "\n",
       "                                                                                                                                                                                                                                                                                           clean_lemmatized  \n",
       "0  u biotech firm novavax ha announced buying czech republicbased praha vaccine unit cyrus poonawalla group also owns serum institute india 1270 crore facility expected provide annual capacity 1 billion dos antigen starting 2021 novavaxs covid19 vaccine candidate novavax currently ha product market  \n",
       "1          twitter billionaire ceo jack dorsey ha donated 10 million project 100 give 1000 cash american family affected covid19 pandemic donor project 100 include alphabet google ceo sundar pichai microsoft cofounder bill gate others dorsey also donated 10 million month help u prison fight covid19  "
      ]
     },
     "execution_count": 38,
     "metadata": {},
     "output_type": "execute_result"
    }
   ],
   "source": [
    "df[['basic_clean', 'clean_lemmatized']].head(2)"
   ]
  },
  {
   "cell_type": "code",
   "execution_count": 39,
   "metadata": {},
   "outputs": [],
   "source": [
    "# Do the same as above but for stemmed words\n",
    "\n",
    "words = df.stemmed.str.split()\n",
    "\n",
    "filtered_words = words.apply(lambda row: [word for word in row if word not in stopword_list])\n",
    "df['clean_stemmed'] = filtered_words.str.join(' ')"
   ]
  },
  {
   "cell_type": "code",
   "execution_count": 40,
   "metadata": {},
   "outputs": [
    {
     "data": {
      "text/html": [
       "<div>\n",
       "<style scoped>\n",
       "    .dataframe tbody tr th:only-of-type {\n",
       "        vertical-align: middle;\n",
       "    }\n",
       "\n",
       "    .dataframe tbody tr th {\n",
       "        vertical-align: top;\n",
       "    }\n",
       "\n",
       "    .dataframe thead th {\n",
       "        text-align: right;\n",
       "    }\n",
       "</style>\n",
       "<table border=\"1\" class=\"dataframe\">\n",
       "  <thead>\n",
       "    <tr style=\"text-align: right;\">\n",
       "      <th></th>\n",
       "      <th>basic_clean</th>\n",
       "      <th>clean_stemmed</th>\n",
       "    </tr>\n",
       "  </thead>\n",
       "  <tbody>\n",
       "    <tr>\n",
       "      <th>0</th>\n",
       "      <td>us biotech firm novavax has announced its buying czech republicbased praha vaccines a unit of cyrus poonawalla group which also owns serum institute of india for 1270 crore the facility is expected to provide an annual capacity of over 1 billion doses of antigen starting in 2021 for novavaxs cov...</td>\n",
       "      <td>us biotech firm novavax ha announc buy czech republicbas praha vaccin unit cyru poonawalla group also serum institut india 1270 crore facil expect provid annual capac 1 billion dose antigen start 2021 novavax covid19 vaccin candid novavax current ha product market</td>\n",
       "    </tr>\n",
       "    <tr>\n",
       "      <th>1</th>\n",
       "      <td>twitters billionaire ceo jack dorsey has donated 10 million to project 100 which will give 1000 in cash to american families who have been affected by the covid19 pandemic other donors to project 100 include alphabet and google ceo sundar pichai microsoft cofounder bill gates and others dorsey a...</td>\n",
       "      <td>twitter billionair ceo jack dorsey ha donat 10 million project 100 give 1000 cash american famili affect covid19 pandem donor project 100 includ alphabet googl ceo sundar pichai microsoft cofound bill gate dorsey also donat 10 million thi month help us prison fight covid19</td>\n",
       "    </tr>\n",
       "  </tbody>\n",
       "</table>\n",
       "</div>"
      ],
      "text/plain": [
       "                                                                                                                                                                                                                                                                                                   basic_clean  \\\n",
       "0  us biotech firm novavax has announced its buying czech republicbased praha vaccines a unit of cyrus poonawalla group which also owns serum institute of india for 1270 crore the facility is expected to provide an annual capacity of over 1 billion doses of antigen starting in 2021 for novavaxs cov...   \n",
       "1  twitters billionaire ceo jack dorsey has donated 10 million to project 100 which will give 1000 in cash to american families who have been affected by the covid19 pandemic other donors to project 100 include alphabet and google ceo sundar pichai microsoft cofounder bill gates and others dorsey a...   \n",
       "\n",
       "                                                                                                                                                                                                                                                                       clean_stemmed  \n",
       "0           us biotech firm novavax ha announc buy czech republicbas praha vaccin unit cyru poonawalla group also serum institut india 1270 crore facil expect provid annual capac 1 billion dose antigen start 2021 novavax covid19 vaccin candid novavax current ha product market  \n",
       "1  twitter billionair ceo jack dorsey ha donat 10 million project 100 give 1000 cash american famili affect covid19 pandem donor project 100 includ alphabet googl ceo sundar pichai microsoft cofound bill gate dorsey also donat 10 million thi month help us prison fight covid19  "
      ]
     },
     "execution_count": 40,
     "metadata": {},
     "output_type": "execute_result"
    }
   ],
   "source": [
    "df[['basic_clean', 'clean_stemmed']].head(2)"
   ]
  },
  {
   "cell_type": "markdown",
   "metadata": {},
   "source": [
    "**<font color=green>Now What?</font>**\n",
    "\n",
    "##### Stopwords Function"
   ]
  },
  {
   "cell_type": "code",
   "execution_count": 41,
   "metadata": {},
   "outputs": [],
   "source": [
    "def remove_stopwords(df, col, extra_words=[]):\n",
    "    '''\n",
    "    This function takes in a df and a string for column name, optional extra_words parameter\n",
    "    if you want to add extra stopwords and returns the df with a new column \n",
    "    named 'clean' with stopwords removed.\n",
    "    '''\n",
    "    # Create stopword_list\n",
    "    stopword_list = stopwords.words('english')\n",
    "    \n",
    "    # Add optional additional stopwords\n",
    "    stopword_list.extend(extra_words)\n",
    "    \n",
    "    # Split words in column\n",
    "    words = df[col].str.split()\n",
    "    \n",
    "    # Check each word in each row of the column against stopword_list and return only those that are not in list\n",
    "    filtered_words = words.apply(lambda row: [word for word in row if word not in stopword_list])\n",
    "    \n",
    "    # Create new column of words that have stopwords removed\n",
    "    df['clean_' + col] = filtered_words.str.join(' ')\n",
    "    \n",
    "    return df"
   ]
  },
  {
   "cell_type": "code",
   "execution_count": 42,
   "metadata": {},
   "outputs": [
    {
     "data": {
      "text/html": [
       "<div>\n",
       "<style scoped>\n",
       "    .dataframe tbody tr th:only-of-type {\n",
       "        vertical-align: middle;\n",
       "    }\n",
       "\n",
       "    .dataframe tbody tr th {\n",
       "        vertical-align: top;\n",
       "    }\n",
       "\n",
       "    .dataframe thead th {\n",
       "        text-align: right;\n",
       "    }\n",
       "</style>\n",
       "<table border=\"1\" class=\"dataframe\">\n",
       "  <thead>\n",
       "    <tr style=\"text-align: right;\">\n",
       "      <th></th>\n",
       "      <th>basic_clean</th>\n",
       "      <th>clean_lemmatized</th>\n",
       "    </tr>\n",
       "  </thead>\n",
       "  <tbody>\n",
       "    <tr>\n",
       "      <th>0</th>\n",
       "      <td>us biotech firm novavax has announced its buying czech republicbased praha vaccines a unit of cyrus poonawalla group which also owns serum institute of india for 1270 crore the facility is expected to provide an annual capacity of over 1 billion doses of antigen starting in 2021 for novavaxs cov...</td>\n",
       "      <td>u biotech firm novavax ha announced buying czech republicbased praha vaccine unit cyrus poonawalla group also owns serum institute india 1270 crore facility expected provide annual capacity 1 billion dos antigen starting 2021 novavaxs covid19 vaccine candidate novavax currently ha product market</td>\n",
       "    </tr>\n",
       "    <tr>\n",
       "      <th>1</th>\n",
       "      <td>twitters billionaire ceo jack dorsey has donated 10 million to project 100 which will give 1000 in cash to american families who have been affected by the covid19 pandemic other donors to project 100 include alphabet and google ceo sundar pichai microsoft cofounder bill gates and others dorsey a...</td>\n",
       "      <td>twitter billionaire ceo jack dorsey ha donated 10 million project 100 give 1000 cash american family affected covid19 pandemic donor project 100 include alphabet google ceo sundar pichai microsoft cofounder bill gate others dorsey also donated 10 million month help u prison fight covid19</td>\n",
       "    </tr>\n",
       "  </tbody>\n",
       "</table>\n",
       "</div>"
      ],
      "text/plain": [
       "                                                                                                                                                                                                                                                                                                   basic_clean  \\\n",
       "0  us biotech firm novavax has announced its buying czech republicbased praha vaccines a unit of cyrus poonawalla group which also owns serum institute of india for 1270 crore the facility is expected to provide an annual capacity of over 1 billion doses of antigen starting in 2021 for novavaxs cov...   \n",
       "1  twitters billionaire ceo jack dorsey has donated 10 million to project 100 which will give 1000 in cash to american families who have been affected by the covid19 pandemic other donors to project 100 include alphabet and google ceo sundar pichai microsoft cofounder bill gates and others dorsey a...   \n",
       "\n",
       "                                                                                                                                                                                                                                                                                           clean_lemmatized  \n",
       "0  u biotech firm novavax ha announced buying czech republicbased praha vaccine unit cyrus poonawalla group also owns serum institute india 1270 crore facility expected provide annual capacity 1 billion dos antigen starting 2021 novavaxs covid19 vaccine candidate novavax currently ha product market  \n",
       "1          twitter billionaire ceo jack dorsey ha donated 10 million project 100 give 1000 cash american family affected covid19 pandemic donor project 100 include alphabet google ceo sundar pichai microsoft cofounder bill gate others dorsey also donated 10 million month help u prison fight covid19  "
      ]
     },
     "execution_count": 42,
     "metadata": {},
     "output_type": "execute_result"
    }
   ],
   "source": [
    "df = remove_stopwords(df, 'lemmatized')\n",
    "df[['basic_clean', 'clean_lemmatized']].head(2)"
   ]
  },
  {
   "cell_type": "markdown",
   "metadata": {},
   "source": [
    "#### **<font color=green>Now What?</font>**\n",
    "\n",
    "#### Prep Article Function"
   ]
  },
  {
   "cell_type": "code",
   "execution_count": 43,
   "metadata": {},
   "outputs": [],
   "source": [
    "df = get_news_articles()"
   ]
  },
  {
   "cell_type": "code",
   "execution_count": 44,
   "metadata": {},
   "outputs": [],
   "source": [
    "def prep_article_data(df):\n",
    "    '''\n",
    "    This function takes in the news articles df and\n",
    "    returns the df with original columns plus cleaned\n",
    "    and lemmatized content without stopwords.\n",
    "    '''\n",
    "    # Do basic clean on article content\n",
    "    df = basic_clean(df, 'content')\n",
    "    \n",
    "    # Tokenize clean article content\n",
    "    df = tokenize(df, 'basic_clean')\n",
    "    \n",
    "    # Stem cleaned and tokenized article content\n",
    "    df = stem(df, 'clean_tokes')\n",
    "    \n",
    "    # Remove stopwords from Lemmatized article content\n",
    "    df = remove_stopwords(df, 'stemmed')\n",
    "    \n",
    "    # Lemmatize cleaned and tokenized article content\n",
    "    df = lemmatize(df, 'clean_tokes')\n",
    "    \n",
    "    # Remove stopwords from Lemmatized article content\n",
    "    df = remove_stopwords(df, 'lemmatized')\n",
    "    \n",
    "    return df[['topic', 'title', 'author', 'content', 'clean_stemmed', 'clean_lemmatized']]"
   ]
  },
  {
   "cell_type": "code",
   "execution_count": 45,
   "metadata": {},
   "outputs": [
    {
     "data": {
      "text/html": [
       "<div>\n",
       "<style scoped>\n",
       "    .dataframe tbody tr th:only-of-type {\n",
       "        vertical-align: middle;\n",
       "    }\n",
       "\n",
       "    .dataframe tbody tr th {\n",
       "        vertical-align: top;\n",
       "    }\n",
       "\n",
       "    .dataframe thead th {\n",
       "        text-align: right;\n",
       "    }\n",
       "</style>\n",
       "<table border=\"1\" class=\"dataframe\">\n",
       "  <thead>\n",
       "    <tr style=\"text-align: right;\">\n",
       "      <th></th>\n",
       "      <th>topic</th>\n",
       "      <th>title</th>\n",
       "      <th>author</th>\n",
       "      <th>content</th>\n",
       "      <th>clean_stemmed</th>\n",
       "      <th>clean_lemmatized</th>\n",
       "    </tr>\n",
       "  </thead>\n",
       "  <tbody>\n",
       "    <tr>\n",
       "      <th>0</th>\n",
       "      <td>business</td>\n",
       "      <td>US firm buys Serum Institute parent's Czech unit to make Covid-19 vaccine</td>\n",
       "      <td>Krishna Veera Vanamali</td>\n",
       "      <td>US biotech firm Novavax has announced it's buying Czech Republic-based Praha Vaccines, a unit of Cyrus Poonawalla Group, which also owns Serum Institute of India, for ₹1,270 crore. The facility is expected to provide an annual capacity of over 1 billion doses of antigen starting in 2021 for Nova...</td>\n",
       "      <td>us biotech firm novavax ha announc buy czech republicbas praha vaccin unit cyru poonawalla group also serum institut india 1270 crore facil expect provid annual capac 1 billion dose antigen start 2021 novavax covid19 vaccin candid novavax current ha product market</td>\n",
       "      <td>u biotech firm novavax ha announced buying czech republicbased praha vaccine unit cyrus poonawalla group also owns serum institute india 1270 crore facility expected provide annual capacity 1 billion dos antigen starting 2021 novavaxs covid19 vaccine candidate novavax currently ha product market</td>\n",
       "    </tr>\n",
       "    <tr>\n",
       "      <th>1</th>\n",
       "      <td>business</td>\n",
       "      <td>Twitter CEO donates $10M to project giving $1,000 cash to COVID-19 hit families</td>\n",
       "      <td>Pragya Swastik</td>\n",
       "      <td>Twitter's billionaire CEO Jack Dorsey has donated $10 million to Project 100 which will give $1,000 in cash to American families who have been affected by the COVID-19 pandemic. Other donors to Project 100 include Alphabet and Google CEO Sundar Pichai, Microsoft Co-founder Bill Gates and others....</td>\n",
       "      <td>twitter billionair ceo jack dorsey ha donat 10 million project 100 give 1000 cash american famili affect covid19 pandem donor project 100 includ alphabet googl ceo sundar pichai microsoft cofound bill gate dorsey also donat 10 million thi month help us prison fight covid19</td>\n",
       "      <td>twitter billionaire ceo jack dorsey ha donated 10 million project 100 give 1000 cash american family affected covid19 pandemic donor project 100 include alphabet google ceo sundar pichai microsoft cofounder bill gate others dorsey also donated 10 million month help u prison fight covid19</td>\n",
       "    </tr>\n",
       "  </tbody>\n",
       "</table>\n",
       "</div>"
      ],
      "text/plain": [
       "      topic  \\\n",
       "0  business   \n",
       "1  business   \n",
       "\n",
       "                                                                             title  \\\n",
       "0        US firm buys Serum Institute parent's Czech unit to make Covid-19 vaccine   \n",
       "1  Twitter CEO donates $10M to project giving $1,000 cash to COVID-19 hit families   \n",
       "\n",
       "                   author  \\\n",
       "0  Krishna Veera Vanamali   \n",
       "1          Pragya Swastik   \n",
       "\n",
       "                                                                                                                                                                                                                                                                                                       content  \\\n",
       "0  US biotech firm Novavax has announced it's buying Czech Republic-based Praha Vaccines, a unit of Cyrus Poonawalla Group, which also owns Serum Institute of India, for ₹1,270 crore. The facility is expected to provide an annual capacity of over 1 billion doses of antigen starting in 2021 for Nova...   \n",
       "1  Twitter's billionaire CEO Jack Dorsey has donated $10 million to Project 100 which will give $1,000 in cash to American families who have been affected by the COVID-19 pandemic. Other donors to Project 100 include Alphabet and Google CEO Sundar Pichai, Microsoft Co-founder Bill Gates and others....   \n",
       "\n",
       "                                                                                                                                                                                                                                                                       clean_stemmed  \\\n",
       "0           us biotech firm novavax ha announc buy czech republicbas praha vaccin unit cyru poonawalla group also serum institut india 1270 crore facil expect provid annual capac 1 billion dose antigen start 2021 novavax covid19 vaccin candid novavax current ha product market   \n",
       "1  twitter billionair ceo jack dorsey ha donat 10 million project 100 give 1000 cash american famili affect covid19 pandem donor project 100 includ alphabet googl ceo sundar pichai microsoft cofound bill gate dorsey also donat 10 million thi month help us prison fight covid19   \n",
       "\n",
       "                                                                                                                                                                                                                                                                                           clean_lemmatized  \n",
       "0  u biotech firm novavax ha announced buying czech republicbased praha vaccine unit cyrus poonawalla group also owns serum institute india 1270 crore facility expected provide annual capacity 1 billion dos antigen starting 2021 novavaxs covid19 vaccine candidate novavax currently ha product market  \n",
       "1          twitter billionaire ceo jack dorsey ha donated 10 million project 100 give 1000 cash american family affected covid19 pandemic donor project 100 include alphabet google ceo sundar pichai microsoft cofounder bill gate others dorsey also donated 10 million month help u prison fight covid19  "
      ]
     },
     "execution_count": 45,
     "metadata": {},
     "output_type": "execute_result"
    }
   ],
   "source": [
    "df = prep_article_data(df)\n",
    "df.head(2)"
   ]
  }
 ],
 "metadata": {
  "kernelspec": {
   "display_name": "Python 3",
   "language": "python",
   "name": "python3"
  },
  "language_info": {
   "codemirror_mode": {
    "name": "ipython",
    "version": 3
   },
   "file_extension": ".py",
   "mimetype": "text/x-python",
   "name": "python",
   "nbconvert_exporter": "python",
   "pygments_lexer": "ipython3",
   "version": "3.7.4"
  },
  "toc": {
   "base_numbering": 1,
   "nav_menu": {},
   "number_sections": true,
   "sideBar": true,
   "skip_h1_title": true,
   "title_cell": "Table of Contents",
   "title_sidebar": "Contents",
   "toc_cell": true,
   "toc_position": {},
   "toc_section_display": true,
   "toc_window_display": false
  }
 },
 "nbformat": 4,
 "nbformat_minor": 4
}
